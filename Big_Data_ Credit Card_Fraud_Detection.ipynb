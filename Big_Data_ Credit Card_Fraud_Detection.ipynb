{
 "cells": [
  {
   "cell_type": "markdown",
   "metadata": {
    "application/vnd.databricks.v1+cell": {
     "cellMetadata": {
      "byteLimit": 2048000,
      "rowLimit": 10000
     },
     "inputWidgets": {},
     "nuid": "53d2698b-7d95-497f-8d79-87170d247990",
     "showTitle": false,
     "title": ""
    }
   },
   "source": [
    "# Real-Time Credit Card Fraud Detection"
   ]
  },
  {
   "cell_type": "markdown",
   "metadata": {
    "application/vnd.databricks.v1+cell": {
     "cellMetadata": {
      "byteLimit": 2048000,
      "rowLimit": 10000
     },
     "inputWidgets": {},
     "nuid": "e026d554-cc9a-4ac3-9fe9-f4b94c6e1642",
     "showTitle": false,
     "title": ""
    }
   },
   "source": [
    "## Basic Imports and Settings"
   ]
  },
  {
   "cell_type": "code",
   "execution_count": 1,
   "metadata": {
    "ExecuteTime": {
     "end_time": "2023-11-21T14:48:13.136699Z",
     "start_time": "2023-11-21T14:48:12.024676Z"
    },
    "application/vnd.databricks.v1+cell": {
     "cellMetadata": {
      "byteLimit": 2048000,
      "rowLimit": 10000
     },
     "inputWidgets": {},
     "nuid": "5ac2b174-0651-4698-a437-545dda582df8",
     "showTitle": false,
     "title": ""
    }
   },
   "outputs": [
    {
     "name": "stderr",
     "output_type": "stream",
     "text": [
      "/usr/local/Cellar/apache-spark/3.5.0/libexec/python/pyspark/sql/context.py:113: FutureWarning: Deprecated in 3.0.0. Use SparkSession.builder.getOrCreate() instead.\n",
      "  warnings.warn(\n"
     ]
    }
   ],
   "source": [
    "# import modules from pyspark\n",
    "import pyspark\n",
    "from pyspark.sql import SparkSession\n",
    "from pyspark.sql.types import *\n",
    "from pyspark.sql.functions import *\n",
    "from pyspark.sql import SQLContext\n",
    "import pandas as pd\n",
    "import matplotlib.pyplot as plt\n",
    "from pyspark.ml.classification import RandomForestClassifier\n",
    "from pyspark.ml import Pipeline\n",
    "import seaborn as sns\n",
    "\n",
    "# uncomment the following line if running pyspark from the notebook itself\n",
    "# spark = SparkSession.builder.enableHiveSupport().getOrCreate()\n",
    "spark.sparkContext.setLogLevel(\"ERROR\")\n",
    "sqlContext = SQLContext(spark)"
   ]
  },
  {
   "cell_type": "markdown",
   "metadata": {
    "application/vnd.databricks.v1+cell": {
     "cellMetadata": {
      "byteLimit": 2048000,
      "rowLimit": 10000
     },
     "inputWidgets": {},
     "nuid": "c4fa66b5-0bd7-42b2-8002-0deffa9b601f",
     "showTitle": false,
     "title": ""
    }
   },
   "source": [
    "## Loading the Dataset File and Performing Basic Data Type Conversions\n",
    "\n",
    "Source of the dataset: https://www.kaggle.com/datasets/kartik2112/fraud-detection"
   ]
  },
  {
   "cell_type": "code",
   "execution_count": 2,
   "metadata": {
    "ExecuteTime": {
     "end_time": "2023-11-21T14:48:14.723541Z",
     "start_time": "2023-11-21T14:48:14.715316Z"
    },
    "application/vnd.databricks.v1+cell": {
     "cellMetadata": {
      "byteLimit": 2048000,
      "rowLimit": 10000
     },
     "inputWidgets": {},
     "nuid": "798bd71c-72f5-4067-a75f-5b7616e660bb",
     "showTitle": false,
     "title": ""
    }
   },
   "outputs": [],
   "source": [
    "# define a reusable schema for the dataset (will be useful for the real-time portion)\n",
    "ccschema = StructType([\n",
    "    StructField(\"_c0\", IntegerType(), True),\n",
    "    StructField(\"trans_date_trans_time\", TimestampType(), True),\n",
    "    StructField(\"cc_num\", StringType(), True),\n",
    "    StructField(\"merchant\", StringType(), True),\n",
    "    StructField(\"category\", StringType(), True),\n",
    "    StructField(\"amt\", DoubleType(), True),\n",
    "    StructField(\"first\", StringType(), True),\n",
    "    StructField(\"last\", StringType(), True),\n",
    "    StructField(\"gender\", StringType(), True),\n",
    "    StructField(\"street\", StringType(), True),\n",
    "    StructField(\"city\", StringType(), True),\n",
    "    StructField(\"state\", StringType(), True),\n",
    "    StructField(\"zip\", StringType(), True),\n",
    "    StructField(\"lat\", DoubleType(), True),\n",
    "    StructField(\"long\", DoubleType(), True),\n",
    "    StructField(\"city_pop\", DoubleType(), True),\n",
    "    StructField(\"job\", StringType(), True),\n",
    "    StructField(\"dob\", DateType(), True),\n",
    "    StructField(\"trans_num\", StringType(), True),\n",
    "    StructField(\"unix_time\", StringType(), True),\n",
    "    StructField(\"merch_lat\", DoubleType(), True),\n",
    "    StructField(\"merch_long\", DoubleType(), True),\n",
    "    StructField(\"is_fraud\", IntegerType(), True),\n",
    "])"
   ]
  },
  {
   "cell_type": "code",
   "execution_count": 3,
   "metadata": {
    "ExecuteTime": {
     "end_time": "2023-11-21T14:48:17.257898Z",
     "start_time": "2023-11-21T14:48:15.679110Z"
    },
    "application/vnd.databricks.v1+cell": {
     "cellMetadata": {
      "byteLimit": 2048000,
      "rowLimit": 10000
     },
     "inputWidgets": {},
     "nuid": "78258743-1bd7-48ea-b54a-82f0637471e3",
     "showTitle": false,
     "title": ""
    }
   },
   "outputs": [],
   "source": [
    "# Read The data from local folder\n",
    "\n",
    "cc = (spark.read.csv(\"fraudTrain.csv\", schema=ccschema, header=True))\n",
    "cc_test = (spark.read.csv(\"fraudTest.csv\", schema=ccschema, header=True))"
   ]
  },
  {
   "cell_type": "code",
   "execution_count": 0,
   "metadata": {
    "ExecuteTime": {
     "end_time": "2023-11-21T14:48:18.198665Z",
     "start_time": "2023-11-21T14:48:18.195661Z"
    },
    "application/vnd.databricks.v1+cell": {
     "cellMetadata": {
      "byteLimit": 2048000,
      "rowLimit": 10000
     },
     "inputWidgets": {},
     "nuid": "662b3a2b-365c-4f39-8764-5d80d45093a2",
     "showTitle": false,
     "title": ""
    }
   },
   "outputs": [],
   "source": [
    "# Read The data in the context of Databricks\n",
    "\n",
    "# cc = (spark.read.csv(\"s3://group9-ml-project/fraudTrain.csv\", schema=ccschema, header=True))\n",
    "# cc_test = (spark.read.csv(\"s3://group9-ml-project/fraudTest.csv\", schema=ccschema, header=True))"
   ]
  },
  {
   "cell_type": "code",
   "execution_count": 0,
   "metadata": {
    "ExecuteTime": {
     "end_time": "2023-11-21T14:48:19.881120Z",
     "start_time": "2023-11-21T14:48:19.878127Z"
    },
    "application/vnd.databricks.v1+cell": {
     "cellMetadata": {
      "byteLimit": 2048000,
      "rowLimit": 10000
     },
     "inputWidgets": {},
     "nuid": "f785a534-fa69-4474-8844-e78b4a5c08a6",
     "showTitle": false,
     "title": ""
    }
   },
   "outputs": [],
   "source": [
    "# use this code to create some sample data from the main dataset for the purpose\n",
    "# of loading transactions for the real time portion\n",
    "\n",
    "# cc.limit(10).write.option(\"header\",True).csv(\"sample\")"
   ]
  },
  {
   "cell_type": "markdown",
   "metadata": {
    "application/vnd.databricks.v1+cell": {
     "cellMetadata": {
      "byteLimit": 2048000,
      "rowLimit": 10000
     },
     "inputWidgets": {},
     "nuid": "750eac0b-4eb7-48ad-961c-0ef45e6c85ae",
     "showTitle": false,
     "title": ""
    }
   },
   "source": [
    "## Exploratory Data Analysis"
   ]
  },
  {
   "cell_type": "markdown",
   "metadata": {
    "application/vnd.databricks.v1+cell": {
     "cellMetadata": {
      "byteLimit": 2048000,
      "rowLimit": 10000
     },
     "inputWidgets": {},
     "nuid": "76b6fbbf-237e-4274-8e14-4ba90030b5ed",
     "showTitle": false,
     "title": ""
    }
   },
   "source": [
    "### A Look at the Data and its Basic Statistics"
   ]
  },
  {
   "cell_type": "code",
   "execution_count": 0,
   "metadata": {
    "ExecuteTime": {
     "end_time": "2023-11-21T14:48:24.849346Z",
     "start_time": "2023-11-21T14:48:23.128917Z"
    },
    "application/vnd.databricks.v1+cell": {
     "cellMetadata": {
      "byteLimit": 2048000,
      "rowLimit": 10000
     },
     "inputWidgets": {},
     "nuid": "dae7e13a-f45b-4923-96bb-dfb19a7af27b",
     "showTitle": false,
     "title": ""
    }
   },
   "outputs": [
    {
     "data": {
      "text/html": [
       "<div>\n",
       "<style scoped>\n",
       "    .dataframe tbody tr th:only-of-type {\n",
       "        vertical-align: middle;\n",
       "    }\n",
       "\n",
       "    .dataframe tbody tr th {\n",
       "        vertical-align: top;\n",
       "    }\n",
       "\n",
       "    .dataframe thead th {\n",
       "        text-align: right;\n",
       "    }\n",
       "</style>\n",
       "<table border=\"1\" class=\"dataframe\">\n",
       "  <thead>\n",
       "    <tr style=\"text-align: right;\">\n",
       "      <th></th>\n",
       "      <th>_c0</th>\n",
       "      <th>trans_date_trans_time</th>\n",
       "      <th>cc_num</th>\n",
       "      <th>merchant</th>\n",
       "      <th>category</th>\n",
       "      <th>amt</th>\n",
       "      <th>first</th>\n",
       "      <th>last</th>\n",
       "      <th>gender</th>\n",
       "      <th>street</th>\n",
       "      <th>city</th>\n",
       "      <th>state</th>\n",
       "      <th>zip</th>\n",
       "      <th>lat</th>\n",
       "      <th>long</th>\n",
       "      <th>city_pop</th>\n",
       "      <th>job</th>\n",
       "      <th>dob</th>\n",
       "      <th>trans_num</th>\n",
       "      <th>unix_time</th>\n",
       "      <th>merch_lat</th>\n",
       "      <th>merch_long</th>\n",
       "      <th>is_fraud</th>\n",
       "    </tr>\n",
       "  </thead>\n",
       "  <tbody>\n",
       "    <tr>\n",
       "      <th>0</th>\n",
       "      <td>0</td>\n",
       "      <td>2019-01-01 00:00:18</td>\n",
       "      <td>2703186189652095</td>\n",
       "      <td>fraud_Rippin, Kub and Mann</td>\n",
       "      <td>misc_net</td>\n",
       "      <td>4.97</td>\n",
       "      <td>Jennifer</td>\n",
       "      <td>Banks</td>\n",
       "      <td>F</td>\n",
       "      <td>561 Perry Cove</td>\n",
       "      <td>Moravian Falls</td>\n",
       "      <td>NC</td>\n",
       "      <td>28654</td>\n",
       "      <td>36.0788</td>\n",
       "      <td>-81.1781</td>\n",
       "      <td>3495.0</td>\n",
       "      <td>Psychologist, counselling</td>\n",
       "      <td>1988-03-09</td>\n",
       "      <td>0b242abb623afc578575680df30655b9</td>\n",
       "      <td>1325376018</td>\n",
       "      <td>36.011293</td>\n",
       "      <td>-82.048315</td>\n",
       "      <td>0</td>\n",
       "    </tr>\n",
       "    <tr>\n",
       "      <th>1</th>\n",
       "      <td>1</td>\n",
       "      <td>2019-01-01 00:00:44</td>\n",
       "      <td>630423337322</td>\n",
       "      <td>fraud_Heller, Gutmann and Zieme</td>\n",
       "      <td>grocery_pos</td>\n",
       "      <td>107.23</td>\n",
       "      <td>Stephanie</td>\n",
       "      <td>Gill</td>\n",
       "      <td>F</td>\n",
       "      <td>43039 Riley Greens Suite 393</td>\n",
       "      <td>Orient</td>\n",
       "      <td>WA</td>\n",
       "      <td>99160</td>\n",
       "      <td>48.8878</td>\n",
       "      <td>-118.2105</td>\n",
       "      <td>149.0</td>\n",
       "      <td>Special educational needs teacher</td>\n",
       "      <td>1978-06-21</td>\n",
       "      <td>1f76529f8574734946361c461b024d99</td>\n",
       "      <td>1325376044</td>\n",
       "      <td>49.159047</td>\n",
       "      <td>-118.186462</td>\n",
       "      <td>0</td>\n",
       "    </tr>\n",
       "    <tr>\n",
       "      <th>2</th>\n",
       "      <td>2</td>\n",
       "      <td>2019-01-01 00:00:51</td>\n",
       "      <td>38859492057661</td>\n",
       "      <td>fraud_Lind-Buckridge</td>\n",
       "      <td>entertainment</td>\n",
       "      <td>220.11</td>\n",
       "      <td>Edward</td>\n",
       "      <td>Sanchez</td>\n",
       "      <td>M</td>\n",
       "      <td>594 White Dale Suite 530</td>\n",
       "      <td>Malad City</td>\n",
       "      <td>ID</td>\n",
       "      <td>83252</td>\n",
       "      <td>42.1808</td>\n",
       "      <td>-112.2620</td>\n",
       "      <td>4154.0</td>\n",
       "      <td>Nature conservation officer</td>\n",
       "      <td>1962-01-19</td>\n",
       "      <td>a1a22d70485983eac12b5b88dad1cf95</td>\n",
       "      <td>1325376051</td>\n",
       "      <td>43.150704</td>\n",
       "      <td>-112.154481</td>\n",
       "      <td>0</td>\n",
       "    </tr>\n",
       "    <tr>\n",
       "      <th>3</th>\n",
       "      <td>3</td>\n",
       "      <td>2019-01-01 00:01:16</td>\n",
       "      <td>3534093764340240</td>\n",
       "      <td>fraud_Kutch, Hermiston and Farrell</td>\n",
       "      <td>gas_transport</td>\n",
       "      <td>45.00</td>\n",
       "      <td>Jeremy</td>\n",
       "      <td>White</td>\n",
       "      <td>M</td>\n",
       "      <td>9443 Cynthia Court Apt. 038</td>\n",
       "      <td>Boulder</td>\n",
       "      <td>MT</td>\n",
       "      <td>59632</td>\n",
       "      <td>46.2306</td>\n",
       "      <td>-112.1138</td>\n",
       "      <td>1939.0</td>\n",
       "      <td>Patent attorney</td>\n",
       "      <td>1967-01-12</td>\n",
       "      <td>6b849c168bdad6f867558c3793159a81</td>\n",
       "      <td>1325376076</td>\n",
       "      <td>47.034331</td>\n",
       "      <td>-112.561071</td>\n",
       "      <td>0</td>\n",
       "    </tr>\n",
       "    <tr>\n",
       "      <th>4</th>\n",
       "      <td>4</td>\n",
       "      <td>2019-01-01 00:03:06</td>\n",
       "      <td>375534208663984</td>\n",
       "      <td>fraud_Keeling-Crist</td>\n",
       "      <td>misc_pos</td>\n",
       "      <td>41.96</td>\n",
       "      <td>Tyler</td>\n",
       "      <td>Garcia</td>\n",
       "      <td>M</td>\n",
       "      <td>408 Bradley Rest</td>\n",
       "      <td>Doe Hill</td>\n",
       "      <td>VA</td>\n",
       "      <td>24433</td>\n",
       "      <td>38.4207</td>\n",
       "      <td>-79.4629</td>\n",
       "      <td>99.0</td>\n",
       "      <td>Dance movement psychotherapist</td>\n",
       "      <td>1986-03-28</td>\n",
       "      <td>a41d7549acf90789359a9aa5346dcb46</td>\n",
       "      <td>1325376186</td>\n",
       "      <td>38.674999</td>\n",
       "      <td>-78.632459</td>\n",
       "      <td>0</td>\n",
       "    </tr>\n",
       "  </tbody>\n",
       "</table>\n",
       "</div>"
      ],
      "text/plain": [
       "   _c0 trans_date_trans_time            cc_num  ...  merch_lat  merch_long  is_fraud\n",
       "0    0   2019-01-01 00:00:18  2703186189652095  ...  36.011293  -82.048315         0\n",
       "1    1   2019-01-01 00:00:44      630423337322  ...  49.159047 -118.186462         0\n",
       "2    2   2019-01-01 00:00:51    38859492057661  ...  43.150704 -112.154481         0\n",
       "3    3   2019-01-01 00:01:16  3534093764340240  ...  47.034331 -112.561071         0\n",
       "4    4   2019-01-01 00:03:06   375534208663984  ...  38.674999  -78.632459         0\n",
       "\n",
       "[5 rows x 23 columns]"
      ]
     },
     "execution_count": 6,
     "metadata": {},
     "output_type": "execute_result"
    }
   ],
   "source": [
    "# let's look a the first 5 rows\n",
    "pd.DataFrame(cc.take(5), columns=cc.columns)"
   ]
  },
  {
   "cell_type": "code",
   "execution_count": 0,
   "metadata": {
    "ExecuteTime": {
     "end_time": "2023-11-21T14:25:02.836299Z",
     "start_time": "2023-11-21T14:24:44.078099Z"
    },
    "application/vnd.databricks.v1+cell": {
     "cellMetadata": {
      "byteLimit": 2048000,
      "rowLimit": 10000
     },
     "inputWidgets": {},
     "nuid": "fd519a3e-30d3-4409-9fe2-dadf0bf338a8",
     "showTitle": false,
     "title": ""
    }
   },
   "outputs": [
    {
     "data": {
      "text/html": [
       "<div>\n",
       "<style scoped>\n",
       "    .dataframe tbody tr th:only-of-type {\n",
       "        vertical-align: middle;\n",
       "    }\n",
       "\n",
       "    .dataframe tbody tr th {\n",
       "        vertical-align: top;\n",
       "    }\n",
       "\n",
       "    .dataframe thead th {\n",
       "        text-align: right;\n",
       "    }\n",
       "</style>\n",
       "<table border=\"1\" class=\"dataframe\">\n",
       "  <thead>\n",
       "    <tr style=\"text-align: right;\">\n",
       "      <th></th>\n",
       "      <th>summary</th>\n",
       "      <th>_c0</th>\n",
       "      <th>cc_num</th>\n",
       "      <th>merchant</th>\n",
       "      <th>category</th>\n",
       "      <th>amt</th>\n",
       "      <th>first</th>\n",
       "      <th>last</th>\n",
       "      <th>gender</th>\n",
       "      <th>street</th>\n",
       "      <th>city</th>\n",
       "      <th>state</th>\n",
       "      <th>zip</th>\n",
       "      <th>lat</th>\n",
       "      <th>long</th>\n",
       "      <th>city_pop</th>\n",
       "      <th>job</th>\n",
       "      <th>trans_num</th>\n",
       "      <th>unix_time</th>\n",
       "      <th>merch_lat</th>\n",
       "      <th>merch_long</th>\n",
       "      <th>is_fraud</th>\n",
       "    </tr>\n",
       "  </thead>\n",
       "  <tbody>\n",
       "    <tr>\n",
       "      <th>0</th>\n",
       "      <td>count</td>\n",
       "      <td>1296675</td>\n",
       "      <td>1296675</td>\n",
       "      <td>1296675</td>\n",
       "      <td>1296675</td>\n",
       "      <td>1296675</td>\n",
       "      <td>1296675</td>\n",
       "      <td>1296675</td>\n",
       "      <td>1296675</td>\n",
       "      <td>1296675</td>\n",
       "      <td>1296675</td>\n",
       "      <td>1296675</td>\n",
       "      <td>1296675</td>\n",
       "      <td>1296675</td>\n",
       "      <td>1296675</td>\n",
       "      <td>1296675</td>\n",
       "      <td>1296675</td>\n",
       "      <td>1296675</td>\n",
       "      <td>1296675</td>\n",
       "      <td>1296675</td>\n",
       "      <td>1296675</td>\n",
       "      <td>1296675</td>\n",
       "    </tr>\n",
       "    <tr>\n",
       "      <th>1</th>\n",
       "      <td>mean</td>\n",
       "      <td>648337.0</td>\n",
       "      <td>4.1719204207968429E17</td>\n",
       "      <td>None</td>\n",
       "      <td>None</td>\n",
       "      <td>70.35103545606984</td>\n",
       "      <td>None</td>\n",
       "      <td>None</td>\n",
       "      <td>None</td>\n",
       "      <td>None</td>\n",
       "      <td>None</td>\n",
       "      <td>None</td>\n",
       "      <td>48800.67109722945</td>\n",
       "      <td>38.537621614905156</td>\n",
       "      <td>-90.22633537865396</td>\n",
       "      <td>88824.44056297839</td>\n",
       "      <td>None</td>\n",
       "      <td>Infinity</td>\n",
       "      <td>1.3492436367261226E9</td>\n",
       "      <td>38.53733804469928</td>\n",
       "      <td>-90.22646479897182</td>\n",
       "      <td>0.005788651743883394</td>\n",
       "    </tr>\n",
       "    <tr>\n",
       "      <th>2</th>\n",
       "      <td>stddev</td>\n",
       "      <td>374317.9744882685</td>\n",
       "      <td>1.3088064470002368E18</td>\n",
       "      <td>None</td>\n",
       "      <td>None</td>\n",
       "      <td>160.3160385715275</td>\n",
       "      <td>None</td>\n",
       "      <td>None</td>\n",
       "      <td>None</td>\n",
       "      <td>None</td>\n",
       "      <td>None</td>\n",
       "      <td>None</td>\n",
       "      <td>26893.222476485895</td>\n",
       "      <td>5.075808438803925</td>\n",
       "      <td>13.759076946486335</td>\n",
       "      <td>301956.36068875075</td>\n",
       "      <td>None</td>\n",
       "      <td>NaN</td>\n",
       "      <td>1.2841278423356462E7</td>\n",
       "      <td>5.109788369679179</td>\n",
       "      <td>13.771090564792416</td>\n",
       "      <td>0.07586268973125157</td>\n",
       "    </tr>\n",
       "    <tr>\n",
       "      <th>3</th>\n",
       "      <td>min</td>\n",
       "      <td>0</td>\n",
       "      <td>180011453250192</td>\n",
       "      <td>fraud_Abbott-Rogahn</td>\n",
       "      <td>entertainment</td>\n",
       "      <td>1.0</td>\n",
       "      <td>Aaron</td>\n",
       "      <td>Abbott</td>\n",
       "      <td>F</td>\n",
       "      <td>000 Jennifer Mills</td>\n",
       "      <td>Achille</td>\n",
       "      <td>AK</td>\n",
       "      <td>10018</td>\n",
       "      <td>20.0271</td>\n",
       "      <td>-165.6723</td>\n",
       "      <td>23.0</td>\n",
       "      <td>Academic librarian</td>\n",
       "      <td>00000ecad06b03d3a8d34b4e30b5ce3b</td>\n",
       "      <td>1325376018</td>\n",
       "      <td>19.027785</td>\n",
       "      <td>-166.671242</td>\n",
       "      <td>0</td>\n",
       "    </tr>\n",
       "    <tr>\n",
       "      <th>4</th>\n",
       "      <td>max</td>\n",
       "      <td>1296674</td>\n",
       "      <td>676372984911</td>\n",
       "      <td>fraud_Zulauf LLC</td>\n",
       "      <td>travel</td>\n",
       "      <td>28948.9</td>\n",
       "      <td>Zachary</td>\n",
       "      <td>Zuniga</td>\n",
       "      <td>M</td>\n",
       "      <td>99736 Rose Shoals Apt. 504</td>\n",
       "      <td>Zavalla</td>\n",
       "      <td>WY</td>\n",
       "      <td>99783</td>\n",
       "      <td>66.6933</td>\n",
       "      <td>-67.9503</td>\n",
       "      <td>2906700.0</td>\n",
       "      <td>Writer</td>\n",
       "      <td>ffffef9d89e7d02d86efb1d2ba4de008</td>\n",
       "      <td>1371816817</td>\n",
       "      <td>67.510267</td>\n",
       "      <td>-66.950902</td>\n",
       "      <td>1</td>\n",
       "    </tr>\n",
       "  </tbody>\n",
       "</table>\n",
       "</div>"
      ],
      "text/plain": [
       "  summary                _c0  ...          merch_long              is_fraud\n",
       "0   count            1296675  ...             1296675               1296675\n",
       "1    mean           648337.0  ...  -90.22646479897182  0.005788651743883394\n",
       "2  stddev  374317.9744882685  ...  13.771090564792416   0.07586268973125157\n",
       "3     min                  0  ...         -166.671242                     0\n",
       "4     max            1296674  ...          -66.950902                     1\n",
       "\n",
       "[5 rows x 22 columns]"
      ]
     },
     "execution_count": 7,
     "metadata": {},
     "output_type": "execute_result"
    }
   ],
   "source": [
    "# basic statistics\n",
    "cc.describe().toPandas()"
   ]
  },
  {
   "cell_type": "code",
   "execution_count": 0,
   "metadata": {
    "ExecuteTime": {
     "end_time": "2023-11-21T14:30:01.194781Z",
     "start_time": "2023-11-21T14:29:56.764645Z"
    },
    "application/vnd.databricks.v1+cell": {
     "cellMetadata": {
      "byteLimit": 2048000,
      "rowLimit": 10000
     },
     "inputWidgets": {},
     "nuid": "caf09b72-f077-4f6c-9f08-1978f21b42dd",
     "showTitle": false,
     "title": ""
    }
   },
   "outputs": [
    {
     "data": {
      "text/html": [
       "<div>\n",
       "<style scoped>\n",
       "    .dataframe tbody tr th:only-of-type {\n",
       "        vertical-align: middle;\n",
       "    }\n",
       "\n",
       "    .dataframe tbody tr th {\n",
       "        vertical-align: top;\n",
       "    }\n",
       "\n",
       "    .dataframe thead th {\n",
       "        text-align: right;\n",
       "    }\n",
       "</style>\n",
       "<table border=\"1\" class=\"dataframe\">\n",
       "  <thead>\n",
       "    <tr style=\"text-align: right;\">\n",
       "      <th></th>\n",
       "      <th>_c0</th>\n",
       "      <th>trans_date_trans_time</th>\n",
       "      <th>cc_num</th>\n",
       "      <th>merchant</th>\n",
       "      <th>category</th>\n",
       "      <th>amt</th>\n",
       "      <th>first</th>\n",
       "      <th>last</th>\n",
       "      <th>gender</th>\n",
       "      <th>street</th>\n",
       "      <th>city</th>\n",
       "      <th>state</th>\n",
       "      <th>zip</th>\n",
       "      <th>lat</th>\n",
       "      <th>long</th>\n",
       "      <th>city_pop</th>\n",
       "      <th>job</th>\n",
       "      <th>dob</th>\n",
       "      <th>trans_num</th>\n",
       "      <th>unix_time</th>\n",
       "      <th>merch_lat</th>\n",
       "      <th>merch_long</th>\n",
       "      <th>is_fraud</th>\n",
       "    </tr>\n",
       "  </thead>\n",
       "  <tbody>\n",
       "    <tr>\n",
       "      <th>0</th>\n",
       "      <td>0</td>\n",
       "      <td>0</td>\n",
       "      <td>0</td>\n",
       "      <td>0</td>\n",
       "      <td>0</td>\n",
       "      <td>0</td>\n",
       "      <td>0</td>\n",
       "      <td>0</td>\n",
       "      <td>0</td>\n",
       "      <td>0</td>\n",
       "      <td>0</td>\n",
       "      <td>0</td>\n",
       "      <td>0</td>\n",
       "      <td>0</td>\n",
       "      <td>0</td>\n",
       "      <td>0</td>\n",
       "      <td>0</td>\n",
       "      <td>0</td>\n",
       "      <td>0</td>\n",
       "      <td>0</td>\n",
       "      <td>0</td>\n",
       "      <td>0</td>\n",
       "      <td>0</td>\n",
       "    </tr>\n",
       "  </tbody>\n",
       "</table>\n",
       "</div>"
      ],
      "text/plain": [
       "   _c0  trans_date_trans_time  cc_num  ...  merch_lat  merch_long  is_fraud\n",
       "0    0                      0       0  ...          0           0         0\n",
       "\n",
       "[1 rows x 23 columns]"
      ]
     },
     "execution_count": 8,
     "metadata": {},
     "output_type": "execute_result"
    }
   ],
   "source": [
    "# looking to see if there are null values\n",
    "cc.select(*(sum(col(c).isNull().cast(\"int\")).alias(c) for c in cc.columns)).toPandas()"
   ]
  },
  {
   "cell_type": "markdown",
   "metadata": {
    "application/vnd.databricks.v1+cell": {
     "cellMetadata": {
      "byteLimit": 2048000,
      "rowLimit": 10000
     },
     "inputWidgets": {},
     "nuid": "84faa957-4245-4c35-b435-6672c292af11",
     "showTitle": false,
     "title": ""
    }
   },
   "source": [
    "### Visualizing the Data Distribution"
   ]
  },
  {
   "cell_type": "code",
   "execution_count": 0,
   "metadata": {
    "application/vnd.databricks.v1+cell": {
     "cellMetadata": {
      "byteLimit": 2048000,
      "rowLimit": 10000
     },
     "inputWidgets": {},
     "nuid": "a9057e98-1d76-4be2-8e23-4d53d9e513e4",
     "showTitle": false,
     "title": ""
    }
   },
   "outputs": [
    {
     "data": {
      "text/html": [
       "<style scoped>\n",
       "  .table-result-container {\n",
       "    max-height: 300px;\n",
       "    overflow: auto;\n",
       "  }\n",
       "  table, th, td {\n",
       "    border: 1px solid black;\n",
       "    border-collapse: collapse;\n",
       "  }\n",
       "  th, td {\n",
       "    padding: 5px;\n",
       "  }\n",
       "  th {\n",
       "    text-align: left;\n",
       "  }\n",
       "</style><div class='table-result-container'><table class='table-result'><thead style='background-color: white'><tr><th>summary</th><th>_c0</th><th>cc_num</th><th>merchant</th><th>category</th><th>amt</th><th>first</th><th>last</th><th>gender</th><th>street</th><th>city</th><th>state</th><th>zip</th><th>lat</th><th>long</th><th>city_pop</th><th>job</th><th>trans_num</th><th>unix_time</th><th>merch_lat</th><th>merch_long</th><th>is_fraud</th></tr></thead><tbody><tr><td>count</td><td>1852394</td><td>1852394</td><td>1852394</td><td>1852394</td><td>1852394</td><td>1852394</td><td>1852394</td><td>1852394</td><td>1852394</td><td>1852394</td><td>1852394</td><td>1852394</td><td>1852394</td><td>1852394</td><td>1852394</td><td>1852394</td><td>1852394</td><td>1852394</td><td>1852394</td><td>1852394</td><td>1852394</td></tr><tr><td>mean</td><td>537193.4400003455</td><td>4.1738603839368506E17</td><td>null</td><td>null</td><td>70.0635674753856</td><td>null</td><td>null</td><td>null</td><td>null</td><td>null</td><td>null</td><td>48813.25819075207</td><td>38.53931097925599</td><td>-90.22783229070944</td><td>88643.67450931066</td><td>null</td><td>Infinity</td><td>1.3586742188343642E9</td><td>38.538975967059045</td><td>-90.2279395091373</td><td>0.005210014716091717</td></tr><tr><td>stddev</td><td>366910.96048312774</td><td>1.3091152653187328E18</td><td>null</td><td>null</td><td>159.25397477398326</td><td>null</td><td>null</td><td>null</td><td>null</td><td>null</td><td>null</td><td>26881.845965862867</td><td>5.071470391380578</td><td>13.747894882569106</td><td>301487.6183436499</td><td>null</td><td>NaN</td><td>1.8195081387554534E7</td><td>5.105603877592809</td><td>13.759692112582874</td><td>0.0719921749961915</td></tr><tr><td>min</td><td>0</td><td>180011453250192</td><td>fraud_Abbott-Rogahn</td><td>entertainment</td><td>1.0</td><td>Aaron</td><td>Abbott</td><td>F</td><td>000 Jennifer Mills</td><td>Achille</td><td>AK</td><td>10018</td><td>20.0271</td><td>-165.6723</td><td>23.0</td><td>Academic librarian</td><td>00000ecad06b03d3a8d34b4e30b5ce3b</td><td>1325376018</td><td>19.027422</td><td>-166.671575</td><td>0</td></tr><tr><td>max</td><td>1296674</td><td>676372984911</td><td>fraud_Zulauf LLC</td><td>travel</td><td>28948.9</td><td>Zachary</td><td>Zuniga</td><td>M</td><td>99736 Rose Shoals Apt. 504</td><td>Zavalla</td><td>WY</td><td>99921</td><td>66.6933</td><td>-67.9503</td><td>2906700.0</td><td>Writer</td><td>ffffef9d89e7d02d86efb1d2ba4de008</td><td>1388534374</td><td>67.510267</td><td>-66.950902</td><td>1</td></tr></tbody></table></div>"
      ]
     },
     "metadata": {
      "application/vnd.databricks.v1+output": {
       "addedWidgets": {},
       "aggData": [],
       "aggError": "",
       "aggOverflow": false,
       "aggSchema": [],
       "aggSeriesLimitReached": false,
       "aggType": "",
       "arguments": {},
       "columnCustomDisplayInfos": {},
       "data": [
        [
         "count",
         "1852394",
         "1852394",
         "1852394",
         "1852394",
         "1852394",
         "1852394",
         "1852394",
         "1852394",
         "1852394",
         "1852394",
         "1852394",
         "1852394",
         "1852394",
         "1852394",
         "1852394",
         "1852394",
         "1852394",
         "1852394",
         "1852394",
         "1852394",
         "1852394"
        ],
        [
         "mean",
         "537193.4400003455",
         "4.1738603839368506E17",
         null,
         null,
         "70.0635674753856",
         null,
         null,
         null,
         null,
         null,
         null,
         "48813.25819075207",
         "38.53931097925599",
         "-90.22783229070944",
         "88643.67450931066",
         null,
         "Infinity",
         "1.3586742188343642E9",
         "38.538975967059045",
         "-90.2279395091373",
         "0.005210014716091717"
        ],
        [
         "stddev",
         "366910.96048312774",
         "1.3091152653187328E18",
         null,
         null,
         "159.25397477398326",
         null,
         null,
         null,
         null,
         null,
         null,
         "26881.845965862867",
         "5.071470391380578",
         "13.747894882569106",
         "301487.6183436499",
         null,
         "NaN",
         "1.8195081387554534E7",
         "5.105603877592809",
         "13.759692112582874",
         "0.0719921749961915"
        ],
        [
         "min",
         "0",
         "180011453250192",
         "fraud_Abbott-Rogahn",
         "entertainment",
         "1.0",
         "Aaron",
         "Abbott",
         "F",
         "000 Jennifer Mills",
         "Achille",
         "AK",
         "10018",
         "20.0271",
         "-165.6723",
         "23.0",
         "Academic librarian",
         "00000ecad06b03d3a8d34b4e30b5ce3b",
         "1325376018",
         "19.027422",
         "-166.671575",
         "0"
        ],
        [
         "max",
         "1296674",
         "676372984911",
         "fraud_Zulauf LLC",
         "travel",
         "28948.9",
         "Zachary",
         "Zuniga",
         "M",
         "99736 Rose Shoals Apt. 504",
         "Zavalla",
         "WY",
         "99921",
         "66.6933",
         "-67.9503",
         "2906700.0",
         "Writer",
         "ffffef9d89e7d02d86efb1d2ba4de008",
         "1388534374",
         "67.510267",
         "-66.950902",
         "1"
        ]
       ],
       "datasetInfos": [],
       "dbfsResultPath": null,
       "isJsonSchema": true,
       "metadata": {},
       "overflow": false,
       "plotOptions": {
        "customPlotOptions": {},
        "displayType": "table",
        "pivotAggregation": null,
        "pivotColumns": null,
        "xColumns": null,
        "yColumns": null
       },
       "removedWidgets": [],
       "schema": [
        {
         "metadata": "{}",
         "name": "summary",
         "type": "\"string\""
        },
        {
         "metadata": "{}",
         "name": "_c0",
         "type": "\"string\""
        },
        {
         "metadata": "{}",
         "name": "cc_num",
         "type": "\"string\""
        },
        {
         "metadata": "{}",
         "name": "merchant",
         "type": "\"string\""
        },
        {
         "metadata": "{}",
         "name": "category",
         "type": "\"string\""
        },
        {
         "metadata": "{}",
         "name": "amt",
         "type": "\"string\""
        },
        {
         "metadata": "{}",
         "name": "first",
         "type": "\"string\""
        },
        {
         "metadata": "{}",
         "name": "last",
         "type": "\"string\""
        },
        {
         "metadata": "{}",
         "name": "gender",
         "type": "\"string\""
        },
        {
         "metadata": "{}",
         "name": "street",
         "type": "\"string\""
        },
        {
         "metadata": "{}",
         "name": "city",
         "type": "\"string\""
        },
        {
         "metadata": "{}",
         "name": "state",
         "type": "\"string\""
        },
        {
         "metadata": "{}",
         "name": "zip",
         "type": "\"string\""
        },
        {
         "metadata": "{}",
         "name": "lat",
         "type": "\"string\""
        },
        {
         "metadata": "{}",
         "name": "long",
         "type": "\"string\""
        },
        {
         "metadata": "{}",
         "name": "city_pop",
         "type": "\"string\""
        },
        {
         "metadata": "{}",
         "name": "job",
         "type": "\"string\""
        },
        {
         "metadata": "{}",
         "name": "trans_num",
         "type": "\"string\""
        },
        {
         "metadata": "{}",
         "name": "unix_time",
         "type": "\"string\""
        },
        {
         "metadata": "{}",
         "name": "merch_lat",
         "type": "\"string\""
        },
        {
         "metadata": "{}",
         "name": "merch_long",
         "type": "\"string\""
        },
        {
         "metadata": "{}",
         "name": "is_fraud",
         "type": "\"string\""
        }
       ],
       "type": "table"
      }
     },
     "output_type": "display_data"
    }
   ],
   "source": [
    "import matplotlib.pyplot as plt\n",
    "import seaborn as sns\n",
    "\n",
    "combine = cc.union(cc_test)\n",
    "display(combine.describe())"
   ]
  },
  {
   "cell_type": "code",
   "execution_count": 0,
   "metadata": {
    "application/vnd.databricks.v1+cell": {
     "cellMetadata": {
      "byteLimit": 2048000,
      "rowLimit": 10000
     },
     "inputWidgets": {},
     "nuid": "8c14bc1e-bb01-4949-b568-06ce281d2053",
     "showTitle": false,
     "title": ""
    }
   },
   "outputs": [
    {
     "data": {
      "text/plain": [
       "<matplotlib.legend.Legend at 0x7f7664856680>"
      ]
     },
     "execution_count": 10,
     "metadata": {},
     "output_type": "execute_result"
    },
    {
     "data": {
      "image/png": "[encoded data removed]",
      "text/plain": [
       "<Figure size 640x480 with 1 Axes>"
      ]
     },
     "metadata": {},
     "output_type": "display_data"
    }
   ],
   "source": [
    "count_fraud = combine.select('is_fraud').groupby('is_fraud').count().toPandas()\n",
    "\n",
    "plt.pie(count_fraud['count'], labels=count_fraud['is_fraud'], autopct='%1.1f%%', startangle=30)\n",
    "plt.axis('equal')\n",
    "plt.title('Dataset by Fraud Activity')\n",
    "plt.legend(labels=['Fraud', 'No Fraud'])"
   ]
  },
  {
   "cell_type": "code",
   "execution_count": 0,
   "metadata": {
    "ExecuteTime": {
     "end_time": "2023-11-21T14:30:58.242101Z",
     "start_time": "2023-11-21T14:30:19.223208Z"
    },
    "application/vnd.databricks.v1+cell": {
     "cellMetadata": {
      "byteLimit": 2048000,
      "rowLimit": 10000
     },
     "inputWidgets": {},
     "nuid": "352d619f-99a1-492c-8b18-9cebef04f7e1",
     "showTitle": false,
     "title": ""
    }
   },
   "outputs": [
    {
     "data": {
      "image/png": "[encoded data removed]",
      "text/plain": [
       "<Figure size 1500x2000 with 8 Axes>"
      ]
     },
     "metadata": {},
     "output_type": "display_data"
    }
   ],
   "source": [
    "fig, axs = plt.subplots(4 , 2, figsize=(15, 20))\n",
    "fig.suptitle('CC Fraud Data Distribution')\n",
    "\n",
    "for idx, column in enumerate(['amt', 'city_pop', 'lat', 'long', 'merch_lat', 'merch_long', 'unix_time', 'is_fraud']):\n",
    "    # Show histogram of the column\n",
    "    bins, counts = cc.select(column).rdd.flatMap(lambda x: x).map(float).histogram(20)\n",
    "    axs[idx//2][idx%2].set_title(column)\n",
    "    axs[idx//2][idx%2].hist(bins[:-1], bins=bins, weights=counts)\n",
    "    \n",
    "plt.show()"
   ]
  },
  {
   "cell_type": "code",
   "execution_count": 0,
   "metadata": {
    "ExecuteTime": {
     "end_time": "2023-11-21T14:31:26.938275Z",
     "start_time": "2023-11-21T14:31:25.649593Z"
    },
    "application/vnd.databricks.v1+cell": {
     "cellMetadata": {
      "byteLimit": 2048000,
      "rowLimit": 10000
     },
     "inputWidgets": {},
     "nuid": "a728cb02-c2c8-4a85-92dc-0cd5ee9e0964",
     "showTitle": false,
     "title": ""
    }
   },
   "outputs": [
    {
     "data": {
      "text/html": [
       "<div>\n",
       "<style scoped>\n",
       "    .dataframe tbody tr th:only-of-type {\n",
       "        vertical-align: middle;\n",
       "    }\n",
       "\n",
       "    .dataframe tbody tr th {\n",
       "        vertical-align: top;\n",
       "    }\n",
       "\n",
       "    .dataframe thead th {\n",
       "        text-align: right;\n",
       "    }\n",
       "</style>\n",
       "<table border=\"1\" class=\"dataframe\">\n",
       "  <thead>\n",
       "    <tr style=\"text-align: right;\">\n",
       "      <th></th>\n",
       "      <th>category</th>\n",
       "      <th>count</th>\n",
       "    </tr>\n",
       "  </thead>\n",
       "  <tbody>\n",
       "    <tr>\n",
       "      <th>0</th>\n",
       "      <td>travel</td>\n",
       "      <td>40507</td>\n",
       "    </tr>\n",
       "    <tr>\n",
       "      <th>1</th>\n",
       "      <td>misc_net</td>\n",
       "      <td>63287</td>\n",
       "    </tr>\n",
       "    <tr>\n",
       "      <th>2</th>\n",
       "      <td>grocery_pos</td>\n",
       "      <td>123638</td>\n",
       "    </tr>\n",
       "    <tr>\n",
       "      <th>3</th>\n",
       "      <td>kids_pets</td>\n",
       "      <td>113035</td>\n",
       "    </tr>\n",
       "    <tr>\n",
       "      <th>4</th>\n",
       "      <td>shopping_net</td>\n",
       "      <td>97543</td>\n",
       "    </tr>\n",
       "    <tr>\n",
       "      <th>5</th>\n",
       "      <td>grocery_net</td>\n",
       "      <td>45452</td>\n",
       "    </tr>\n",
       "    <tr>\n",
       "      <th>6</th>\n",
       "      <td>food_dining</td>\n",
       "      <td>91461</td>\n",
       "    </tr>\n",
       "    <tr>\n",
       "      <th>7</th>\n",
       "      <td>gas_transport</td>\n",
       "      <td>131659</td>\n",
       "    </tr>\n",
       "    <tr>\n",
       "      <th>8</th>\n",
       "      <td>personal_care</td>\n",
       "      <td>90758</td>\n",
       "    </tr>\n",
       "    <tr>\n",
       "      <th>9</th>\n",
       "      <td>health_fitness</td>\n",
       "      <td>85879</td>\n",
       "    </tr>\n",
       "    <tr>\n",
       "      <th>10</th>\n",
       "      <td>entertainment</td>\n",
       "      <td>94014</td>\n",
       "    </tr>\n",
       "    <tr>\n",
       "      <th>11</th>\n",
       "      <td>home</td>\n",
       "      <td>123115</td>\n",
       "    </tr>\n",
       "    <tr>\n",
       "      <th>12</th>\n",
       "      <td>misc_pos</td>\n",
       "      <td>79655</td>\n",
       "    </tr>\n",
       "    <tr>\n",
       "      <th>13</th>\n",
       "      <td>shopping_pos</td>\n",
       "      <td>116672</td>\n",
       "    </tr>\n",
       "  </tbody>\n",
       "</table>\n",
       "</div>"
      ],
      "text/plain": [
       "          category   count\n",
       "0           travel   40507\n",
       "1         misc_net   63287\n",
       "2      grocery_pos  123638\n",
       "3        kids_pets  113035\n",
       "4     shopping_net   97543\n",
       "5      grocery_net   45452\n",
       "6      food_dining   91461\n",
       "7    gas_transport  131659\n",
       "8    personal_care   90758\n",
       "9   health_fitness   85879\n",
       "10   entertainment   94014\n",
       "11            home  123115\n",
       "12        misc_pos   79655\n",
       "13    shopping_pos  116672"
      ]
     },
     "execution_count": 12,
     "metadata": {},
     "output_type": "execute_result"
    }
   ],
   "source": [
    "cc.select(\"category\").groupby(\"category\").count().toPandas()"
   ]
  },
  {
   "cell_type": "code",
   "execution_count": 0,
   "metadata": {
    "ExecuteTime": {
     "end_time": "2023-11-21T14:31:31.063417Z",
     "start_time": "2023-11-21T14:31:30.144562Z"
    },
    "application/vnd.databricks.v1+cell": {
     "cellMetadata": {
      "byteLimit": 2048000,
      "rowLimit": 10000
     },
     "inputWidgets": {},
     "nuid": "45d4906c-1a4f-4326-a063-ce1939ce9260",
     "showTitle": false,
     "title": ""
    }
   },
   "outputs": [
    {
     "data": {
      "text/html": [
       "<div>\n",
       "<style scoped>\n",
       "    .dataframe tbody tr th:only-of-type {\n",
       "        vertical-align: middle;\n",
       "    }\n",
       "\n",
       "    .dataframe tbody tr th {\n",
       "        vertical-align: top;\n",
       "    }\n",
       "\n",
       "    .dataframe thead th {\n",
       "        text-align: right;\n",
       "    }\n",
       "</style>\n",
       "<table border=\"1\" class=\"dataframe\">\n",
       "  <thead>\n",
       "    <tr style=\"text-align: right;\">\n",
       "      <th></th>\n",
       "      <th>gender</th>\n",
       "      <th>count</th>\n",
       "    </tr>\n",
       "  </thead>\n",
       "  <tbody>\n",
       "    <tr>\n",
       "      <th>0</th>\n",
       "      <td>F</td>\n",
       "      <td>709863</td>\n",
       "    </tr>\n",
       "    <tr>\n",
       "      <th>1</th>\n",
       "      <td>M</td>\n",
       "      <td>586812</td>\n",
       "    </tr>\n",
       "  </tbody>\n",
       "</table>\n",
       "</div>"
      ],
      "text/plain": [
       "  gender   count\n",
       "0      F  709863\n",
       "1      M  586812"
      ]
     },
     "execution_count": 13,
     "metadata": {},
     "output_type": "execute_result"
    }
   ],
   "source": [
    "cc.select(\"gender\").groupby(\"gender\").count().toPandas()"
   ]
  },
  {
   "cell_type": "markdown",
   "metadata": {
    "application/vnd.databricks.v1+cell": {
     "cellMetadata": {
      "byteLimit": 2048000,
      "rowLimit": 10000
     },
     "inputWidgets": {},
     "nuid": "d0e65e77-4ed6-4b40-bbcc-3ac6349d0060",
     "showTitle": false,
     "title": ""
    }
   },
   "source": [
    "### EDA -Fraud as a Function of Hour of Day"
   ]
  },
  {
   "cell_type": "code",
   "execution_count": 0,
   "metadata": {
    "application/vnd.databricks.v1+cell": {
     "cellMetadata": {
      "byteLimit": 2048000,
      "rowLimit": 10000
     },
     "inputWidgets": {},
     "nuid": "6a86b1d7-82ee-492b-a99a-9474f0e022f0",
     "showTitle": false,
     "title": ""
    }
   },
   "outputs": [
    {
     "data": {
      "image/png": "[encoded data removed]",
      "text/plain": [
       "<Figure size 1200x600 with 1 Axes>"
      ]
     },
     "metadata": {},
     "output_type": "display_data"
    }
   ],
   "source": [
    "from pyspark.sql.functions import col, hour\n",
    "from pyspark.sql import SparkSession\n",
    "\n",
    "# Extract hour of day from timestamp\n",
    "cc_prepped = cc.withColumn('hour_of_day', hour('trans_date_trans_time'))\n",
    "\n",
    "# Group by hour_of_day and count fraud occurrences\n",
    "fraud_count_per_hour = cc_prepped.groupBy('hour_of_day').agg(\n",
    "    sum('is_fraud').alias('fraud_count'),\n",
    "    count('is_fraud').alias('total_transactions')\n",
    ")\n",
    "\n",
    "# Calculate the percentage of fraud transactions per hour\n",
    "fraud_count_per_hour = fraud_count_per_hour.withColumn(\n",
    "    'fraud_percentage',\n",
    "    (col('fraud_count') / col('total_transactions')) * 100\n",
    ")\n",
    "\n",
    "# Collect the data for plotting (convert to Pandas DataFrame)\n",
    "fraud_count_per_hour_pandas = fraud_count_per_hour.toPandas()\n",
    "\n",
    "# Plotting using Pandas and Matplotlib\n",
    "import matplotlib.pyplot as plt\n",
    "import seaborn as sns\n",
    "\n",
    "plt.figure(figsize=(12, 6))\n",
    "sns.barplot(x='hour_of_day', y='fraud_percentage', data=fraud_count_per_hour_pandas)\n",
    "plt.title('Fraud Percentage by Hour of Day')\n",
    "plt.xlabel('Hour of Day')\n",
    "plt.ylabel('Fraud Percentage')\n",
    "plt.show()"
   ]
  },
  {
   "cell_type": "markdown",
   "metadata": {
    "application/vnd.databricks.v1+cell": {
     "cellMetadata": {
      "byteLimit": 2048000,
      "rowLimit": 10000
     },
     "inputWidgets": {},
     "nuid": "e9fa6215-49de-4de5-8cc2-b77e8426d39f",
     "showTitle": false,
     "title": ""
    }
   },
   "source": [
    "### EDA-Fraud per category"
   ]
  },
  {
   "cell_type": "code",
   "execution_count": 0,
   "metadata": {
    "application/vnd.databricks.v1+cell": {
     "cellMetadata": {
      "byteLimit": 2048000,
      "rowLimit": 10000
     },
     "inputWidgets": {},
     "nuid": "d7948e9c-4a6a-4847-aaf2-87809638babc",
     "showTitle": false,
     "title": ""
    }
   },
   "outputs": [
    {
     "data": {
      "image/png": "[encoded data removed]",
      "text/plain": [
       "<Figure size 1200x600 with 1 Axes>"
      ]
     },
     "metadata": {},
     "output_type": "display_data"
    }
   ],
   "source": [
    "from pyspark.sql.functions import col, sum, count\n",
    "from pyspark.sql import SparkSession\n",
    "import pandas as pd\n",
    "import matplotlib.pyplot as plt\n",
    "import seaborn as sns\n",
    "from pyspark.sql.functions import when\n",
    "\n",
    "# Group by 'category' and count fraud occurrences\n",
    "fraud_count_per_category = cc_prepped.groupBy('category').agg(\n",
    "    sum('is_fraud').alias('fraud_count'),\n",
    "    count('is_fraud').alias('total_transactions')\n",
    ")\n",
    "# ensure that the fraud_count does not exceed total_transactions\n",
    "fraud_count_per_category = fraud_count_per_category.withColumn(\n",
    "    'fraud_count',\n",
    "    when(col('fraud_count') > col('total_transactions'), col('total_transactions')).otherwise(col('fraud_count'))\n",
    ")\n",
    "\n",
    "# Calculate the percentage of fraud transactions per category, ensuring it does not exceed 100%\n",
    "fraud_count_per_category = fraud_count_per_category.withColumn(\n",
    "    'fraud_percentage',\n",
    "    (col('fraud_count') / col('total_transactions')) * 100\n",
    ")\n",
    "\n",
    "# collect for plotting\n",
    "fraud_count_per_category_pandas = fraud_count_per_category.toPandas()\n",
    "\n",
    "# Sort the DataFrame in descending order of fraud percentage\n",
    "fraud_count_per_category_pandas.sort_values(by='fraud_percentage', ascending=False, inplace=True)\n",
    "\n",
    "# Now let's plot and set the xlim to not exceed 100%\n",
    "plt.figure(figsize=(12, 6))\n",
    "sns.barplot(x='fraud_percentage', y='category', data=fraud_count_per_category_pandas, orient='h')\n",
    "plt.title('Fraud Percentage by Category')\n",
    "plt.xlabel('Fraud Percentage')\n",
    "plt.ylabel('Category')\n",
    "\n",
    "# Set x-axis limit to not exceed 100\n",
    "# plt.xlim(0, 1)\n",
    "plt.show()"
   ]
  },
  {
   "cell_type": "markdown",
   "metadata": {
    "application/vnd.databricks.v1+cell": {
     "cellMetadata": {
      "byteLimit": 2048000,
      "rowLimit": 10000
     },
     "inputWidgets": {},
     "nuid": "0360898f-8bb3-4871-ba12-d78c3c75fe20",
     "showTitle": false,
     "title": ""
    }
   },
   "source": [
    "### EDA-Fraud per vendor"
   ]
  },
  {
   "cell_type": "code",
   "execution_count": 0,
   "metadata": {
    "application/vnd.databricks.v1+cell": {
     "cellMetadata": {
      "byteLimit": 2048000,
      "rowLimit": 10000
     },
     "inputWidgets": {},
     "nuid": "c599c35d-68cd-4a19-a9e0-98fa341bde45",
     "showTitle": false,
     "title": ""
    }
   },
   "outputs": [
    {
     "data": {
      "image/png": "[encoded data removed]",
      "text/plain": [
       "<Figure size 1200x600 with 1 Axes>"
      ]
     },
     "metadata": {},
     "output_type": "display_data"
    }
   ],
   "source": [
    "from pyspark.sql.functions import col, sum, count, when\n",
    "from pyspark.sql import SparkSession\n",
    "\n",
    "# Group by 'merchant' and count fraud occurrences\n",
    "fraud_count_per_merchant = cc_prepped.groupBy('merchant').agg(\n",
    "    sum('is_fraud').alias('fraud_count'),\n",
    "    count('is_fraud').alias('total_transactions')\n",
    ")\n",
    "\n",
    "# Calculate the percentage of fraud transactions per merchant\n",
    "fraud_count_per_merchant = fraud_count_per_merchant.withColumn(\n",
    "    'fraud_percentage',\n",
    "    (col('fraud_count') / col('total_transactions')) * 100\n",
    ")\n",
    "\n",
    "# Collect the data for analysis or plotting (convert to Pandas DataFrame if needed)\n",
    "fraud_count_per_merchant_pandas = fraud_count_per_merchant.toPandas()\n",
    "\n",
    "# If you want to visualize the top N vendors with the highest fraud percentages, you can do:\n",
    "top_n = 10\n",
    "fraud_count_per_merchant_pandas_top_n = fraud_count_per_merchant_pandas.nlargest(top_n, 'fraud_percentage')\n",
    "\n",
    "# Plotting using Pandas and Matplotlib\n",
    "import matplotlib.pyplot as plt\n",
    "import seaborn as sns\n",
    "\n",
    "plt.figure(figsize=(12, 6))\n",
    "sns.barplot(x='fraud_percentage', y='merchant', data=fraud_count_per_merchant_pandas_top_n, orient='h')\n",
    "plt.title('Top {} Merchants by Fraud Percentage'.format(top_n))\n",
    "plt.xlabel('Fraud Percentage')\n",
    "plt.ylabel('Merchant')\n",
    "plt.show()"
   ]
  },
  {
   "cell_type": "markdown",
   "metadata": {
    "application/vnd.databricks.v1+cell": {
     "cellMetadata": {
      "byteLimit": 2048000,
      "rowLimit": 10000
     },
     "inputWidgets": {},
     "nuid": "aa3e762b-3a3e-4f7e-a2d7-57056eb13b54",
     "showTitle": false,
     "title": ""
    }
   },
   "source": [
    "### EDA - Fraud Ratio by Age Group\n",
    "Is fraud more prevalent in certain age groups than others? The analysis below suggests that seniors aged 80+ are more exposed to fraudulent transactions than other groups. This makes age group a potentially viable feature."
   ]
  },
  {
   "cell_type": "code",
   "execution_count": 0,
   "metadata": {
    "application/vnd.databricks.v1+cell": {
     "cellMetadata": {
      "byteLimit": 2048000,
      "rowLimit": 10000
     },
     "inputWidgets": {},
     "nuid": "3e0d1096-acb9-4e9b-b0a2-26764dc3e689",
     "showTitle": false,
     "title": ""
    }
   },
   "outputs": [],
   "source": [
    "# calculate age group from date of birth. Notice the use of the floor function, which\n",
    "# means that a person in the 30-40 age group would be deemed a member of the \"30\" group\n",
    "cc_age = cc.withColumn(\"age_group\", \n",
    "                       floor(months_between(current_date(), \n",
    "                        col(\"dob\"))/12/10)*10)"
   ]
  },
  {
   "cell_type": "code",
   "execution_count": 0,
   "metadata": {
    "application/vnd.databricks.v1+cell": {
     "cellMetadata": {
      "byteLimit": 2048000,
      "rowLimit": 10000
     },
     "inputWidgets": {},
     "nuid": "3a5a8976-0ffa-4209-bf1b-c00c911d8f6e",
     "showTitle": false,
     "title": ""
    }
   },
   "outputs": [],
   "source": [
    "# get histogram of fraudulent transactions by age group\n",
    "bins, counts = (cc_age.where(col(\"is_fraud\")==1.0)\n",
    "                      .select(\"age_group\").rdd.flatMap(lambda x: x)\n",
    "                               .map(float).histogram(list(range(0,110,10))))"
   ]
  },
  {
   "cell_type": "code",
   "execution_count": 0,
   "metadata": {
    "application/vnd.databricks.v1+cell": {
     "cellMetadata": {
      "byteLimit": 2048000,
      "rowLimit": 10000
     },
     "inputWidgets": {},
     "nuid": "ed63d682-6331-42a4-ab8d-7c85f19f161d",
     "showTitle": false,
     "title": ""
    }
   },
   "outputs": [],
   "source": [
    "# get histogram of non-fraudulent transactions by age group\n",
    "bins2, counts2 = (cc_age.where(col(\"is_fraud\")==0.0)\n",
    "                      .select(\"age_group\").rdd.flatMap(lambda x: x)\n",
    "                               .map(float).histogram(list(range(0,110,10))))"
   ]
  },
  {
   "cell_type": "code",
   "execution_count": 0,
   "metadata": {
    "application/vnd.databricks.v1+cell": {
     "cellMetadata": {
      "byteLimit": 2048000,
      "rowLimit": 10000
     },
     "inputWidgets": {},
     "nuid": "98136d67-5b6d-4311-a04b-72fb89893d8d",
     "showTitle": false,
     "title": ""
    }
   },
   "outputs": [],
   "source": [
    "# calculate ratios between fraudulent and non-fraudulent transactions\n",
    "def safediv(arg1, arg2):\n",
    "    return arg1 / arg2 if (arg2 != 0) else 0;\n",
    "\n",
    "ratios = list(map(safediv, counts, counts2))\n",
    "# ratios"
   ]
  },
  {
   "cell_type": "code",
   "execution_count": 0,
   "metadata": {
    "application/vnd.databricks.v1+cell": {
     "cellMetadata": {
      "byteLimit": 2048000,
      "rowLimit": 10000
     },
     "inputWidgets": {},
     "nuid": "4ee760e0-0de1-41dc-81e0-43907ef16caa",
     "showTitle": false,
     "title": ""
    }
   },
   "outputs": [
    {
     "data": {
      "image/png": "[encoded data removed]",
      "text/plain": [
       "<Figure size 1000x500 with 1 Axes>"
      ]
     },
     "metadata": {},
     "output_type": "display_data"
    }
   ],
   "source": [
    "plt.figure(figsize = (10,5))\n",
    "hist = pd.DataFrame(zip(bins,ratios), columns=['age_group','fraud_ratio'])\n",
    "sns.barplot(hist, x=\"age_group\", y=\"fraud_ratio\").set(title='Fraud Ratio by Age Group')\n",
    "plt.show()"
   ]
  },
  {
   "cell_type": "markdown",
   "metadata": {
    "application/vnd.databricks.v1+cell": {
     "cellMetadata": {
      "byteLimit": 2048000,
      "rowLimit": 10000
     },
     "inputWidgets": {},
     "nuid": "9df3512f-f20d-4ead-96d4-53a8bbd71746",
     "showTitle": false,
     "title": ""
    }
   },
   "source": [
    "### EDA - Fraud by Age Group and Gender"
   ]
  },
  {
   "cell_type": "code",
   "execution_count": 0,
   "metadata": {
    "application/vnd.databricks.v1+cell": {
     "cellMetadata": {
      "byteLimit": 2048000,
      "rowLimit": 10000
     },
     "inputWidgets": {},
     "nuid": "5a63635d-602b-4b5a-8cc3-bee25e501fb8",
     "showTitle": false,
     "title": ""
    }
   },
   "outputs": [
    {
     "data": {
      "image/png": "[encoded data removed]",
      "text/plain": [
       "<Figure size 1000x500 with 1 Axes>"
      ]
     },
     "metadata": {},
     "output_type": "display_data"
    }
   ],
   "source": [
    "age_gender = cc_age.groupBy(\"age_group\", \"gender\").agg({\"is_fraud\":\"sum\"}).withColumnRenamed(\"sum(is_fraud)\",\"count\").toPandas()\n",
    "plt.figure(figsize = (10,5))\n",
    "sns.barplot(x=\"age_group\", y=\"count\", hue=\"gender\", data=age_gender).set(title='Fraud Count By Age Group and Gender')\n",
    "plt.xlabel(\"Age Group\")\n",
    "plt.ylabel(\"Fraud Count\")\n",
    "plt.legend(title=\"Gender\")\n",
    "plt.show()"
   ]
  },
  {
   "cell_type": "markdown",
   "metadata": {
    "application/vnd.databricks.v1+cell": {
     "cellMetadata": {
      "byteLimit": 2048000,
      "rowLimit": 10000
     },
     "inputWidgets": {},
     "nuid": "8d209e77-01db-4290-bc67-4989625cd682",
     "showTitle": false,
     "title": ""
    }
   },
   "source": [
    "### EDA - Fraud by Amount\n"
   ]
  },
  {
   "cell_type": "code",
   "execution_count": 0,
   "metadata": {
    "application/vnd.databricks.v1+cell": {
     "cellMetadata": {
      "byteLimit": 2048000,
      "rowLimit": 10000
     },
     "inputWidgets": {},
     "nuid": "ebc0d479-8724-4959-810f-20fee1de1d8b",
     "showTitle": false,
     "title": ""
    }
   },
   "outputs": [
    {
     "data": {
      "text/html": [
       "<div>\n",
       "<style scoped>\n",
       "    .dataframe tbody tr th:only-of-type {\n",
       "        vertical-align: middle;\n",
       "    }\n",
       "\n",
       "    .dataframe tbody tr th {\n",
       "        vertical-align: top;\n",
       "    }\n",
       "\n",
       "    .dataframe thead th {\n",
       "        text-align: right;\n",
       "    }\n",
       "</style>\n",
       "<table border=\"1\" class=\"dataframe\">\n",
       "  <thead>\n",
       "    <tr style=\"text-align: right;\">\n",
       "      <th></th>\n",
       "      <th>summary</th>\n",
       "      <th>_c0</th>\n",
       "      <th>cc_num</th>\n",
       "      <th>merchant</th>\n",
       "      <th>category</th>\n",
       "      <th>amt</th>\n",
       "      <th>first</th>\n",
       "      <th>last</th>\n",
       "      <th>gender</th>\n",
       "      <th>street</th>\n",
       "      <th>city</th>\n",
       "      <th>state</th>\n",
       "      <th>zip</th>\n",
       "      <th>lat</th>\n",
       "      <th>long</th>\n",
       "      <th>city_pop</th>\n",
       "      <th>job</th>\n",
       "      <th>trans_num</th>\n",
       "      <th>unix_time</th>\n",
       "      <th>merch_lat</th>\n",
       "      <th>merch_long</th>\n",
       "      <th>is_fraud</th>\n",
       "    </tr>\n",
       "  </thead>\n",
       "  <tbody>\n",
       "    <tr>\n",
       "      <th>0</th>\n",
       "      <td>count</td>\n",
       "      <td>1296675</td>\n",
       "      <td>1296675</td>\n",
       "      <td>1296675</td>\n",
       "      <td>1296675</td>\n",
       "      <td>1296675</td>\n",
       "      <td>1296675</td>\n",
       "      <td>1296675</td>\n",
       "      <td>1296675</td>\n",
       "      <td>1296675</td>\n",
       "      <td>1296675</td>\n",
       "      <td>1296675</td>\n",
       "      <td>1296675</td>\n",
       "      <td>1296675</td>\n",
       "      <td>1296675</td>\n",
       "      <td>1296675</td>\n",
       "      <td>1296675</td>\n",
       "      <td>1296675</td>\n",
       "      <td>1296675</td>\n",
       "      <td>1296675</td>\n",
       "      <td>1296675</td>\n",
       "      <td>1296675</td>\n",
       "    </tr>\n",
       "    <tr>\n",
       "      <th>1</th>\n",
       "      <td>mean</td>\n",
       "      <td>648337.0</td>\n",
       "      <td>4.1719204207968614E17</td>\n",
       "      <td>None</td>\n",
       "      <td>None</td>\n",
       "      <td>70.35103545607005</td>\n",
       "      <td>None</td>\n",
       "      <td>None</td>\n",
       "      <td>None</td>\n",
       "      <td>None</td>\n",
       "      <td>None</td>\n",
       "      <td>None</td>\n",
       "      <td>48800.67109722945</td>\n",
       "      <td>38.53762161490493</td>\n",
       "      <td>-90.22633537865288</td>\n",
       "      <td>88824.44056297839</td>\n",
       "      <td>None</td>\n",
       "      <td>Infinity</td>\n",
       "      <td>1.3492436367261226E9</td>\n",
       "      <td>38.53733804469969</td>\n",
       "      <td>-90.2264647989728</td>\n",
       "      <td>0.005788651743883394</td>\n",
       "    </tr>\n",
       "    <tr>\n",
       "      <th>2</th>\n",
       "      <td>stddev</td>\n",
       "      <td>374317.9744882697</td>\n",
       "      <td>1.30880644700024013E18</td>\n",
       "      <td>None</td>\n",
       "      <td>None</td>\n",
       "      <td>160.316038571528</td>\n",
       "      <td>None</td>\n",
       "      <td>None</td>\n",
       "      <td>None</td>\n",
       "      <td>None</td>\n",
       "      <td>None</td>\n",
       "      <td>None</td>\n",
       "      <td>26893.222476485873</td>\n",
       "      <td>5.075808438803942</td>\n",
       "      <td>13.759076946486278</td>\n",
       "      <td>301956.3606887512</td>\n",
       "      <td>None</td>\n",
       "      <td>NaN</td>\n",
       "      <td>1.2841278423355842E7</td>\n",
       "      <td>5.109788369679184</td>\n",
       "      <td>13.771090564792434</td>\n",
       "      <td>0.07586268973125172</td>\n",
       "    </tr>\n",
       "    <tr>\n",
       "      <th>3</th>\n",
       "      <td>min</td>\n",
       "      <td>0</td>\n",
       "      <td>180011453250192</td>\n",
       "      <td>fraud_Abbott-Rogahn</td>\n",
       "      <td>entertainment</td>\n",
       "      <td>1.0</td>\n",
       "      <td>Aaron</td>\n",
       "      <td>Abbott</td>\n",
       "      <td>F</td>\n",
       "      <td>000 Jennifer Mills</td>\n",
       "      <td>Achille</td>\n",
       "      <td>AK</td>\n",
       "      <td>10018</td>\n",
       "      <td>20.0271</td>\n",
       "      <td>-165.6723</td>\n",
       "      <td>23.0</td>\n",
       "      <td>Academic librarian</td>\n",
       "      <td>00000ecad06b03d3a8d34b4e30b5ce3b</td>\n",
       "      <td>1325376018</td>\n",
       "      <td>19.027785</td>\n",
       "      <td>-166.671242</td>\n",
       "      <td>0</td>\n",
       "    </tr>\n",
       "    <tr>\n",
       "      <th>4</th>\n",
       "      <td>max</td>\n",
       "      <td>1296674</td>\n",
       "      <td>676372984911</td>\n",
       "      <td>fraud_Zulauf LLC</td>\n",
       "      <td>travel</td>\n",
       "      <td>28948.9</td>\n",
       "      <td>Zachary</td>\n",
       "      <td>Zuniga</td>\n",
       "      <td>M</td>\n",
       "      <td>99736 Rose Shoals Apt. 504</td>\n",
       "      <td>Zavalla</td>\n",
       "      <td>WY</td>\n",
       "      <td>99783</td>\n",
       "      <td>66.6933</td>\n",
       "      <td>-67.9503</td>\n",
       "      <td>2906700.0</td>\n",
       "      <td>Writer</td>\n",
       "      <td>ffffef9d89e7d02d86efb1d2ba4de008</td>\n",
       "      <td>1371816817</td>\n",
       "      <td>67.510267</td>\n",
       "      <td>-66.950902</td>\n",
       "      <td>1</td>\n",
       "    </tr>\n",
       "  </tbody>\n",
       "</table>\n",
       "</div>"
      ],
      "text/plain": [
       "  summary                _c0  ...          merch_long              is_fraud\n",
       "0   count            1296675  ...             1296675               1296675\n",
       "1    mean           648337.0  ...   -90.2264647989728  0.005788651743883394\n",
       "2  stddev  374317.9744882697  ...  13.771090564792434   0.07586268973125172\n",
       "3     min                  0  ...         -166.671242                     0\n",
       "4     max            1296674  ...          -66.950902                     1\n",
       "\n",
       "[5 rows x 22 columns]"
      ]
     },
     "execution_count": 23,
     "metadata": {},
     "output_type": "execute_result"
    }
   ],
   "source": [
    "#drop any duplicates\n",
    "cc = cc.dropDuplicates()\n",
    "cc.describe().toPandas()"
   ]
  },
  {
   "cell_type": "code",
   "execution_count": 0,
   "metadata": {
    "application/vnd.databricks.v1+cell": {
     "cellMetadata": {
      "byteLimit": 2048000,
      "rowLimit": 10000
     },
     "inputWidgets": {},
     "nuid": "f9331099-90ac-4f09-8ec0-9a062326a810",
     "showTitle": false,
     "title": ""
    }
   },
   "outputs": [
    {
     "data": {
      "text/html": [
       "<style scoped>\n",
       "  .table-result-container {\n",
       "    max-height: 300px;\n",
       "    overflow: auto;\n",
       "  }\n",
       "  table, th, td {\n",
       "    border: 1px solid black;\n",
       "    border-collapse: collapse;\n",
       "  }\n",
       "  th, td {\n",
       "    padding: 5px;\n",
       "  }\n",
       "  th {\n",
       "    text-align: left;\n",
       "  }\n",
       "</style><div class='table-result-container'><table class='table-result'><thead style='background-color: white'><tr><th>bins</th><th>is_fraud</th><th>count</th></tr></thead><tbody><tr><td>0.0</td><td>0</td><td>1277186</td></tr><tr><td>1.0</td><td>0</td><td>8996</td></tr><tr><td>0.0</td><td>1</td><td>3858</td></tr><tr><td>1.0</td><td>1</td><td>2698</td></tr><tr><td>2.0</td><td>0</td><td>1691</td></tr><tr><td>2.0</td><td>1</td><td>950</td></tr><tr><td>3.0</td><td>0</td><td>565</td></tr><tr><td>4.0</td><td>0</td><td>244</td></tr><tr><td>5.0</td><td>0</td><td>131</td></tr><tr><td>6.0</td><td>0</td><td>95</td></tr><tr><td>7.0</td><td>0</td><td>60</td></tr><tr><td>8.0</td><td>0</td><td>39</td></tr><tr><td>9.0</td><td>0</td><td>26</td></tr><tr><td>10.0</td><td>0</td><td>21</td></tr><tr><td>11.0</td><td>0</td><td>17</td></tr><tr><td>13.0</td><td>0</td><td>14</td></tr><tr><td>12.0</td><td>0</td><td>11</td></tr><tr><td>16.0</td><td>0</td><td>8</td></tr><tr><td>14.0</td><td>0</td><td>7</td></tr><tr><td>15.0</td><td>0</td><td>7</td></tr><tr><td>17.0</td><td>0</td><td>7</td></tr><tr><td>19.0</td><td>0</td><td>6</td></tr><tr><td>21.0</td><td>0</td><td>5</td></tr><tr><td>23.0</td><td>0</td><td>4</td></tr><tr><td>18.0</td><td>0</td><td>4</td></tr><tr><td>28.0</td><td>0</td><td>4</td></tr><tr><td>25.0</td><td>0</td><td>3</td></tr><tr><td>30.0</td><td>0</td><td>3</td></tr><tr><td>24.0</td><td>0</td><td>2</td></tr><tr><td>54.0</td><td>0</td><td>2</td></tr><tr><td>29.0</td><td>0</td><td>2</td></tr><tr><td>22.0</td><td>0</td><td>2</td></tr><tr><td>26.0</td><td>0</td><td>1</td></tr><tr><td>35.0</td><td>0</td><td>1</td></tr><tr><td>27.0</td><td>0</td><td>1</td></tr><tr><td>53.0</td><td>0</td><td>1</td></tr><tr><td>50.0</td><td>0</td><td>1</td></tr><tr><td>57.0</td><td>0</td><td>1</td></tr><tr><td>20.0</td><td>0</td><td>1</td></tr></tbody></table></div>"
      ]
     },
     "metadata": {
      "application/vnd.databricks.v1+output": {
       "addedWidgets": {},
       "aggData": [],
       "aggError": "",
       "aggOverflow": false,
       "aggSchema": [],
       "aggSeriesLimitReached": false,
       "aggType": "",
       "arguments": {},
       "columnCustomDisplayInfos": {},
       "data": [
        [
         0,
         0,
         1277186
        ],
        [
         1,
         0,
         8996
        ],
        [
         0,
         1,
         3858
        ],
        [
         1,
         1,
         2698
        ],
        [
         2,
         0,
         1691
        ],
        [
         2,
         1,
         950
        ],
        [
         3,
         0,
         565
        ],
        [
         4,
         0,
         244
        ],
        [
         5,
         0,
         131
        ],
        [
         6,
         0,
         95
        ],
        [
         7,
         0,
         60
        ],
        [
         8,
         0,
         39
        ],
        [
         9,
         0,
         26
        ],
        [
         10,
         0,
         21
        ],
        [
         11,
         0,
         17
        ],
        [
         13,
         0,
         14
        ],
        [
         12,
         0,
         11
        ],
        [
         16,
         0,
         8
        ],
        [
         14,
         0,
         7
        ],
        [
         15,
         0,
         7
        ],
        [
         17,
         0,
         7
        ],
        [
         19,
         0,
         6
        ],
        [
         21,
         0,
         5
        ],
        [
         23,
         0,
         4
        ],
        [
         18,
         0,
         4
        ],
        [
         28,
         0,
         4
        ],
        [
         25,
         0,
         3
        ],
        [
         30,
         0,
         3
        ],
        [
         24,
         0,
         2
        ],
        [
         54,
         0,
         2
        ],
        [
         29,
         0,
         2
        ],
        [
         22,
         0,
         2
        ],
        [
         26,
         0,
         1
        ],
        [
         35,
         0,
         1
        ],
        [
         27,
         0,
         1
        ],
        [
         53,
         0,
         1
        ],
        [
         50,
         0,
         1
        ],
        [
         57,
         0,
         1
        ],
        [
         20,
         0,
         1
        ]
       ],
       "datasetInfos": [],
       "dbfsResultPath": null,
       "isJsonSchema": true,
       "metadata": {},
       "overflow": false,
       "plotOptions": {
        "customPlotOptions": {},
        "displayType": "table",
        "pivotAggregation": null,
        "pivotColumns": null,
        "xColumns": null,
        "yColumns": null
       },
       "removedWidgets": [],
       "schema": [
        {
         "metadata": "{\"ml_attr\":{\"ord\":true,\"vals\":[\"0.0, 500.0\",\"500.0, 1000.0\",\"1000.0, 1500.0\",\"1500.0, 2000.0\",\"2000.0, 2500.0\",\"2500.0, 3000.0\",\"3000.0, 3500.0\",\"3500.0, 4000.0\",\"4000.0, 4500.0\",\"4500.0, 5000.0\",\"5000.0, 5500.0\",\"5500.0, 6000.0\",\"6000.0, 6500.0\",\"6500.0, 7000.0\",\"7000.0, 7500.0\",\"7500.0, 8000.0\",\"8000.0, 8500.0\",\"8500.0, 9000.0\",\"9000.0, 9500.0\",\"9500.0, 10000.0\",\"10000.0, 10500.0\",\"10500.0, 11000.0\",\"11000.0, 11500.0\",\"11500.0, 12000.0\",\"12000.0, 12500.0\",\"12500.0, 13000.0\",\"13000.0, 13500.0\",\"13500.0, 14000.0\",\"14000.0, 14500.0\",\"14500.0, 15000.0\",\"15000.0, 15500.0\",\"15500.0, 16000.0\",\"16000.0, 16500.0\",\"16500.0, 17000.0\",\"17000.0, 17500.0\",\"17500.0, 18000.0\",\"18000.0, 18500.0\",\"18500.0, 19000.0\",\"19000.0, 19500.0\",\"19500.0, 20000.0\",\"20000.0, 20500.0\",\"20500.0, 21000.0\",\"21000.0, 21500.0\",\"21500.0, 22000.0\",\"22000.0, 22500.0\",\"22500.0, 23000.0\",\"23000.0, 23500.0\",\"23500.0, 24000.0\",\"24000.0, 24500.0\",\"24500.0, 25000.0\",\"25000.0, 25500.0\",\"25500.0, 26000.0\",\"26000.0, 26500.0\",\"26500.0, 27000.0\",\"27000.0, 27500.0\",\"27500.0, 28000.0\",\"28000.0, 28500.0\",\"28500.0, 29000.0\"],\"type\":\"nominal\"}}",
         "name": "bins",
         "type": "\"double\""
        },
        {
         "metadata": "{}",
         "name": "is_fraud",
         "type": "\"integer\""
        },
        {
         "metadata": "{}",
         "name": "count",
         "type": "\"long\""
        }
       ],
       "type": "table"
      }
     },
     "output_type": "display_data"
    }
   ],
   "source": [
    "from pyspark.ml.feature import Bucketizer\n",
    "\n",
    "#calculate bin edges based on every 500\n",
    "bin_edge = [float(x) for x in range(0, int(cc.agg({'amt':'max'}).collect()[0]['max(amt)'])+100, 500)]\n",
    "\n",
    "bucketizer = Bucketizer(splits=bin_edge, inputCol='amt', outputCol='bins')\n",
    "cc_bin_amt = bucketizer.transform(cc)\n",
    "\n",
    "#group by bins and fraud and count occurences \n",
    "grouped_amt = cc_bin_amt.groupby('bins', 'is_fraud').count()\n",
    "\n",
    "#display based on highest count \n",
    "display(grouped_amt.orderBy('count', ascending=False))\n"
   ]
  },
  {
   "cell_type": "markdown",
   "metadata": {
    "application/vnd.databricks.v1+cell": {
     "cellMetadata": {
      "byteLimit": 2048000,
      "rowLimit": 10000
     },
     "inputWidgets": {},
     "nuid": "1b9db632-dc43-42f7-b325-845376bca380",
     "showTitle": false,
     "title": ""
    }
   },
   "source": [
    "Can see that a large portion of fraud occurs for amount <= 1500"
   ]
  },
  {
   "cell_type": "code",
   "execution_count": 0,
   "metadata": {
    "application/vnd.databricks.v1+cell": {
     "cellMetadata": {
      "byteLimit": 2048000,
      "rowLimit": 10000
     },
     "inputWidgets": {},
     "nuid": "4ae970c2-ff00-4038-bb2e-96743f6c760c",
     "showTitle": false,
     "title": ""
    }
   },
   "outputs": [
    {
     "data": {
      "text/plain": [
       "<matplotlib.legend.Legend at 0x7f76ec885a20>"
      ]
     },
     "execution_count": 25,
     "metadata": {},
     "output_type": "execute_result"
    },
    {
     "data": {
      "image/png": "[encoded data removed]",
      "text/plain": [
       "<Figure size 640x480 with 1 Axes>"
      ]
     },
     "metadata": {},
     "output_type": "display_data"
    }
   ],
   "source": [
    "cc_filter = cc.filter(col('amt')<1500)\n",
    "pd_cc_filter = cc_filter.toPandas()\n",
    "sns.histplot(x='amt',data=pd_cc_filter,hue='is_fraud',stat='percent',multiple='dodge',common_norm=False, bins=30)\n",
    "plt.xlabel('Transaction Amount')\n",
    "plt.ylabel('Percentage of each type')\n",
    "plt.legend(labels=['Fraud', 'No Fraud'])\n"
   ]
  },
  {
   "cell_type": "markdown",
   "metadata": {
    "application/vnd.databricks.v1+cell": {
     "cellMetadata": {
      "byteLimit": 2048000,
      "rowLimit": 10000
     },
     "inputWidgets": {},
     "nuid": "af355621-5cbf-445f-899a-83adbbddf33c",
     "showTitle": false,
     "title": ""
    }
   },
   "source": [
    "Fradulent activity peaks for transactions that are under 300 and then again for transactions between 750-1250. "
   ]
  },
  {
   "cell_type": "markdown",
   "metadata": {
    "application/vnd.databricks.v1+cell": {
     "cellMetadata": {
      "byteLimit": 2048000,
      "rowLimit": 10000
     },
     "inputWidgets": {},
     "nuid": "e0fd7996-c3bd-4d19-8ac5-d1dfad4dc8d6",
     "showTitle": false,
     "title": ""
    }
   },
   "source": [
    "### EDA Preliminary Findings\n",
    "\n",
    "- The data appears to be clean with no missing values and duplicates\n",
    "- Some of the heavily skewed features like amt and city_pop may benefit from logarithmic transformation\n",
    "- The target class (is_fraud) is heavily imbalanced\n",
    "- The fraud percentage is higher in the night between 23: 24pm\n",
    "- Online shopping and miscellaneous internet-based transactions exhibit the highest rates of fraud\n",
    "- The top five merchants with the highest fraud percentages—Kozey-Boehm, Herman LLC, Treutel-Dickens, Kerluke-Abshire, and Brown PLC\n",
    "- Seniors aged 80+ are more likely to be victims of fraud than folks in other age groups.\n",
    "- Gender does not affect likelihood of fradulent activity on credit card\n",
    "- Fradulent activity highest for transactions under <1500"
   ]
  },
  {
   "cell_type": "markdown",
   "metadata": {
    "application/vnd.databricks.v1+cell": {
     "cellMetadata": {
      "byteLimit": 2048000,
      "rowLimit": 10000
     },
     "inputWidgets": {},
     "nuid": "5c088115-b4fe-496c-aafb-e3a538e3894c",
     "showTitle": false,
     "title": ""
    }
   },
   "source": [
    "### Feature Engineering"
   ]
  },
  {
   "cell_type": "markdown",
   "metadata": {
    "application/vnd.databricks.v1+cell": {
     "cellMetadata": {
      "byteLimit": 2048000,
      "rowLimit": 10000
     },
     "inputWidgets": {},
     "nuid": "be5d6eee-8558-47b4-9c8f-328ccc76a248",
     "showTitle": false,
     "title": ""
    }
   },
   "source": [
    "From our EDA above, it is evident that time in the day has a strong correlation with fraud activities. A big portion of the fraudulent transactions take place between the hours of 10pm and 3am. We can make rules surrounding this finding. "
   ]
  },
  {
   "cell_type": "code",
   "execution_count": 0,
   "metadata": {
    "application/vnd.databricks.v1+cell": {
     "cellMetadata": {
      "byteLimit": 2048000,
      "rowLimit": 10000
     },
     "inputWidgets": {},
     "nuid": "f94a1e6b-4324-47ad-8440-c840caf3f94c",
     "showTitle": false,
     "title": ""
    }
   },
   "outputs": [
    {
     "name": "stdout",
     "output_type": "stream",
     "text": [
      "+-------+------------+---------------+-----------+-----------+\n",
      "|hour_24|    category|non_fraud_count|fraud_count|fraud_ratio|\n",
      "+-------+------------+---------------+-----------+-----------+\n",
      "|     22| grocery_pos|            168|        134|      44.37|\n",
      "|     23| grocery_pos|            193|        147|      43.24|\n",
      "|     23|    misc_net|            880|        314|       26.3|\n",
      "|     22|    misc_net|            909|        281|      23.61|\n",
      "|     22|shopping_net|           4570|        702|      13.32|\n",
      "|     23|shopping_net|           4627|        575|      11.05|\n",
      "|     23|shopping_pos|           5782|        292|       4.81|\n",
      "|     22|shopping_pos|           5869|        272|       4.43|\n",
      "|     13| grocery_pos|            169|          7|       3.98|\n",
      "|     16| grocery_pos|            181|          7|       3.72|\n",
      "|     18| grocery_pos|            186|          7|       3.63|\n",
      "|     15| grocery_pos|            173|          6|       3.35|\n",
      "|     14| grocery_pos|            149|          5|       3.25|\n",
      "|     01| grocery_pos|          10008|        315|       3.05|\n",
      "|     00| grocery_pos|           9809|        305|       3.02|\n",
      "|     17| grocery_pos|            163|          5|       2.98|\n",
      "|     12| grocery_pos|            167|          5|       2.91|\n",
      "|     03| grocery_pos|          10106|        302|        2.9|\n",
      "|     02| grocery_pos|          10049|        297|       2.87|\n",
      "|     20| grocery_pos|            151|          4|       2.58|\n",
      "+-------+------------+---------------+-----------+-----------+\n",
      "only showing top 20 rows\n",
      "\n"
     ]
    }
   ],
   "source": [
    "result = (\n",
    "    cc\n",
    "    .groupBy(\n",
    "        expr(\"hour(trans_date_trans_time)\").alias(\"hour_24\"),\n",
    "        \"category\"\n",
    "    )\n",
    "    .agg(\n",
    "        count(expr(\"CASE WHEN is_fraud = 0 THEN trans_num END\")).alias(\"non_fraud_count\"),\n",
    "        count(expr(\"CASE WHEN is_fraud = 1 THEN trans_num END\")).alias(\"fraud_count\")\n",
    "    )\n",
    "    .withColumn(\n",
    "        \"fraud_ratio\",\n",
    "        round(col(\"fraud_count\") * 100.0 / (col(\"non_fraud_count\") + col(\"fraud_count\")), 2)\n",
    "    )\n",
    "    .orderBy(\"fraud_ratio\", ascending=False)\n",
    ")\n",
    "\n",
    "result.show()"
   ]
  },
  {
   "cell_type": "markdown",
   "metadata": {
    "application/vnd.databricks.v1+cell": {
     "cellMetadata": {
      "byteLimit": 2048000,
      "rowLimit": 10000
     },
     "inputWidgets": {},
     "nuid": "840ed921-e07f-4e60-9697-e9abaa50b37e",
     "showTitle": false,
     "title": ""
    }
   },
   "source": [
    "The above shows the riskiest categories paired with the hours in the day. It appears that  groceries_pos, misc_net and shopping_net late night are the riskiest, generating >10% transaction fraud rate. That would be a very strong piece for our fraud detection model."
   ]
  },
  {
   "cell_type": "code",
   "execution_count": 0,
   "metadata": {
    "application/vnd.databricks.v1+cell": {
     "cellMetadata": {
      "byteLimit": 2048000,
      "rowLimit": 10000
     },
     "inputWidgets": {},
     "nuid": "4be67e58-0e60-4bbd-aaa7-d69e4d593716",
     "showTitle": false,
     "title": ""
    }
   },
   "outputs": [
    {
     "name": "stdout",
     "output_type": "stream",
     "text": [
      "+-------+--------------+---------------+-----------+-----------+\n",
      "|hour_24|rounded_amount|non_fraud_count|fraud_count|fraud_ratio|\n",
      "+-------+--------------+---------------+-----------+-----------+\n",
      "|     22|        1000.0|             28|        324|      92.05|\n",
      "|     23|        1000.0|             29|        262|      90.03|\n",
      "|     23|         900.0|             40|        319|      88.86|\n",
      "|     23|        1100.0|             23|        171|      88.14|\n",
      "|     22|        1100.0|             26|        171|       86.8|\n",
      "|     22|         900.0|             55|        352|      86.49|\n",
      "|     23|         800.0|             48|        253|      84.05|\n",
      "|     22|         800.0|             58|        240|      80.54|\n",
      "|     22|        1200.0|             14|         45|      76.27|\n",
      "|     22|         700.0|             57|        108|      65.45|\n",
      "|     02|         800.0|             29|         51|      63.75|\n",
      "|     23|        1200.0|             21|         36|      63.16|\n",
      "|     00|         800.0|             29|         46|      61.33|\n",
      "|     03|        1100.0|              7|         11|      61.11|\n",
      "|     00|        1000.0|             16|         25|      60.98|\n",
      "|     01|         900.0|             20|         31|      60.78|\n",
      "|     01|         800.0|             28|         43|      60.56|\n",
      "|     23|         700.0|             78|        115|      59.59|\n",
      "|     01|        1000.0|             20|         29|      59.18|\n",
      "|     03|         900.0|             26|         33|      55.93|\n",
      "+-------+--------------+---------------+-----------+-----------+\n",
      "only showing top 20 rows\n",
      "\n"
     ]
    }
   ],
   "source": [
    "result = (\n",
    "    cc\n",
    "    .groupBy(\n",
    "        expr(\"hour(trans_date_trans_time)\").alias(\"hour_24\"),\n",
    "        round(\"amt\", -2).alias(\"rounded_amount\")\n",
    "    )\n",
    "    .agg(\n",
    "        count(expr(\"CASE WHEN is_fraud = 0 THEN trans_num END\")).alias(\"non_fraud_count\"),\n",
    "        count(expr(\"CASE WHEN is_fraud = 1 THEN trans_num END\")).alias(\"fraud_count\")\n",
    "    )\n",
    "    .withColumn(\n",
    "        \"fraud_ratio\",\n",
    "        round(col(\"fraud_count\") * 100.0 / (col(\"non_fraud_count\") + col(\"fraud_count\")), 2)\n",
    "    )\n",
    "    .filter(\"fraud_ratio > 10\")\n",
    "    .orderBy(col(\"fraud_ratio\").desc())  # Order by fraud_ratio in descending order\n",
    ")\n",
    "\n",
    "result.show()"
   ]
  },
  {
   "cell_type": "markdown",
   "metadata": {
    "application/vnd.databricks.v1+cell": {
     "cellMetadata": {
      "byteLimit": 2048000,
      "rowLimit": 10000
     },
     "inputWidgets": {},
     "nuid": "1de911fe-0448-4a9c-9329-213c1d8ff2e9",
     "showTitle": false,
     "title": ""
    }
   },
   "source": [
    "Pairing time with the rounded transaction amount(to the nearest hundred) also shows a very strong indicator of fraud. We can also use that in our fraud detection model."
   ]
  },
  {
   "cell_type": "code",
   "execution_count": 0,
   "metadata": {
    "application/vnd.databricks.v1+cell": {
     "cellMetadata": {
      "byteLimit": 2048000,
      "rowLimit": 10000
     },
     "inputWidgets": {},
     "nuid": "9b66926e-5229-4757-a741-ac51dc7db77c",
     "showTitle": false,
     "title": ""
    }
   },
   "outputs": [
    {
     "name": "stdout",
     "output_type": "stream",
     "text": [
      "+-------+-------------+--------------+---------------+-----------+-----------+\n",
      "|hour_24|     category|rounded_amount|non_fraud_count|fraud_count|fraud_ratio|\n",
      "+-------+-------------+--------------+---------------+-----------+-----------+\n",
      "|     03|  grocery_pos|         400.0|              0|         42|      100.0|\n",
      "|     22|  grocery_pos|         300.0|              0|        129|      100.0|\n",
      "|     00|  grocery_pos|         400.0|              0|         23|      100.0|\n",
      "|     23|  grocery_pos|         300.0|              0|        142|      100.0|\n",
      "|     02|  grocery_pos|         400.0|              0|         36|      100.0|\n",
      "|     01|  grocery_pos|         400.0|              0|         30|      100.0|\n",
      "|     23|     misc_net|         800.0|              1|        134|      99.26|\n",
      "|     22|     misc_net|         700.0|              1|         77|      98.72|\n",
      "|     22|     misc_net|         800.0|              2|        137|      98.56|\n",
      "|     22| shopping_net|        1000.0|              6|        258|      97.73|\n",
      "|     23|     misc_net|         900.0|              2|         78|       97.5|\n",
      "|     23| shopping_net|        1000.0|              6|        208|       97.2|\n",
      "|     22|     misc_net|         900.0|              2|         52|       96.3|\n",
      "|     01| shopping_net|        1000.0|              1|         24|       96.0|\n",
      "|     22| shopping_net|        1100.0|              7|        156|      95.71|\n",
      "|     23|     misc_net|         700.0|              4|         85|      95.51|\n",
      "|     23|entertainment|         600.0|              1|         21|      95.45|\n",
      "|     01|  grocery_pos|         300.0|             14|        285|      95.32|\n",
      "|     22|entertainment|         600.0|              1|         19|       95.0|\n",
      "|     00|  grocery_pos|         300.0|             17|        282|      94.31|\n",
      "+-------+-------------+--------------+---------------+-----------+-----------+\n",
      "only showing top 20 rows\n",
      "\n"
     ]
    }
   ],
   "source": [
    "result = (\n",
    "    cc\n",
    "    .groupBy(\n",
    "        expr(\"hour(trans_date_trans_time)\").alias(\"hour_24\"),\n",
    "        col(\"category\"),\n",
    "        round(\"amt\", -2).alias(\"rounded_amount\")\n",
    "    )\n",
    "    .agg(\n",
    "        count(expr(\"CASE WHEN is_fraud = 0 THEN trans_num END\")).alias(\"non_fraud_count\"),\n",
    "        count(expr(\"CASE WHEN is_fraud = 1 THEN trans_num END\")).alias(\"fraud_count\")\n",
    "    )\n",
    "    .withColumn(\n",
    "        \"fraud_ratio\",\n",
    "        round(col(\"fraud_count\") * 100.0 / (col(\"non_fraud_count\") + col(\"fraud_count\")), 2)\n",
    "    )\n",
    "    .filter(\"fraud_ratio > 10 and fraud_count > 10\")\n",
    "    .orderBy(col(\"fraud_ratio\").desc())  # Order by fraud_ratio in descending order\n",
    ")\n",
    "\n",
    "result.show()"
   ]
  },
  {
   "cell_type": "markdown",
   "metadata": {
    "application/vnd.databricks.v1+cell": {
     "cellMetadata": {
      "byteLimit": 2048000,
      "rowLimit": 10000
     },
     "inputWidgets": {},
     "nuid": "e2bdd945-3068-409d-85f5-8dd13fdd6e83",
     "showTitle": false,
     "title": ""
    }
   },
   "source": [
    "Combining the above two findings together, we can see certain combinations between time of day, category, and rounded amount that generate the highest % of fraud transactions."
   ]
  },
  {
   "cell_type": "markdown",
   "metadata": {
    "application/vnd.databricks.v1+cell": {
     "cellMetadata": {
      "byteLimit": 2048000,
      "rowLimit": 10000
     },
     "inputWidgets": {},
     "nuid": "554b951f-367b-40b0-bad2-07dfa6bd2870",
     "showTitle": false,
     "title": ""
    }
   },
   "source": [
    "## ML Pipeline Setup"
   ]
  },
  {
   "cell_type": "markdown",
   "metadata": {
    "application/vnd.databricks.v1+cell": {
     "cellMetadata": {
      "byteLimit": 2048000,
      "rowLimit": 10000
     },
     "inputWidgets": {},
     "nuid": "726a0970-36e0-4e6b-bec1-35d8794deabc",
     "showTitle": false,
     "title": ""
    }
   },
   "source": [
    "This section is dedicated to defining transformers for use by the different model pipelines we intend to test."
   ]
  },
  {
   "cell_type": "code",
   "execution_count": 4,
   "metadata": {
    "ExecuteTime": {
     "end_time": "2023-11-21T14:47:17.817197Z",
     "start_time": "2023-11-21T14:47:17.790339Z"
    },
    "application/vnd.databricks.v1+cell": {
     "cellMetadata": {
      "byteLimit": 2048000,
      "rowLimit": 10000
     },
     "inputWidgets": {},
     "nuid": "61929bd3-d3ca-4ead-8355-c7aa8510fff7",
     "showTitle": false,
     "title": ""
    }
   },
   "outputs": [],
   "source": [
    "from pyspark.ml.feature import StringIndexer\n",
    "\n",
    "# define a transformer to convert string categorical features to numeric indices\n",
    "inputs = ['merchant', 'category', 'gender', 'city', 'state', 'job']\n",
    "outputs = ['merchant_idx', 'category_idx', 'gender_idx', 'city_idx', 'state_idx', 'job_idx']\n",
    "stringIndexer = StringIndexer(inputCols=inputs, outputCols=outputs, handleInvalid=\"keep\")\n"
   ]
  },
  {
   "cell_type": "code",
   "execution_count": 5,
   "metadata": {
    "ExecuteTime": {
     "end_time": "2023-11-21T14:47:19.470612Z",
     "start_time": "2023-11-21T14:47:19.459432Z"
    },
    "application/vnd.databricks.v1+cell": {
     "cellMetadata": {
      "byteLimit": 2048000,
      "rowLimit": 10000
     },
     "inputWidgets": {},
     "nuid": "b4c330f6-3299-4f01-8be9-e093e31e0201",
     "showTitle": false,
     "title": ""
    }
   },
   "outputs": [],
   "source": [
    "from pyspark.ml.feature import OneHotEncoder\n",
    "\n",
    "# define a transformer to one-hot encode indexed categorical features\n",
    "inputs_1hot = ['merchant_idx', 'category_idx', 'city_idx', 'state_idx', 'job_idx', 'hour_of_day']\n",
    "outputs_1hot = ['merchant_1hot', 'category_1hot', 'city_1hot', 'state_1hot', 'job_1hot', 'hour_of_day_1hot']\n",
    "\n",
    "oneHotEncoder = OneHotEncoder(inputCols=inputs_1hot, outputCols=outputs_1hot)\n"
   ]
  },
  {
   "cell_type": "code",
   "execution_count": 6,
   "metadata": {
    "application/vnd.databricks.v1+cell": {
     "cellMetadata": {
      "byteLimit": 2048000,
      "rowLimit": 10000
     },
     "inputWidgets": {},
     "nuid": "95108fea-3b54-4dc1-91d5-e8a55143386c",
     "showTitle": false,
     "title": ""
    }
   },
   "outputs": [
    {
     "name": "stderr",
     "output_type": "stream",
     "text": [
      "                                                                                \r"
     ]
    }
   ],
   "source": [
    "from pyspark.ml.feature import SQLTransformer\n",
    "\n",
    "# calculate fraudulent transaction ratio\n",
    "fraudRatio = cc.filter(col(\"is_fraud\")==1).count() / cc.count()\n",
    "\n",
    "weightCalc = SQLTransformer(\n",
    "    statement = \"SELECT *, CASE WHEN is_fraud = 1 THEN \" + \n",
    "                str(1-fraudRatio) + \" ELSE \" + \n",
    "                str(fraudRatio) + \" END AS weight FROM __THIS__\"\n",
    ")"
   ]
  },
  {
   "cell_type": "code",
   "execution_count": 7,
   "metadata": {
    "application/vnd.databricks.v1+cell": {
     "cellMetadata": {
      "byteLimit": 2048000,
      "rowLimit": 10000
     },
     "inputWidgets": {},
     "nuid": "182c54d8-3662-40a7-9fea-a5c92c2f15d5",
     "showTitle": false,
     "title": ""
    }
   },
   "outputs": [],
   "source": [
    "from pyspark.ml.feature import SQLTransformer\n",
    "\n",
    "colTransformer = SQLTransformer(\n",
    "    statement = \"\"\"SELECT *, hour(trans_date_trans_time) hour_of_day,\n",
    "                             log(amt) amt_log,\n",
    "                             log(city_pop) city_pop_log\n",
    "                    FROM __THIS__\n",
    "                \"\"\"\n",
    ")"
   ]
  },
  {
   "cell_type": "code",
   "execution_count": 8,
   "metadata": {
    "application/vnd.databricks.v1+cell": {
     "cellMetadata": {},
     "inputWidgets": {},
     "nuid": "a313b20e-9bac-4cca-ab27-f6c0f3f5302d",
     "showTitle": false,
     "title": ""
    }
   },
   "outputs": [],
   "source": [
    "from pyspark.ml.feature import SQLTransformer\n",
    "\n",
    "# this transformer calculates the number of transactions that have occurred\n",
    "# for a particular card over a period of 24 hrs.\n",
    "\n",
    "txLast24 = SQLTransformer(\n",
    "    statement = \"\"\"SELECT *, COUNT(*) OVER (PARTITION BY cc_num ORDER BY trans_date_trans_time \n",
    "                                RANGE BETWEEN INTERVAL 24 hours PRECEDING AND CURRENT ROW) AS txns_last_24h\n",
    "                    FROM __THIS__\"\"\"\n",
    ")"
   ]
  },
  {
   "cell_type": "code",
   "execution_count": 9,
   "metadata": {
    "ExecuteTime": {
     "end_time": "2023-11-21T14:47:20.898896Z",
     "start_time": "2023-11-21T14:47:20.888356Z"
    },
    "application/vnd.databricks.v1+cell": {
     "cellMetadata": {
      "byteLimit": 2048000,
      "rowLimit": 10000
     },
     "inputWidgets": {},
     "nuid": "5c7f0afc-bb1a-400e-8381-803b5d29655b",
     "showTitle": false,
     "title": ""
    }
   },
   "outputs": [],
   "source": [
    "from pyspark.ml.feature import VectorAssembler\n",
    "\n",
    "# assemble the prepped features into one single vector.\n",
    "featureCols = ['amt_log', 'city_pop_log', 'job_1hot', 'state_1hot',\n",
    "                'category_1hot', 'gender_idx', 'hour_of_day_1hot', 'txns_last_24h']\n",
    "assembler = (VectorAssembler()\n",
    "  .setInputCols(featureCols)\n",
    "  .setOutputCol(\"features\")\n",
    "  .setHandleInvalid(\"keep\"))\n",
    "\n",
    "# cc_final = assembler.transform(cc_prepped)"
   ]
  },
  {
   "cell_type": "markdown",
   "metadata": {
    "application/vnd.databricks.v1+cell": {
     "cellMetadata": {
      "byteLimit": 2048000,
      "rowLimit": 10000
     },
     "inputWidgets": {},
     "nuid": "e5f53d1d-6e20-4932-ba85-3fc1eafa9b71",
     "showTitle": false,
     "title": ""
    }
   },
   "source": [
    "## Training and Test Data Setup"
   ]
  },
  {
   "cell_type": "code",
   "execution_count": 10,
   "metadata": {
    "application/vnd.databricks.v1+cell": {
     "cellMetadata": {
      "byteLimit": 2048000,
      "rowLimit": 10000
     },
     "inputWidgets": {},
     "nuid": "3664ab3e-e6c4-49bb-a90a-2dc43e1529a8",
     "showTitle": false,
     "title": ""
    }
   },
   "outputs": [
    {
     "name": "stderr",
     "output_type": "stream",
     "text": [
      "                                                                                \r"
     ]
    },
    {
     "name": "stdout",
     "output_type": "stream",
     "text": [
      "1037340\n"
     ]
    },
    {
     "name": "stderr",
     "output_type": "stream",
     "text": [
      "[Stage 9:====>                                                    (1 + 11) / 12]\r"
     ]
    },
    {
     "name": "stdout",
     "output_type": "stream",
     "text": [
      "259335\n"
     ]
    },
    {
     "name": "stderr",
     "output_type": "stream",
     "text": [
      "\r",
      "[Stage 11:>                                                         (0 + 1) / 1]\r",
      "\r",
      "                                                                                \r"
     ]
    }
   ],
   "source": [
    "from pyspark.sql.functions import percent_rank\n",
    "from pyspark.sql import Window\n",
    "\n",
    "# we need to add aggregate features out of the pipeline because custom window\n",
    "# groupings (i.e. non-time windows) are not supported in streamed datasets.\n",
    "\n",
    "# add last 24 hour transaction count\n",
    "cc_tx24 = txLast24.transform(cc)\n",
    "\n",
    "# as our dataset is essentially a time series, we do not want to randomly split it\n",
    "# so we will split by using the rank() function\n",
    "cc_tx24 = cc_tx24.withColumn(\"rank\", percent_rank().over(Window.partitionBy().orderBy(\"trans_date_trans_time\")))\n",
    "\n",
    "# split on a 80/20 ratio\n",
    "training = cc_tx24.where(\"rank <= .8\").drop(\"rank\")\n",
    "test = cc_tx24.where(\"rank > .8\").drop(\"rank\")\n",
    "\n",
    "print(training.count())\n",
    "print(test.count())"
   ]
  },
  {
   "cell_type": "code",
   "execution_count": 0,
   "metadata": {
    "application/vnd.databricks.v1+cell": {
     "cellMetadata": {},
     "inputWidgets": {},
     "nuid": "2f368550-80e1-4e8f-a033-84d51a70ce4b",
     "showTitle": false,
     "title": ""
    }
   },
   "outputs": [],
   "source": [
    "# from pyspark.ml.feature import SQLTransformer\n",
    "# from pyspark.sql.functions import percent_rank\n",
    "# from pyspark.sql import Window\n",
    "\n",
    "# # we need to add aggregate features out of the pipeline because custom window\n",
    "# # groupings (i.e. non-time windows) are not supported in streamed datasets.\n",
    "\n",
    "# # add last 24 hour transaction count\n",
    "# cc_tx24 = txLast24.transform(cc)\n",
    "\n",
    "# cc_tx24.createOrReplaceTempView(\"cc_tx24_view\")\n",
    "\n",
    "# # Step 1: Define SQLTransformer for Filtering Fraud Transactions\n",
    "# sqlTrans_fraud = SQLTransformer(statement=\"SELECT * FROM cc_tx24_view WHERE is_fraud = 1\")\n",
    "\n",
    "# # Execute SQLTransformer to get fraud transactions\n",
    "# fraud_df = sqlTrans_fraud.transform(cc_tx24)\n",
    "# fraud_count = fraud_df.count()\n",
    "\n",
    "# # Step 2: Sampling Non-Fraud Transactions - Might need to be done outside SQLTransformer\n",
    "# # Example SQL (non-random sampling for illustration purposes):\n",
    "# sqlTrans_nonfraud = SQLTransformer(statement=f\"SELECT * FROM cc_tx24_view WHERE is_fraud = 0 LIMIT {fraud_count}\")\n",
    "\n",
    "# non_fraud_df = sqlTrans_nonfraud.transform(cc_tx24)\n",
    "\n",
    "# # Step 3: Combine Results - This part is challenging to do in SQLTransformer without additional SQL capabilities\n",
    "# cc_bal = fraud_df.union(non_fraud_df)\n",
    "\n",
    "# # Set train and test dataset\n",
    "# training, test = cc_bal.randomSplit([0.8, 0.2], seed=42)\n",
    "\n",
    "# print(training.count())\n",
    "# print(test.count())"
   ]
  },
  {
   "cell_type": "markdown",
   "metadata": {
    "application/vnd.databricks.v1+cell": {
     "cellMetadata": {
      "byteLimit": 2048000,
      "rowLimit": 10000
     },
     "inputWidgets": {},
     "nuid": "ac03ef3e-ea18-4b83-b2f4-d815c04e81ec",
     "showTitle": false,
     "title": ""
    }
   },
   "source": [
    "## Model #1 - RandomForestClassifier"
   ]
  },
  {
   "cell_type": "markdown",
   "metadata": {
    "application/vnd.databricks.v1+cell": {
     "cellMetadata": {
      "byteLimit": 2048000,
      "rowLimit": 10000
     },
     "inputWidgets": {},
     "nuid": "ca9d42e5-9a90-4077-b70e-1b5ada8316de",
     "showTitle": false,
     "title": ""
    }
   },
   "source": [
    "### Training\n",
    "\n",
    "For the sake of keeping training execution time in the shared notebook within reasonable limits, we mostly ran it with a single model, with default parameters. We have then run cross-validation and hyperparameter tuning on a local machine, and then transposed the best parameters into the single model pipeline below as we prepared for submission. Grid search parameters were as follows:\n",
    "```\n",
    "paramGrid = (ParamGridBuilder()\n",
    "  .addGrid(rf.maxDepth, [5, 10, 15])\n",
    "  .addGrid(rf.maxBins, [5, 10, 20, 40])\n",
    "  .addGrid(rf.numTrees, [10, 20, 60])\n",
    "  .build())\n",
    "```"
   ]
  },
  {
   "cell_type": "code",
   "execution_count": 11,
   "metadata": {
    "ExecuteTime": {
     "end_time": "2023-11-15T19:36:35.187683Z",
     "start_time": "2023-11-15T19:36:10.439863Z"
    },
    "application/vnd.databricks.v1+cell": {
     "cellMetadata": {
      "byteLimit": 2048000,
      "rowLimit": 10000
     },
     "inputWidgets": {},
     "nuid": "862b103f-7fa2-4e8f-bb2c-392d684e3cff",
     "showTitle": false,
     "title": ""
    }
   },
   "outputs": [
    {
     "name": "stderr",
     "output_type": "stream",
     "text": [
      "[Stage 76:====>                                                   (1 + 11) / 12]\r"
     ]
    }
   ],
   "source": [
    "# untuned model - use this for a fast run\n",
    "# rf = RandomForestClassifier(numTrees=10, maxDepth=5, labelCol=\"is_fraud\", seed=42, leafCol=\"leafId\")\n",
    "\n",
    "# tuned model - comment this and uncomment the definition above for a faster run\n",
    "rf = RandomForestClassifier(numTrees=60, maxBins=40, maxDepth=15, labelCol=\"is_fraud\", seed=42, leafCol=\"leafId\")\n",
    "\n",
    "rf.setFeaturesCol(\"features\")\n",
    "rf.setWeightCol(\"weight\")\n",
    "\n",
    "# define pipeline using previously defined stages\n",
    "pipeline = Pipeline(stages=[weightCalc, colTransformer, stringIndexer, oneHotEncoder, assembler, rf])\n",
    "\n",
    "model = pipeline.fit(training)"
   ]
  },
  {
   "cell_type": "code",
   "execution_count": 12,
   "metadata": {
    "ExecuteTime": {
     "end_time": "2023-11-15T19:37:45.836414Z",
     "start_time": "2023-11-15T19:37:45.760815Z"
    },
    "application/vnd.databricks.v1+cell": {
     "cellMetadata": {
      "byteLimit": 2048000,
      "rowLimit": 10000
     },
     "inputWidgets": {},
     "nuid": "35ae490b-dd6a-4a8d-a9c2-1a07021da0c8",
     "showTitle": false,
     "title": ""
    }
   },
   "outputs": [],
   "source": [
    "preds = model.transform(test) "
   ]
  },
  {
   "cell_type": "code",
   "execution_count": 13,
   "metadata": {
    "ExecuteTime": {
     "end_time": "2023-11-15T19:39:59.731216Z",
     "start_time": "2023-11-15T19:39:57.820743Z"
    },
    "application/vnd.databricks.v1+cell": {
     "cellMetadata": {
      "byteLimit": 2048000,
      "rowLimit": 10000
     },
     "inputWidgets": {},
     "nuid": "692188e6-9c49-497b-8b56-b04bd83147e7",
     "showTitle": false,
     "title": ""
    }
   },
   "outputs": [
    {
     "name": "stderr",
     "output_type": "stream",
     "text": [
      "                                                                                \r"
     ]
    },
    {
     "data": {
      "text/html": [
       "<div>\n",
       "<style scoped>\n",
       "    .dataframe tbody tr th:only-of-type {\n",
       "        vertical-align: middle;\n",
       "    }\n",
       "\n",
       "    .dataframe tbody tr th {\n",
       "        vertical-align: top;\n",
       "    }\n",
       "\n",
       "    .dataframe thead th {\n",
       "        text-align: right;\n",
       "    }\n",
       "</style>\n",
       "<table border=\"1\" class=\"dataframe\">\n",
       "  <thead>\n",
       "    <tr style=\"text-align: right;\">\n",
       "      <th></th>\n",
       "      <th>_c0</th>\n",
       "      <th>trans_date_trans_time</th>\n",
       "      <th>cc_num</th>\n",
       "      <th>merchant</th>\n",
       "      <th>category</th>\n",
       "      <th>amt</th>\n",
       "      <th>first</th>\n",
       "      <th>last</th>\n",
       "      <th>gender</th>\n",
       "      <th>street</th>\n",
       "      <th>...</th>\n",
       "      <th>category_1hot</th>\n",
       "      <th>city_1hot</th>\n",
       "      <th>state_1hot</th>\n",
       "      <th>job_1hot</th>\n",
       "      <th>hour_of_day_1hot</th>\n",
       "      <th>features</th>\n",
       "      <th>rawPrediction</th>\n",
       "      <th>probability</th>\n",
       "      <th>prediction</th>\n",
       "      <th>leafId</th>\n",
       "    </tr>\n",
       "  </thead>\n",
       "  <tbody>\n",
       "    <tr>\n",
       "      <th>0</th>\n",
       "      <td>1037570</td>\n",
       "      <td>2020-03-06 10:49:12</td>\n",
       "      <td>180011453250192</td>\n",
       "      <td>fraud_McCullough Group</td>\n",
       "      <td>grocery_net</td>\n",
       "      <td>38.74</td>\n",
       "      <td>Craig</td>\n",
       "      <td>Dunn</td>\n",
       "      <td>M</td>\n",
       "      <td>721 Jacqueline Brooks</td>\n",
       "      <td>...</td>\n",
       "      <td>(0.0, 0.0, 0.0, 0.0, 0.0, 0.0, 0.0, 0.0, 0.0, ...</td>\n",
       "      <td>(0.0, 0.0, 0.0, 0.0, 0.0, 0.0, 0.0, 0.0, 0.0, ...</td>\n",
       "      <td>(0.0, 0.0, 0.0, 0.0, 0.0, 0.0, 1.0, 0.0, 0.0, ...</td>\n",
       "      <td>(0.0, 0.0, 0.0, 0.0, 0.0, 0.0, 0.0, 0.0, 0.0, ...</td>\n",
       "      <td>(0.0, 0.0, 0.0, 0.0, 0.0, 0.0, 0.0, 0.0, 0.0, ...</td>\n",
       "      <td>(3.65687265797885, 7.315883504509785, 0.0, 0.0...</td>\n",
       "      <td>[46.46688203933286, 13.533117960667152]</td>\n",
       "      <td>[0.7744480339888808, 0.22555196601111915]</td>\n",
       "      <td>0.0</td>\n",
       "      <td>[106.0, 96.0, 182.0, 228.0, 110.0, 256.0, 86.0...</td>\n",
       "    </tr>\n",
       "    <tr>\n",
       "      <th>1</th>\n",
       "      <td>1039652</td>\n",
       "      <td>2020-03-07 13:08:09</td>\n",
       "      <td>180011453250192</td>\n",
       "      <td>fraud_Windler, Goodwin and Kovacek</td>\n",
       "      <td>home</td>\n",
       "      <td>80.54</td>\n",
       "      <td>Craig</td>\n",
       "      <td>Dunn</td>\n",
       "      <td>M</td>\n",
       "      <td>721 Jacqueline Brooks</td>\n",
       "      <td>...</td>\n",
       "      <td>(0.0, 0.0, 1.0, 0.0, 0.0, 0.0, 0.0, 0.0, 0.0, ...</td>\n",
       "      <td>(0.0, 0.0, 0.0, 0.0, 0.0, 0.0, 0.0, 0.0, 0.0, ...</td>\n",
       "      <td>(0.0, 0.0, 0.0, 0.0, 0.0, 0.0, 1.0, 0.0, 0.0, ...</td>\n",
       "      <td>(0.0, 0.0, 0.0, 0.0, 0.0, 0.0, 0.0, 0.0, 0.0, ...</td>\n",
       "      <td>(0.0, 0.0, 0.0, 0.0, 0.0, 0.0, 0.0, 0.0, 0.0, ...</td>\n",
       "      <td>(4.388753955423308, 7.315883504509785, 0.0, 0....</td>\n",
       "      <td>[51.288332796486834, 8.71166720351317]</td>\n",
       "      <td>[0.8548055466081139, 0.14519445339188616]</td>\n",
       "      <td>0.0</td>\n",
       "      <td>[214.0, 96.0, 182.0, 168.0, 6.0, 256.0, 113.0,...</td>\n",
       "    </tr>\n",
       "    <tr>\n",
       "      <th>2</th>\n",
       "      <td>1039782</td>\n",
       "      <td>2020-03-07 14:37:16</td>\n",
       "      <td>180011453250192</td>\n",
       "      <td>fraud_Reichel Inc</td>\n",
       "      <td>entertainment</td>\n",
       "      <td>91.13</td>\n",
       "      <td>Craig</td>\n",
       "      <td>Dunn</td>\n",
       "      <td>M</td>\n",
       "      <td>721 Jacqueline Brooks</td>\n",
       "      <td>...</td>\n",
       "      <td>(0.0, 0.0, 0.0, 0.0, 0.0, 0.0, 1.0, 0.0, 0.0, ...</td>\n",
       "      <td>(0.0, 0.0, 0.0, 0.0, 0.0, 0.0, 0.0, 0.0, 0.0, ...</td>\n",
       "      <td>(0.0, 0.0, 0.0, 0.0, 0.0, 0.0, 1.0, 0.0, 0.0, ...</td>\n",
       "      <td>(0.0, 0.0, 0.0, 0.0, 0.0, 0.0, 0.0, 0.0, 0.0, ...</td>\n",
       "      <td>(0.0, 0.0, 0.0, 0.0, 0.0, 0.0, 0.0, 0.0, 0.0, ...</td>\n",
       "      <td>(4.5122870585080355, 7.315883504509785, 0.0, 0...</td>\n",
       "      <td>[48.609448400533005, 11.390551599467003]</td>\n",
       "      <td>[0.8101574733422167, 0.18984252665778337]</td>\n",
       "      <td>0.0</td>\n",
       "      <td>[140.0, 96.0, 16.0, 228.0, 107.0, 256.0, 29.0,...</td>\n",
       "    </tr>\n",
       "    <tr>\n",
       "      <th>3</th>\n",
       "      <td>1040831</td>\n",
       "      <td>2020-03-08 01:31:18</td>\n",
       "      <td>180011453250192</td>\n",
       "      <td>fraud_Lynch Ltd</td>\n",
       "      <td>shopping_pos</td>\n",
       "      <td>128.30</td>\n",
       "      <td>Craig</td>\n",
       "      <td>Dunn</td>\n",
       "      <td>M</td>\n",
       "      <td>721 Jacqueline Brooks</td>\n",
       "      <td>...</td>\n",
       "      <td>(0.0, 0.0, 0.0, 1.0, 0.0, 0.0, 0.0, 0.0, 0.0, ...</td>\n",
       "      <td>(0.0, 0.0, 0.0, 0.0, 0.0, 0.0, 0.0, 0.0, 0.0, ...</td>\n",
       "      <td>(0.0, 0.0, 0.0, 0.0, 0.0, 0.0, 1.0, 0.0, 0.0, ...</td>\n",
       "      <td>(0.0, 0.0, 0.0, 0.0, 0.0, 0.0, 0.0, 0.0, 0.0, ...</td>\n",
       "      <td>(0.0, 1.0, 0.0, 0.0, 0.0, 0.0, 0.0, 0.0, 0.0, ...</td>\n",
       "      <td>(4.8543712716215905, 7.315883504509785, 0.0, 0...</td>\n",
       "      <td>[40.69029249153172, 19.309707508468275]</td>\n",
       "      <td>[0.6781715415255287, 0.3218284584744712]</td>\n",
       "      <td>0.0</td>\n",
       "      <td>[235.0, 36.0, 182.0, 228.0, 82.0, 252.0, 133.0...</td>\n",
       "    </tr>\n",
       "    <tr>\n",
       "      <th>4</th>\n",
       "      <td>1040889</td>\n",
       "      <td>2020-03-08 03:01:24</td>\n",
       "      <td>180011453250192</td>\n",
       "      <td>fraud_Heller-Abshire</td>\n",
       "      <td>grocery_net</td>\n",
       "      <td>56.15</td>\n",
       "      <td>Craig</td>\n",
       "      <td>Dunn</td>\n",
       "      <td>M</td>\n",
       "      <td>721 Jacqueline Brooks</td>\n",
       "      <td>...</td>\n",
       "      <td>(0.0, 0.0, 0.0, 0.0, 0.0, 0.0, 0.0, 0.0, 0.0, ...</td>\n",
       "      <td>(0.0, 0.0, 0.0, 0.0, 0.0, 0.0, 0.0, 0.0, 0.0, ...</td>\n",
       "      <td>(0.0, 0.0, 0.0, 0.0, 0.0, 0.0, 1.0, 0.0, 0.0, ...</td>\n",
       "      <td>(0.0, 0.0, 0.0, 0.0, 0.0, 0.0, 0.0, 0.0, 0.0, ...</td>\n",
       "      <td>(0.0, 0.0, 0.0, 1.0, 0.0, 0.0, 0.0, 0.0, 0.0, ...</td>\n",
       "      <td>(4.0280266811844525, 7.315883504509785, 0.0, 0...</td>\n",
       "      <td>[37.03480949334156, 22.965190506658452]</td>\n",
       "      <td>[0.6172468248890259, 0.3827531751109741]</td>\n",
       "      <td>0.0</td>\n",
       "      <td>[235.0, 9.0, 182.0, 230.0, 217.0, 238.0, 143.0...</td>\n",
       "    </tr>\n",
       "  </tbody>\n",
       "</table>\n",
       "<p>5 rows × 45 columns</p>\n",
       "</div>"
      ],
      "text/plain": [
       "       _c0 trans_date_trans_time           cc_num  \\\n",
       "0  1037570   2020-03-06 10:49:12  180011453250192   \n",
       "1  1039652   2020-03-07 13:08:09  180011453250192   \n",
       "2  1039782   2020-03-07 14:37:16  180011453250192   \n",
       "3  1040831   2020-03-08 01:31:18  180011453250192   \n",
       "4  1040889   2020-03-08 03:01:24  180011453250192   \n",
       "\n",
       "                             merchant       category     amt  first  last  \\\n",
       "0              fraud_McCullough Group    grocery_net   38.74  Craig  Dunn   \n",
       "1  fraud_Windler, Goodwin and Kovacek           home   80.54  Craig  Dunn   \n",
       "2                   fraud_Reichel Inc  entertainment   91.13  Craig  Dunn   \n",
       "3                     fraud_Lynch Ltd   shopping_pos  128.30  Craig  Dunn   \n",
       "4                fraud_Heller-Abshire    grocery_net   56.15  Craig  Dunn   \n",
       "\n",
       "  gender                 street  ...  \\\n",
       "0      M  721 Jacqueline Brooks  ...   \n",
       "1      M  721 Jacqueline Brooks  ...   \n",
       "2      M  721 Jacqueline Brooks  ...   \n",
       "3      M  721 Jacqueline Brooks  ...   \n",
       "4      M  721 Jacqueline Brooks  ...   \n",
       "\n",
       "                                       category_1hot  \\\n",
       "0  (0.0, 0.0, 0.0, 0.0, 0.0, 0.0, 0.0, 0.0, 0.0, ...   \n",
       "1  (0.0, 0.0, 1.0, 0.0, 0.0, 0.0, 0.0, 0.0, 0.0, ...   \n",
       "2  (0.0, 0.0, 0.0, 0.0, 0.0, 0.0, 1.0, 0.0, 0.0, ...   \n",
       "3  (0.0, 0.0, 0.0, 1.0, 0.0, 0.0, 0.0, 0.0, 0.0, ...   \n",
       "4  (0.0, 0.0, 0.0, 0.0, 0.0, 0.0, 0.0, 0.0, 0.0, ...   \n",
       "\n",
       "                                           city_1hot  \\\n",
       "0  (0.0, 0.0, 0.0, 0.0, 0.0, 0.0, 0.0, 0.0, 0.0, ...   \n",
       "1  (0.0, 0.0, 0.0, 0.0, 0.0, 0.0, 0.0, 0.0, 0.0, ...   \n",
       "2  (0.0, 0.0, 0.0, 0.0, 0.0, 0.0, 0.0, 0.0, 0.0, ...   \n",
       "3  (0.0, 0.0, 0.0, 0.0, 0.0, 0.0, 0.0, 0.0, 0.0, ...   \n",
       "4  (0.0, 0.0, 0.0, 0.0, 0.0, 0.0, 0.0, 0.0, 0.0, ...   \n",
       "\n",
       "                                          state_1hot  \\\n",
       "0  (0.0, 0.0, 0.0, 0.0, 0.0, 0.0, 1.0, 0.0, 0.0, ...   \n",
       "1  (0.0, 0.0, 0.0, 0.0, 0.0, 0.0, 1.0, 0.0, 0.0, ...   \n",
       "2  (0.0, 0.0, 0.0, 0.0, 0.0, 0.0, 1.0, 0.0, 0.0, ...   \n",
       "3  (0.0, 0.0, 0.0, 0.0, 0.0, 0.0, 1.0, 0.0, 0.0, ...   \n",
       "4  (0.0, 0.0, 0.0, 0.0, 0.0, 0.0, 1.0, 0.0, 0.0, ...   \n",
       "\n",
       "                                            job_1hot  \\\n",
       "0  (0.0, 0.0, 0.0, 0.0, 0.0, 0.0, 0.0, 0.0, 0.0, ...   \n",
       "1  (0.0, 0.0, 0.0, 0.0, 0.0, 0.0, 0.0, 0.0, 0.0, ...   \n",
       "2  (0.0, 0.0, 0.0, 0.0, 0.0, 0.0, 0.0, 0.0, 0.0, ...   \n",
       "3  (0.0, 0.0, 0.0, 0.0, 0.0, 0.0, 0.0, 0.0, 0.0, ...   \n",
       "4  (0.0, 0.0, 0.0, 0.0, 0.0, 0.0, 0.0, 0.0, 0.0, ...   \n",
       "\n",
       "                                    hour_of_day_1hot  \\\n",
       "0  (0.0, 0.0, 0.0, 0.0, 0.0, 0.0, 0.0, 0.0, 0.0, ...   \n",
       "1  (0.0, 0.0, 0.0, 0.0, 0.0, 0.0, 0.0, 0.0, 0.0, ...   \n",
       "2  (0.0, 0.0, 0.0, 0.0, 0.0, 0.0, 0.0, 0.0, 0.0, ...   \n",
       "3  (0.0, 1.0, 0.0, 0.0, 0.0, 0.0, 0.0, 0.0, 0.0, ...   \n",
       "4  (0.0, 0.0, 0.0, 1.0, 0.0, 0.0, 0.0, 0.0, 0.0, ...   \n",
       "\n",
       "                                            features  \\\n",
       "0  (3.65687265797885, 7.315883504509785, 0.0, 0.0...   \n",
       "1  (4.388753955423308, 7.315883504509785, 0.0, 0....   \n",
       "2  (4.5122870585080355, 7.315883504509785, 0.0, 0...   \n",
       "3  (4.8543712716215905, 7.315883504509785, 0.0, 0...   \n",
       "4  (4.0280266811844525, 7.315883504509785, 0.0, 0...   \n",
       "\n",
       "                              rawPrediction  \\\n",
       "0   [46.46688203933286, 13.533117960667152]   \n",
       "1    [51.288332796486834, 8.71166720351317]   \n",
       "2  [48.609448400533005, 11.390551599467003]   \n",
       "3   [40.69029249153172, 19.309707508468275]   \n",
       "4   [37.03480949334156, 22.965190506658452]   \n",
       "\n",
       "                                 probability prediction  \\\n",
       "0  [0.7744480339888808, 0.22555196601111915]        0.0   \n",
       "1  [0.8548055466081139, 0.14519445339188616]        0.0   \n",
       "2  [0.8101574733422167, 0.18984252665778337]        0.0   \n",
       "3   [0.6781715415255287, 0.3218284584744712]        0.0   \n",
       "4   [0.6172468248890259, 0.3827531751109741]        0.0   \n",
       "\n",
       "                                              leafId  \n",
       "0  [106.0, 96.0, 182.0, 228.0, 110.0, 256.0, 86.0...  \n",
       "1  [214.0, 96.0, 182.0, 168.0, 6.0, 256.0, 113.0,...  \n",
       "2  [140.0, 96.0, 16.0, 228.0, 107.0, 256.0, 29.0,...  \n",
       "3  [235.0, 36.0, 182.0, 228.0, 82.0, 252.0, 133.0...  \n",
       "4  [235.0, 9.0, 182.0, 230.0, 217.0, 238.0, 143.0...  \n",
       "\n",
       "[5 rows x 45 columns]"
      ]
     },
     "execution_count": 13,
     "metadata": {},
     "output_type": "execute_result"
    }
   ],
   "source": [
    "pd.DataFrame(preds.take(5), columns=preds.columns)"
   ]
  },
  {
   "cell_type": "markdown",
   "metadata": {
    "application/vnd.databricks.v1+cell": {
     "cellMetadata": {
      "byteLimit": 2048000,
      "rowLimit": 10000
     },
     "inputWidgets": {},
     "nuid": "573284a1-cf85-4101-a6f4-23a4cb7f67f9",
     "showTitle": false,
     "title": ""
    }
   },
   "source": [
    "### Model Evaluation"
   ]
  },
  {
   "cell_type": "code",
   "execution_count": 14,
   "metadata": {
    "ExecuteTime": {
     "end_time": "2023-11-15T19:44:25.045325Z",
     "start_time": "2023-11-15T19:44:19.726175Z"
    },
    "application/vnd.databricks.v1+cell": {
     "cellMetadata": {
      "byteLimit": 2048000,
      "rowLimit": 10000
     },
     "inputWidgets": {},
     "nuid": "20c3bac3-aaeb-40d5-a104-254c44cab3b9",
     "showTitle": false,
     "title": ""
    }
   },
   "outputs": [
    {
     "name": "stderr",
     "output_type": "stream",
     "text": [
      "                                                                                \r"
     ]
    },
    {
     "data": {
      "text/plain": [
       "0.5251089791836826"
      ]
     },
     "execution_count": 14,
     "metadata": {},
     "output_type": "execute_result"
    }
   ],
   "source": [
    "from pyspark.ml.evaluation import BinaryClassificationEvaluator\n",
    "\n",
    "# Instantiate the evaluator. PR metrics are used given the highly\n",
    "# unbalanced target class\n",
    "bce= BinaryClassificationEvaluator(rawPredictionCol= \"rawPrediction\",\n",
    "                                   labelCol=\"is_fraud\", \n",
    "                                   metricName= \"areaUnderPR\")\n",
    "                                   \n",
    "bce.evaluate(preds)"
   ]
  },
  {
   "cell_type": "code",
   "execution_count": 15,
   "metadata": {
    "ExecuteTime": {
     "end_time": "2023-11-15T20:26:50.892046Z",
     "start_time": "2023-11-15T20:26:38.182845Z"
    },
    "application/vnd.databricks.v1+cell": {
     "cellMetadata": {
      "byteLimit": 2048000,
      "rowLimit": 10000
     },
     "inputWidgets": {},
     "nuid": "c331dd2d-7945-4a22-98f0-f6569566f8e1",
     "showTitle": false,
     "title": ""
    }
   },
   "outputs": [
    {
     "name": "stderr",
     "output_type": "stream",
     "text": [
      "/usr/local/Cellar/apache-spark/3.5.0/libexec/python/pyspark/sql/context.py:158: FutureWarning: Deprecated in 3.0.0. Use SparkSession.builder.getOrCreate() instead.\n",
      "  warnings.warn(\n",
      "                                                                                \r"
     ]
    },
    {
     "data": {
      "text/html": [
       "<div>\n",
       "<style scoped>\n",
       "    .dataframe tbody tr th:only-of-type {\n",
       "        vertical-align: middle;\n",
       "    }\n",
       "\n",
       "    .dataframe tbody tr th {\n",
       "        vertical-align: top;\n",
       "    }\n",
       "\n",
       "    .dataframe thead th {\n",
       "        text-align: right;\n",
       "    }\n",
       "</style>\n",
       "<table border=\"1\" class=\"dataframe\">\n",
       "  <thead>\n",
       "    <tr style=\"text-align: right;\">\n",
       "      <th></th>\n",
       "      <th>predicted (0)</th>\n",
       "      <th>predicted (1)</th>\n",
       "    </tr>\n",
       "  </thead>\n",
       "  <tbody>\n",
       "    <tr>\n",
       "      <th>actual (0)</th>\n",
       "      <td>250226.0</td>\n",
       "      <td>7571.0</td>\n",
       "    </tr>\n",
       "    <tr>\n",
       "      <th>actual (1)</th>\n",
       "      <td>278.0</td>\n",
       "      <td>1260.0</td>\n",
       "    </tr>\n",
       "  </tbody>\n",
       "</table>\n",
       "</div>"
      ],
      "text/plain": [
       "            predicted (0)  predicted (1)\n",
       "actual (0)       250226.0         7571.0\n",
       "actual (1)          278.0         1260.0"
      ]
     },
     "execution_count": 15,
     "metadata": {},
     "output_type": "execute_result"
    }
   ],
   "source": [
    "from pyspark.mllib.evaluation import MulticlassMetrics\n",
    "\n",
    "# create confusion matrix\n",
    "\n",
    "preds_float = preds \\\n",
    "    .select(\"prediction\", \"is_fraud\") \\\n",
    "    .withColumn(\"is_fraud\", col(\"is_fraud\").cast(DoubleType())) \\\n",
    "    .orderBy(\"prediction\")\n",
    "\n",
    "cm = MulticlassMetrics(preds_float.rdd.map(tuple))\n",
    "\n",
    "# print(cm.confusionMatrix().toArray())\n",
    "\n",
    "#show the confusion matrix as a pandas df for clearer presentation\n",
    "pd.DataFrame(cm.confusionMatrix().toArray(),\n",
    "             columns= [\"predicted (0)\", \"predicted (1)\"],\n",
    "             index= [\"actual (0)\", \"actual (1)\"])"
   ]
  },
  {
   "cell_type": "code",
   "execution_count": 16,
   "metadata": {
    "application/vnd.databricks.v1+cell": {
     "cellMetadata": {
      "byteLimit": 2048000,
      "rowLimit": 10000
     },
     "inputWidgets": {},
     "nuid": "f656f27c-16b9-422b-8bcf-9a5da62f14b5",
     "showTitle": false,
     "title": ""
    }
   },
   "outputs": [
    {
     "name": "stdout",
     "output_type": "stream",
     "text": [
      "\n",
      "Classification Report:\n",
      "Precision = 0.14267919827879064\n",
      "Recall = 0.8192457737321196\n",
      "F1 Score = 0.24303211495804805\n",
      "Accuracy = 0.9697341276727013\n"
     ]
    }
   ],
   "source": [
    "# Calculate precision, recall, F1 score, and accuracy\n",
    "precision = cm.precision(1.0)\n",
    "recall = cm.recall(1.0)\n",
    "f1Score = cm.fMeasure(1.0)\n",
    "accuracy = cm.accuracy\n",
    "\n",
    "# Print classification report\n",
    "print(\"\\nClassification Report:\")\n",
    "print(\"Precision = %s\" % precision)\n",
    "print(\"Recall = %s\" % recall)\n",
    "print(\"F1 Score = %s\" % f1Score)\n",
    "print(\"Accuracy = %s\" % accuracy)"
   ]
  },
  {
   "cell_type": "markdown",
   "metadata": {
    "application/vnd.databricks.v1+cell": {
     "cellMetadata": {
      "byteLimit": 2048000,
      "rowLimit": 10000
     },
     "inputWidgets": {},
     "nuid": "b74111b8-28b8-432c-9013-c8a482d70d23",
     "showTitle": false,
     "title": ""
    }
   },
   "source": [
    "### Results Analysis\n",
    "\n",
    "Preliminary analysis of the model predictions suggests a low overall F1 score with a high rate of false positives (low precision). The model scored best on recall (false negatives). This performance of the model with default prediction thresholds may not be acceptable from a business standpoint given that false positives will very likely lead to several calls from customers who saw their transactions refused."
   ]
  },
  {
   "cell_type": "markdown",
   "metadata": {
    "application/vnd.databricks.v1+cell": {
     "cellMetadata": {
      "byteLimit": 2048000,
      "rowLimit": 10000
     },
     "inputWidgets": {},
     "nuid": "e5ed6a63-9576-4aff-a09f-c7893577f4d1",
     "showTitle": false,
     "title": ""
    }
   },
   "source": [
    "## Model #2 - GradientBoostingTreesClassifier"
   ]
  },
  {
   "cell_type": "markdown",
   "metadata": {
    "application/vnd.databricks.v1+cell": {
     "cellMetadata": {
      "byteLimit": 2048000,
      "rowLimit": 10000
     },
     "inputWidgets": {},
     "nuid": "00d13871-d37c-42f0-bab3-2e93f07d02cd",
     "showTitle": false,
     "title": ""
    }
   },
   "source": [
    "### Using Custom Weight Calculation Transformer"
   ]
  },
  {
   "cell_type": "code",
   "execution_count": 17,
   "metadata": {
    "application/vnd.databricks.v1+cell": {
     "cellMetadata": {},
     "inputWidgets": {},
     "nuid": "e6fc647e-e901-4b7d-9986-700bd0281443",
     "showTitle": false,
     "title": ""
    }
   },
   "outputs": [],
   "source": [
    "# custom weight calculation transformer\n",
    "from pyspark.ml import Transformer\n",
    "from pyspark.ml.param.shared import HasInputCol, HasOutputCol\n",
    "from pyspark.ml.param import Param, Params, TypeConverters\n",
    "from pyspark.sql.functions import when\n",
    "\n",
    "class WeightCalculationTransformer(Transformer, HasInputCol, HasOutputCol):\n",
    "    factor = Param(Params._dummy(), \"factor\", \"factor to scale the class weights\", \n",
    "                   typeConverter=TypeConverters.toFloat)\n",
    "\n",
    "    def __init__(self, inputCol=None, outputCol=None, factor=1.0):\n",
    "        super().__init__()\n",
    "        self._setDefault(factor=1.0)\n",
    "        if inputCol is not None:\n",
    "            self.setInputCol(inputCol)\n",
    "        if outputCol is not None:\n",
    "            self.setOutputCol(outputCol)\n",
    "        if factor is not None:\n",
    "            self.setFactor(factor)\n",
    "    \n",
    "    def setInputCol(self, value):\n",
    "        return self._set(inputCol=value)\n",
    "\n",
    "    def setOutputCol(self, value):\n",
    "        return self._set(outputCol=value)\n",
    "\n",
    "    def setFactor(self, value):\n",
    "        return self._set(factor=value)\n",
    "\n",
    "    def getFactor(self):\n",
    "        return self.getOrDefault(self.factor)\n",
    "\n",
    "    def _transform(self, dataset):\n",
    "        factor = self.getFactor()\n",
    "        # Calculate the ratio of fraudulent transactions\n",
    "        fraudRatio = dataset.filter(col(self.getInputCol()) == 1).count() / dataset.count()\n",
    "        nonFraudWeight = fraudRatio\n",
    "        fraudWeight = 1 - fraudRatio\n",
    "\n",
    "        return dataset.withColumn(self.getOutputCol(), \n",
    "                                  when(col(self.getInputCol()) == 1, fraudWeight*factor)\n",
    "                                  .otherwise(nonFraudWeight))\n"
   ]
  },
  {
   "cell_type": "markdown",
   "metadata": {
    "application/vnd.databricks.v1+cell": {
     "cellMetadata": {
      "byteLimit": 2048000,
      "rowLimit": 10000
     },
     "inputWidgets": {},
     "nuid": "5e7b66ae-7714-488b-9ace-ccf88de453a9",
     "showTitle": false,
     "title": ""
    }
   },
   "source": [
    "### Training"
   ]
  },
  {
   "cell_type": "code",
   "execution_count": 18,
   "metadata": {
    "application/vnd.databricks.v1+cell": {
     "cellMetadata": {
      "byteLimit": 2048000,
      "rowLimit": 10000
     },
     "inputWidgets": {},
     "nuid": "51ab3e9d-c335-4019-b7b1-1a16857ce527",
     "showTitle": false,
     "title": ""
    }
   },
   "outputs": [
    {
     "name": "stderr",
     "output_type": "stream",
     "text": [
      "                                                                                \r"
     ]
    }
   ],
   "source": [
    "from pyspark.ml.classification import GBTClassifier\n",
    "# untuned model - use this for a fast run\n",
    "# weightCalcNew = WeightCalculationTransformer(inputCol='is_fraud', outputCol='weight', factor=1)\n",
    "# gbt = GBTClassifier(labelCol=\"is_fraud\", seed=42, maxDepth=5, maxIter=10)\n",
    "\n",
    "# tuned model - for best performance\n",
    "weightCalcNew = WeightCalculationTransformer(inputCol='is_fraud', outputCol='weight', factor=0.5)\n",
    "gbt = GBTClassifier(labelCol=\"is_fraud\", seed=42, maxDepth=10, maxIter=20)\n",
    "\n",
    "gbt.setFeaturesCol(\"features\")\n",
    "gbt.setWeightCol(\"weight\")\n",
    "classifier = gbt\n",
    "\n",
    "# define pipeline using previously defined stages\n",
    "pipeline = Pipeline(stages=[weightCalcNew, colTransformer, stringIndexer, oneHotEncoder, assembler, classifier])\n",
    "\n",
    "model_two = pipeline.fit(training)"
   ]
  },
  {
   "cell_type": "code",
   "execution_count": 19,
   "metadata": {
    "application/vnd.databricks.v1+cell": {
     "cellMetadata": {
      "byteLimit": 2048000,
      "rowLimit": 10000
     },
     "inputWidgets": {},
     "nuid": "0bff0512-9edc-4c60-839d-f7aa98c90330",
     "showTitle": false,
     "title": ""
    }
   },
   "outputs": [
    {
     "name": "stderr",
     "output_type": "stream",
     "text": [
      "                                                                                \r"
     ]
    }
   ],
   "source": [
    "preds = model_two.transform(test) "
   ]
  },
  {
   "cell_type": "markdown",
   "metadata": {
    "application/vnd.databricks.v1+cell": {
     "cellMetadata": {
      "byteLimit": 2048000,
      "rowLimit": 10000
     },
     "inputWidgets": {},
     "nuid": "55b68c43-de4e-422c-9297-b87096de3b39",
     "showTitle": false,
     "title": ""
    }
   },
   "source": [
    "### Model Evaluation"
   ]
  },
  {
   "cell_type": "code",
   "execution_count": 20,
   "metadata": {
    "application/vnd.databricks.v1+cell": {
     "cellMetadata": {},
     "inputWidgets": {},
     "nuid": "ab50b9c5-4076-4cbf-9a7e-e73e45a81044",
     "showTitle": false,
     "title": ""
    }
   },
   "outputs": [
    {
     "name": "stderr",
     "output_type": "stream",
     "text": [
      "                                                                                \r"
     ]
    },
    {
     "data": {
      "text/plain": [
       "0.783130020289544"
      ]
     },
     "execution_count": 20,
     "metadata": {},
     "output_type": "execute_result"
    }
   ],
   "source": [
    "from pyspark.ml.evaluation import BinaryClassificationEvaluator\n",
    "\n",
    "# Instantiate the evaluator. PR metrics are used given the highly\n",
    "# unbalanced target class\n",
    "bce= BinaryClassificationEvaluator(rawPredictionCol= \"rawPrediction\",\n",
    "                                   labelCol=\"is_fraud\", \n",
    "                                   metricName= \"areaUnderPR\")\n",
    "                                   \n",
    "bce.evaluate(preds)"
   ]
  },
  {
   "cell_type": "code",
   "execution_count": 21,
   "metadata": {
    "application/vnd.databricks.v1+cell": {
     "cellMetadata": {},
     "inputWidgets": {},
     "nuid": "08dd1113-89df-41bc-932e-4697256467a9",
     "showTitle": false,
     "title": ""
    }
   },
   "outputs": [
    {
     "name": "stderr",
     "output_type": "stream",
     "text": [
      "/usr/local/Cellar/apache-spark/3.5.0/libexec/python/pyspark/sql/context.py:158: FutureWarning: Deprecated in 3.0.0. Use SparkSession.builder.getOrCreate() instead.\n",
      "  warnings.warn(\n",
      "                                                                                \r"
     ]
    },
    {
     "data": {
      "text/html": [
       "<div>\n",
       "<style scoped>\n",
       "    .dataframe tbody tr th:only-of-type {\n",
       "        vertical-align: middle;\n",
       "    }\n",
       "\n",
       "    .dataframe tbody tr th {\n",
       "        vertical-align: top;\n",
       "    }\n",
       "\n",
       "    .dataframe thead th {\n",
       "        text-align: right;\n",
       "    }\n",
       "</style>\n",
       "<table border=\"1\" class=\"dataframe\">\n",
       "  <thead>\n",
       "    <tr style=\"text-align: right;\">\n",
       "      <th></th>\n",
       "      <th>predicted (0)</th>\n",
       "      <th>predicted (1)</th>\n",
       "    </tr>\n",
       "  </thead>\n",
       "  <tbody>\n",
       "    <tr>\n",
       "      <th>actual (0)</th>\n",
       "      <td>253950.0</td>\n",
       "      <td>3847.0</td>\n",
       "    </tr>\n",
       "    <tr>\n",
       "      <th>actual (1)</th>\n",
       "      <td>93.0</td>\n",
       "      <td>1445.0</td>\n",
       "    </tr>\n",
       "  </tbody>\n",
       "</table>\n",
       "</div>"
      ],
      "text/plain": [
       "            predicted (0)  predicted (1)\n",
       "actual (0)       253950.0         3847.0\n",
       "actual (1)           93.0         1445.0"
      ]
     },
     "execution_count": 21,
     "metadata": {},
     "output_type": "execute_result"
    }
   ],
   "source": [
    "from pyspark.mllib.evaluation import MulticlassMetrics\n",
    "\n",
    "# create confusion matrix\n",
    "\n",
    "preds_float = preds \\\n",
    "    .select(\"prediction\", \"is_fraud\") \\\n",
    "    .withColumn(\"is_fraud\", col(\"is_fraud\").cast(DoubleType())) \\\n",
    "    .orderBy(\"prediction\")\n",
    "\n",
    "cm = MulticlassMetrics(preds_float.rdd.map(tuple))\n",
    "\n",
    "# print(cm.confusionMatrix().toArray())\n",
    "\n",
    "#show the confusion matrix as a pandas df for clearer presentation\n",
    "pd.DataFrame(cm.confusionMatrix().toArray(),\n",
    "             columns= [\"predicted (0)\", \"predicted (1)\"],\n",
    "             index= [\"actual (0)\", \"actual (1)\"])"
   ]
  },
  {
   "cell_type": "code",
   "execution_count": 22,
   "metadata": {
    "application/vnd.databricks.v1+cell": {
     "cellMetadata": {},
     "inputWidgets": {},
     "nuid": "f3b0f340-e772-45a6-9615-5a62873d6393",
     "showTitle": false,
     "title": ""
    }
   },
   "outputs": [
    {
     "name": "stdout",
     "output_type": "stream",
     "text": [
      "Summary Stats\n",
      "Precision = 0.27305366591080876\n",
      "Recall = 0.9395318595578673\n",
      "F1 Score = 0.4231332357247438\n"
     ]
    }
   ],
   "source": [
    "# print overall classification stats\n",
    "\n",
    "precision = cm.precision(1.0)\n",
    "recall = cm.recall(1.0)\n",
    "f1Score = cm.fMeasure(1.0)\n",
    "print(\"Summary Stats\")\n",
    "print(\"Precision = %s\" % precision)\n",
    "print(\"Recall = %s\" % recall)\n",
    "print(\"F1 Score = %s\" % f1Score)"
   ]
  },
  {
   "cell_type": "markdown",
   "metadata": {
    "application/vnd.databricks.v1+cell": {
     "cellMetadata": {},
     "inputWidgets": {},
     "nuid": "1a2928d4-5316-41f1-b4f9-af86d7601549",
     "showTitle": false,
     "title": ""
    }
   },
   "source": [
    "### Impact of Class Weight"
   ]
  },
  {
   "cell_type": "markdown",
   "metadata": {
    "application/vnd.databricks.v1+cell": {
     "cellMetadata": {},
     "inputWidgets": {},
     "nuid": "163cb28f-63ce-4bb5-b7b6-1aa58a077666",
     "showTitle": false,
     "title": ""
    }
   },
   "source": [
    "Using the user defined weightCalculationTransformer, we are able to change the class weight by assigning different transformer param \"factor\". The larger the factor is the more weighted the fraud cases while the default factor is 1. Below is the results of changing the factor within the list [0.5, 1, 2] with maxDepth at 5 and maxIter at 10.\n",
    "| Experiment NO. | Class Weight Factor   | Area Under PR | Precision | Recall |\n",
    "| :-------- | :-------: | :------: | :------: | :------: |\n",
    "| 1 | 1 | 0.505 | 0.145 | 0.921 |\n",
    "| 2 | 2 | 0.412 | 0.059 | 0.974 |\n",
    "| 3 | 0.5 | 0.596 | 0.233 | 0.887 |\n"
   ]
  },
  {
   "cell_type": "markdown",
   "metadata": {
    "application/vnd.databricks.v1+cell": {
     "cellMetadata": {},
     "inputWidgets": {},
     "nuid": "e7c60f4e-0815-4336-824c-4482a8fc6a18",
     "showTitle": false,
     "title": ""
    }
   },
   "source": [
    "We can see that, by doubling the weight of fraud label, we can make the Recall increase to 97%, a nearly perfect fraud detection rate. However the precision drops to only 5.9%, meaning 94.1% of alarmed transactions are falsely targeted. Overall, it is not a better model performance, which can also be indicated by the number of areaUnderPR. In experiment NO. 3, with a lower weight of fraud cases, we can achieve a much higher areaUnderPR with a better precison and a slightly lower recall, which we think is better than the performance with default factor value(NO.1). In summary, because the binary label column is very imbalanced, the class weight used has a key role in the model performance."
   ]
  },
  {
   "cell_type": "markdown",
   "metadata": {
    "application/vnd.databricks.v1+cell": {
     "cellMetadata": {},
     "inputWidgets": {},
     "nuid": "6f918791-2b2d-4b92-83c5-cdd5fd6e5201",
     "showTitle": false,
     "title": ""
    }
   },
   "source": [
    "### Cross Validation and Fine Tuning"
   ]
  },
  {
   "cell_type": "markdown",
   "metadata": {
    "application/vnd.databricks.v1+cell": {
     "cellMetadata": {},
     "inputWidgets": {},
     "nuid": "09e57acb-e803-4262-afe0-27382a5539db",
     "showTitle": false,
     "title": ""
    }
   },
   "source": [
    "Using grid search to do fine tuning is the best approach but computation resource is too limited  for that especially together with cross validation. Therefore, instead of a grid research with the following example, <br>\n",
    "```\n",
    "paramGrid = ParamGridBuilder() \\\n",
    "    .addGrid(weightCalc.factor, [0.5, 1, 2]) \\\n",
    "    .addGrid(classifier.maxDepth, [5, 10]) \\\n",
    "    .addGrid(classifier.maxIter, [10, 20]) \\\n",
    "    .build()\n",
    "```\n",
    "I manually experimented with different combinations of the above three most important params, weightCalc's factor, maxDepth of classifier and maxIter of classifier. The best params so far are displayed as follows and applied to the Training section at the beginning of model #2 <br><br>\n",
    "<b>Optimal Params:</b><br>\n",
    "class weight factor = <b>0.5</b><br>\n",
    "maxDepth of Gradient Boosting Trees Model = <b>10</b><br>\n",
    "maxIter of Gradient Boosting Trees Model = <b>20</b><br>\n"
   ]
  },
  {
   "cell_type": "markdown",
   "metadata": {
    "application/vnd.databricks.v1+cell": {
     "cellMetadata": {},
     "inputWidgets": {},
     "nuid": "3a26f7e6-769f-4ec7-9561-b79cbcc97d89",
     "showTitle": false,
     "title": ""
    }
   },
   "source": [
    "With the optimal params, we did a cross validation to confirm if the model generalizes well, in other words, if not overfitted because of a particular split of training and test dataset. (Note: The code is commented for the purpose of reducing workload of this notebook)"
   ]
  },
  {
   "cell_type": "code",
   "execution_count": 0,
   "metadata": {
    "application/vnd.databricks.v1+cell": {
     "cellMetadata": {},
     "inputWidgets": {},
     "nuid": "f052fa87-dbd2-4c59-9e01-ad679c85d7c2",
     "showTitle": false,
     "title": ""
    }
   },
   "outputs": [],
   "source": [
    "## Note: keep this commented unless to reduce compuation load\n",
    "# from pyspark.ml.classification import GBTClassifier\n",
    "# from pyspark.ml.tuning import ParamGridBuilder, CrossValidator\n",
    "# from pyspark.ml.evaluation import BinaryClassificationEvaluator\n",
    "\n",
    "# # tuned model - for best performance\n",
    "# weightCalcNew = WeightCalculationTransformer(inputCol='is_fraud', outputCol='weight', factor=0.5)\n",
    "# gbt = GBTClassifier(labelCol=\"is_fraud\", seed=42, maxDepth=10, maxIter=20)\n",
    "\n",
    "# gbt.setFeaturesCol(\"features\")\n",
    "# gbt.setWeightCol(\"weight\")\n",
    "\n",
    "# classifier = gbt\n",
    "\n",
    "# # define pipeline using previously defined stages\n",
    "# pipeline = Pipeline(stages=[weightCalcNew, colTransformer, stringIndexer, oneHotEncoder, assembler, classifier])\n",
    "\n",
    "# # Define a grid of parameters to search over\n",
    "# paramGrid = ParamGridBuilder() \\\n",
    "#     .build()\n",
    "#     # .addGrid(weightCalc.factor, [0.5, 1, 2]) \\\n",
    "#     # .addGrid(classifier.maxDepth, [5, 10]) \\\n",
    "#     # .addGrid(classifier.maxIter, [10, 20]) \\\n",
    "\n",
    "# # Define the evaluator with PR AUC as the metric\n",
    "# evaluator = BinaryClassificationEvaluator(labelCol=\"is_fraud\", metricName=\"areaUnderPR\")\n",
    "\n",
    "# # Set up cross-validation\n",
    "# cv = CrossValidator(estimator=pipeline,\n",
    "#                     estimatorParamMaps=paramGrid,\n",
    "#                     evaluator=evaluator,\n",
    "#                     numFolds=5)\n",
    "\n",
    "# # Fit the model\n",
    "# cv_model = cv.fit(training)"
   ]
  },
  {
   "cell_type": "code",
   "execution_count": 0,
   "metadata": {
    "application/vnd.databricks.v1+cell": {
     "cellMetadata": {},
     "inputWidgets": {},
     "nuid": "ee67f94b-09c9-437c-af14-16a8a1e2839d",
     "showTitle": false,
     "title": ""
    }
   },
   "outputs": [
    {
     "name": "stdout",
     "output_type": "stream",
     "text": [
      "Average AUC-PR: 0.7925123352517118\n",
      "Standard Deviation: 0.019029967164419383\n"
     ]
    }
   ],
   "source": [
    "# # keep commented as this is the post processing of the above commented cell\n",
    "# # Analysis of results\n",
    "# print(\"Average AUC-PR:\", cv_model.avgMetrics[0])\n",
    "# print(\"Standard Deviation:\", cv_model.stdMetrics[0])"
   ]
  },
  {
   "cell_type": "markdown",
   "metadata": {
    "application/vnd.databricks.v1+cell": {
     "cellMetadata": {},
     "inputWidgets": {},
     "nuid": "ecded343-4196-4f25-9c5b-574d75b68912",
     "showTitle": false,
     "title": ""
    }
   },
   "source": [
    "The results show that the average areaUnderPR of 5-folds cross validation is 0.793 and the standard deviation is 0.019, indicating that the model performance is pretty consistent among the 5 experiments. This confirms that the combination of optimal params chosen is generalized well and can be confidently used."
   ]
  },
  {
   "cell_type": "markdown",
   "metadata": {
    "application/vnd.databricks.v1+cell": {
     "cellMetadata": {},
     "inputWidgets": {},
     "nuid": "0180524b-5f3c-4bac-b55a-ba9fa02fff55",
     "showTitle": false,
     "title": ""
    }
   },
   "source": [
    "### Results Analysis"
   ]
  },
  {
   "cell_type": "markdown",
   "metadata": {
    "application/vnd.databricks.v1+cell": {
     "cellMetadata": {},
     "inputWidgets": {},
     "nuid": "95a7e033-f517-48e4-a0af-214b0480d7f7",
     "showTitle": false,
     "title": ""
    }
   },
   "source": [
    "As we can see from the evaluation results of tuned model #2, recall and precision, the two most imporant metrics for fraud detection, both improved significantly compared to best results of model #1 using random forest model. The recall increased from 75.7% to 91.2%, meaning 91.2% of fraud records can be detected in test set. The precision went up from 9.5% to 27.7%, meaning that false alarm rate dropped by absolute 18.2%. This is a great improvement of model performance."
   ]
  },
  {
   "cell_type": "markdown",
   "metadata": {
    "application/vnd.databricks.v1+cell": {
     "cellMetadata": {},
     "inputWidgets": {},
     "nuid": "6baa1f32-0978-4bf2-a47e-cfae8c9e3ff8",
     "showTitle": false,
     "title": ""
    }
   },
   "source": [
    "Here's the explanation for the better performance of gradient boosting model. Compared to parallel tree building in random forest model, gradient boosting builds trees one at a time, where each new tree helps to correct errors made by previously trained trees. This sequential building process can lead to a more optimized model as it focuses on correcting the mistakes of previous trees."
   ]
  },
  {
   "cell_type": "markdown",
   "metadata": {
    "application/vnd.databricks.v1+cell": {
     "cellMetadata": {},
     "inputWidgets": {},
     "nuid": "e9193819-0905-4e20-a530-23a7c33a2a86",
     "showTitle": false,
     "title": ""
    }
   },
   "source": [
    "## Model #3 - Feedforward Neural Network"
   ]
  },
  {
   "cell_type": "markdown",
   "metadata": {
    "application/vnd.databricks.v1+cell": {
     "cellMetadata": {},
     "inputWidgets": {},
     "nuid": "eab337e1-6f10-4893-9b20-ccd49bbe1993",
     "showTitle": false,
     "title": ""
    }
   },
   "source": [
    "### Training"
   ]
  },
  {
   "cell_type": "code",
   "execution_count": 0,
   "metadata": {
    "application/vnd.databricks.v1+cell": {
     "cellMetadata": {},
     "inputWidgets": {},
     "nuid": "cb2ffc3a-52a6-423f-b3ab-787a9be793f5",
     "showTitle": false,
     "title": ""
    }
   },
   "outputs": [
    {
     "data": {
      "application/vnd.jupyter.widget-view+json": {
       "model_id": "ff97930ceeec4d0484c48fd178da1565",
       "version_major": 2,
       "version_minor": 0
      },
      "text/plain": [
       "Downloading artifacts:   0%|          | 0/22 [00:00<?, ?it/s]"
      ]
     },
     "metadata": {},
     "output_type": "display_data"
    },
    {
     "data": {
      "application/vnd.jupyter.widget-view+json": {
       "model_id": "358cb63098b3491abd8e9d302f95d37b",
       "version_major": 2,
       "version_minor": 0
      },
      "text/plain": [
       "Uploading artifacts:   0%|          | 0/4 [00:00<?, ?it/s]"
      ]
     },
     "metadata": {},
     "output_type": "display_data"
    }
   ],
   "source": [
    "preprocessingStages = [weightCalc, colTransformer, stringIndexer, oneHotEncoder, assembler]\n",
    "\n",
    "# Create a pipeline for preprocessing\n",
    "preprocessingPipeline = Pipeline(stages=preprocessingStages)\n",
    "\n",
    "# Fit the preprocessing pipeline on the training data and transform both training and test data\n",
    "preprocessingModel = preprocessingPipeline.fit(training)\n",
    "preprocessedTraining = preprocessingModel.transform(training)\n",
    "preprocessedTest = preprocessingModel.transform(test)\n",
    "\n",
    "# Import necessary classes for neural network\n",
    "from pyspark.ml.classification import MultilayerPerceptronClassifier\n",
    "from pyspark.ml.evaluation import MulticlassClassificationEvaluator\n",
    "\n",
    "# Define the layers of the neural network\n",
    "# The number of nodes in the input layer should match the number of features\n",
    "inputLayerSize = len(preprocessedTraining.select(\"features\").first()[0])\n",
    "layers = [inputLayerSize, 5, 4, 2]\n",
    "\n",
    "# Create the trainer for the neural network\n",
    "nn = MultilayerPerceptronClassifier(labelCol=\"is_fraud\", featuresCol=\"features\", maxIter=100, layers=layers, blockSize=128, seed=42)\n",
    "\n",
    "# Train the neural network model\n",
    "nnModel = nn.fit(preprocessedTraining)\n",
    "\n",
    "# Make predictions\n",
    "predictions_nn = nnModel.transform(preprocessedTest)"
   ]
  },
  {
   "cell_type": "markdown",
   "metadata": {
    "application/vnd.databricks.v1+cell": {
     "cellMetadata": {},
     "inputWidgets": {},
     "nuid": "75669fa9-5b84-4c0e-8ea7-357a54d5176e",
     "showTitle": false,
     "title": ""
    }
   },
   "source": [
    "### Model Evaluation"
   ]
  },
  {
   "cell_type": "code",
   "execution_count": 0,
   "metadata": {
    "application/vnd.databricks.v1+cell": {
     "cellMetadata": {},
     "inputWidgets": {},
     "nuid": "b34bacbc-c17a-476e-a86d-cd398571ecfb",
     "showTitle": false,
     "title": ""
    }
   },
   "outputs": [
    {
     "data": {
      "text/plain": [
       "0.4188262871079729"
      ]
     },
     "execution_count": 16,
     "metadata": {},
     "output_type": "execute_result"
    }
   ],
   "source": [
    "from pyspark.ml.evaluation import BinaryClassificationEvaluator\n",
    "\n",
    "# Instantiate the evaluator. PR metrics are used given the highly\n",
    "# unbalanced target class\n",
    "bce= BinaryClassificationEvaluator(rawPredictionCol= \"rawPrediction\",\n",
    "                                   labelCol=\"is_fraud\", \n",
    "                                   metricName= \"areaUnderPR\")\n",
    "                                   \n",
    "bce.evaluate(predictions_nn)"
   ]
  },
  {
   "cell_type": "code",
   "execution_count": 0,
   "metadata": {
    "application/vnd.databricks.v1+cell": {
     "cellMetadata": {},
     "inputWidgets": {},
     "nuid": "6b5b67cc-0194-4dd0-853f-11a2556e2822",
     "showTitle": false,
     "title": ""
    }
   },
   "outputs": [
    {
     "name": "stderr",
     "output_type": "stream",
     "text": [
      "/databricks/spark/python/pyspark/sql/context.py:166: FutureWarning: Deprecated in 3.0.0. Use SparkSession.builder.getOrCreate() instead.\n",
      "  warnings.warn(\n"
     ]
    },
    {
     "name": "stdout",
     "output_type": "stream",
     "text": [
      "Confusion Matrix:\n",
      "[[257359.    438.]\n",
      " [   744.    794.]]\n"
     ]
    }
   ],
   "source": [
    "from pyspark.mllib.evaluation import MulticlassMetrics\n",
    "from pyspark.sql.types import FloatType\n",
    "\n",
    "# Convert predictions to RDD required by MulticlassMetrics\n",
    "predictionsAndLabels = predictions_nn.select(['prediction', 'is_fraud']).rdd.map(lambda r: (float(r[0]), float(r[1])))\n",
    "\n",
    "# Instantiate MulticlassMetrics\n",
    "metrics = MulticlassMetrics(predictionsAndLabels)\n",
    "\n",
    "# Confusion Matrix\n",
    "confusionMatrix = metrics.confusionMatrix().toArray()\n",
    "\n",
    "# Output the Confusion Matrix\n",
    "print(\"Confusion Matrix:\")\n",
    "print(confusionMatrix)"
   ]
  },
  {
   "cell_type": "code",
   "execution_count": 0,
   "metadata": {
    "application/vnd.databricks.v1+cell": {
     "cellMetadata": {},
     "inputWidgets": {},
     "nuid": "ef2bf2f7-5388-4828-a79f-ff4244b53527",
     "showTitle": false,
     "title": ""
    }
   },
   "outputs": [
    {
     "name": "stdout",
     "output_type": "stream",
     "text": [
      "\n",
      "Classification Report:\n",
      "Precision = 0.6444805194805194\n",
      "Recall = 0.5162548764629389\n",
      "F1 Score = 0.5732851985559566\n",
      "Accuracy = 0.99544218867488\n",
      "\n",
      "Class 0.0 metrics:\n",
      "Precision = 0.9971174298632717\n",
      "Recall = 0.9983009887624759\n",
      "F1 Score = 0.9977088583058733\n",
      "\n",
      "Class 1.0 metrics:\n",
      "Precision = 0.6444805194805194\n",
      "Recall = 0.5162548764629389\n",
      "F1 Score = 0.5732851985559566\n"
     ]
    }
   ],
   "source": [
    "# Calculate precision, recall, F1 score, and accuracy\n",
    "precision = metrics.precision(1.0)\n",
    "recall = metrics.recall(1.0)\n",
    "f1Score = metrics.fMeasure(1.0)\n",
    "accuracy = metrics.accuracy\n",
    "\n",
    "# Print classification report\n",
    "print(\"\\nClassification Report:\")\n",
    "print(\"Precision = %s\" % precision)\n",
    "print(\"Recall = %s\" % recall)\n",
    "print(\"F1 Score = %s\" % f1Score)\n",
    "print(\"Accuracy = %s\" % accuracy)\n",
    "\n",
    "# For a more detailed report including metrics for each class, you can loop through the labels\n",
    "for label in [0.0, 1.0]:\n",
    "    print(\"\\nClass %s metrics:\" % label)\n",
    "    print(\"Precision = %s\" % metrics.precision(label))\n",
    "    print(\"Recall = %s\" % metrics.recall(label))\n",
    "    print(\"F1 Score = %s\" % metrics.fMeasure(label, beta=1.0))"
   ]
  },
  {
   "cell_type": "markdown",
   "metadata": {
    "application/vnd.databricks.v1+cell": {
     "cellMetadata": {},
     "inputWidgets": {},
     "nuid": "831cbb4c-dc87-4ba3-9f70-29331f724f22",
     "showTitle": false,
     "title": ""
    }
   },
   "source": [
    "## Best Model Selection and Probability Threshold Optimization\n",
    "\n",
    "Our result analysis suggests that GradientBoostClassifier has an edge over RandomForestClassifier. We will use this model for the real-time prototype. Before doing so, however, we assess different probability thresholds and select the threshold that has the highest f1 score. This is our attempt to strike the best balance between presision and recall."
   ]
  },
  {
   "cell_type": "markdown",
   "metadata": {
    "application/vnd.databricks.v1+cell": {
     "cellMetadata": {},
     "inputWidgets": {},
     "nuid": "d1d5a80b-38f9-47d9-8cd0-c38a5ac8028a",
     "showTitle": false,
     "title": ""
    }
   },
   "source": [
    "### PR Curve\n",
    "\n",
    "Given the highly imbalanced target class, the PR curve is more meaningful than the AUC-ROC plot."
   ]
  },
  {
   "cell_type": "code",
   "execution_count": 23,
   "metadata": {
    "application/vnd.databricks.v1+cell": {
     "cellMetadata": {},
     "inputWidgets": {},
     "nuid": "0c3c4e70-a77c-421c-a652-1c9a8221e1c8",
     "showTitle": false,
     "title": ""
    }
   },
   "outputs": [],
   "source": [
    "# source: https://stackoverflow.com/questions/52847408/pyspark-extract-roc-curve\n",
    "\n",
    "from pyspark.mllib.evaluation import BinaryClassificationMetrics\n",
    "\n",
    "# Scala version implements .roc() and .pr()\n",
    "# Python: https://spark.apache.org/docs/latest/api/python/_modules/pyspark/mllib/common.html\n",
    "# Scala: https://spark.apache.org/docs/latest/api/java/org/apache/spark/mllib/evaluation/BinaryClassificationMetrics.html\n",
    "class CurveMetrics(BinaryClassificationMetrics):\n",
    "    def __init__(self, *args):\n",
    "        super(CurveMetrics, self).__init__(*args)\n",
    "\n",
    "    def _to_list(self, rdd):\n",
    "        points = []\n",
    "        # Note this collect could be inefficient for large datasets \n",
    "        # considering there may be one probability per datapoint (at most)\n",
    "        # The Scala version takes a numBins parameter, \n",
    "        # but it doesn't seem possible to pass this from Python to Java\n",
    "        for row in rdd.collect():\n",
    "            # Results are returned as type scala.Tuple2, \n",
    "            # which doesn't appear to have a py4j mapping\n",
    "            points += [(float(row._1()), float(row._2()))]\n",
    "        return points\n",
    "\n",
    "    def get_curve(self, method):\n",
    "        rdd = getattr(self._java_model, method)().toJavaRDD()\n",
    "        return self._to_list(rdd)"
   ]
  },
  {
   "cell_type": "code",
   "execution_count": 24,
   "metadata": {
    "application/vnd.databricks.v1+cell": {
     "cellMetadata": {},
     "inputWidgets": {},
     "nuid": "bf98eb96-d739-4d38-b55c-1a764dd32953",
     "showTitle": false,
     "title": ""
    }
   },
   "outputs": [
    {
     "name": "stderr",
     "output_type": "stream",
     "text": [
      "/usr/local/Cellar/apache-spark/3.5.0/libexec/python/pyspark/sql/context.py:158: FutureWarning: Deprecated in 3.0.0. Use SparkSession.builder.getOrCreate() instead.\n",
      "  warnings.warn(\n",
      "                                                                                \r"
     ]
    },
    {
     "data": {
      "image/png": "[encoded data removed]",
      "text/plain": [
       "<Figure size 640x480 with 1 Axes>"
      ]
     },
     "metadata": {},
     "output_type": "display_data"
    }
   ],
   "source": [
    "import matplotlib.pyplot as plt\n",
    "\n",
    "# Returns as a list (false positive rate, true positive rate)\n",
    "preds_list = preds.select('is_fraud','probability').rdd.map(lambda row: (float(row['probability'][1]), float(row['is_fraud'])))\n",
    "points = CurveMetrics(preds_list).get_curve('pr')\n",
    "\n",
    "plt.figure()\n",
    "x_val = [x[0] for x in points]\n",
    "y_val = [x[1] for x in points]\n",
    "plt.title(\"PR Curve\")\n",
    "plt.xlabel(\"Recall\")\n",
    "plt.ylabel(\"Precision\")\n",
    "plt.plot(x_val, y_val)\n",
    "plt.show()"
   ]
  },
  {
   "cell_type": "markdown",
   "metadata": {
    "application/vnd.databricks.v1+cell": {
     "cellMetadata": {},
     "inputWidgets": {},
     "nuid": "af196274-777c-4186-838d-eeb4ac623a22",
     "showTitle": false,
     "title": ""
    }
   },
   "source": [
    "### Probability Threshold Fine Tuning"
   ]
  },
  {
   "cell_type": "markdown",
   "metadata": {
    "application/vnd.databricks.v1+cell": {
     "cellMetadata": {},
     "inputWidgets": {},
     "nuid": "a821211a-a8cd-42b2-b22a-b272876650a3",
     "showTitle": false,
     "title": ""
    }
   },
   "source": [
    "By default the probability threshold of the model is 0.5 (50%). Anything above is assessed as a positive. In this section we test different probability thresholds, and use the f1-score as the metric to select the best threshold."
   ]
  },
  {
   "cell_type": "code",
   "execution_count": 25,
   "metadata": {
    "application/vnd.databricks.v1+cell": {
     "cellMetadata": {},
     "inputWidgets": {},
     "nuid": "c7c68d7a-57a4-439d-a177-3368ac08eb36",
     "showTitle": false,
     "title": ""
    }
   },
   "outputs": [
    {
     "name": "stderr",
     "output_type": "stream",
     "text": [
      "                                                                                \r"
     ]
    },
    {
     "name": "stdout",
     "output_type": "stream",
     "text": [
      "Summary Stats for p = 0.5\n",
      "Precision = 0.27305366591080876\n",
      "Recall = 0.9395318595578673\n",
      "F1 Score = 0.4231332357247438\n",
      "\n"
     ]
    },
    {
     "name": "stderr",
     "output_type": "stream",
     "text": [
      "                                                                                \r"
     ]
    },
    {
     "name": "stdout",
     "output_type": "stream",
     "text": [
      "Summary Stats for p = 0.6\n",
      "Precision = 0.3156845369960124\n",
      "Recall = 0.9265279583875162\n",
      "F1 Score = 0.47091870456047585\n",
      "\n"
     ]
    },
    {
     "name": "stderr",
     "output_type": "stream",
     "text": [
      "                                                                                \r"
     ]
    },
    {
     "name": "stdout",
     "output_type": "stream",
     "text": [
      "Summary Stats for p = 0.7\n",
      "Precision = 0.383008356545961\n",
      "Recall = 0.8940182054616385\n",
      "F1 Score = 0.5362714508580344\n",
      "\n"
     ]
    },
    {
     "name": "stderr",
     "output_type": "stream",
     "text": [
      "                                                                                \r"
     ]
    },
    {
     "name": "stdout",
     "output_type": "stream",
     "text": [
      "Summary Stats for p = 0.8\n",
      "Precision = 0.46335447498238197\n",
      "Recall = 0.8550065019505851\n",
      "F1 Score = 0.6010054844606947\n",
      "\n"
     ]
    },
    {
     "name": "stderr",
     "output_type": "stream",
     "text": [
      "[Stage 830:>                                                        (0 + 1) / 1]\r"
     ]
    },
    {
     "name": "stdout",
     "output_type": "stream",
     "text": [
      "Summary Stats for p = 0.9\n",
      "Precision = 0.5844901866921972\n",
      "Recall = 0.793888166449935\n",
      "F1 Score = 0.6732837055417701\n",
      "\n",
      "Best threshold = 0.9\n"
     ]
    },
    {
     "name": "stderr",
     "output_type": "stream",
     "text": [
      "\r",
      "                                                                                \r"
     ]
    }
   ],
   "source": [
    "# formula for thresholds where p is the probability of class 1:\n",
    "# [a,b] where a = 1, b = p / (1 - p)\n",
    "\n",
    "bestScore = 0\n",
    "bestThreshold = 0\n",
    "\n",
    "for p in [0.5, 0.6, 0.7, 0.8, 0.9]:\n",
    "    \n",
    "    # use this if using cross-validated pipeline\n",
    "    # model.stages[-1].bestModel.setThresholds([1,p/(1-p)])\n",
    "    \n",
    "    # use this if using single model (pre-tuned) pipeline\n",
    "    model_two.stages[-1].setThresholds([1,p/(1-p)])\n",
    "    \n",
    "    preds_adj = model_two.transform(test)\n",
    "    \n",
    "    preds_float = preds_adj \\\n",
    "        .select(\"prediction\", \"is_fraud\") \\\n",
    "        .withColumn(\"is_fraud\", col(\"is_fraud\").cast(DoubleType())) \\\n",
    "        .orderBy(\"prediction\")\n",
    "\n",
    "    cm = MulticlassMetrics(preds_float.rdd.map(tuple))\n",
    "    \n",
    "    precision = cm.precision(1.0)\n",
    "    recall = cm.recall(1.0)\n",
    "    f1Score = cm.fMeasure(1.0)\n",
    "    print(\"Summary Stats for p = %s\" % p)\n",
    "    print(\"Precision = %s\" % precision)\n",
    "    print(\"Recall = %s\" % recall)\n",
    "    print(\"F1 Score = %s\\n\" % f1Score)\n",
    "    \n",
    "    if (f1Score > bestScore):\n",
    "        bestScore = f1Score\n",
    "        bestThreshold = p\n",
    "        \n",
    "print(\"Best threshold = %s\" % bestThreshold)"
   ]
  },
  {
   "cell_type": "code",
   "execution_count": 26,
   "metadata": {
    "application/vnd.databricks.v1+cell": {
     "cellMetadata": {},
     "inputWidgets": {},
     "nuid": "39faae4e-82c7-4e96-8bf9-0da50f761124",
     "showTitle": false,
     "title": ""
    }
   },
   "outputs": [
    {
     "data": {
      "text/plain": [
       "GBTClassificationModel: uid = GBTClassifier_c72526f95ce0, numTrees=20, numClasses=2, numFeatures=584"
      ]
     },
     "execution_count": 26,
     "metadata": {},
     "output_type": "execute_result"
    }
   ],
   "source": [
    "# use this if using cross-validated pipeline\n",
    "# model_two.stages[-1].bestModel.setThresholds([1,bestThreshold/(1-bestThreshold)])\n",
    "\n",
    "# use this if using single model (pre-tuned) pipeline\n",
    "model_two.stages[-1].setThresholds([1,bestThreshold/(1-bestThreshold)])"
   ]
  },
  {
   "cell_type": "markdown",
   "metadata": {
    "application/vnd.databricks.v1+cell": {
     "cellMetadata": {},
     "inputWidgets": {},
     "nuid": "d33de0c9-c825-4389-bbd0-a3fdfb495e89",
     "showTitle": false,
     "title": ""
    }
   },
   "source": [
    "### Feature Importances Extraction and Analysis"
   ]
  },
  {
   "cell_type": "markdown",
   "metadata": {
    "application/vnd.databricks.v1+cell": {
     "cellMetadata": {},
     "inputWidgets": {},
     "nuid": "4b7d5920-2de2-49e9-aba5-69bd7a3595dd",
     "showTitle": false,
     "title": ""
    }
   },
   "source": [
    "Extraction of features using the technique shown [here](https://www.timlrx.com/blog/feature-selection-using-feature-importance-score-creating-a-pyspark-estimator). The plot confirms our EDA findings that key differentiators for fraud detection are transactions amounts, specific categories of shopping (online) and late hours of the day."
   ]
  },
  {
   "cell_type": "code",
   "execution_count": 27,
   "metadata": {
    "application/vnd.databricks.v1+cell": {
     "cellMetadata": {},
     "inputWidgets": {},
     "nuid": "bec44b01-8dfc-4681-bd1a-3f23968e698f",
     "showTitle": false,
     "title": ""
    }
   },
   "outputs": [
    {
     "data": {
      "image/png": "[encoded data removed]",
      "text/plain": [
       "<Figure size 900x600 with 1 Axes>"
      ]
     },
     "metadata": {},
     "output_type": "display_data"
    }
   ],
   "source": [
    "def ExtractFeatureImp(featureImp, dataset, featuresCol):\n",
    "    list_extract = []\n",
    "    for i in dataset.schema[featuresCol].metadata[\"ml_attr\"][\"attrs\"]:\n",
    "        list_extract = list_extract + dataset.schema[featuresCol].metadata[\"ml_attr\"][\"attrs\"][i]\n",
    "    varlist = pd.DataFrame(list_extract)\n",
    "    varlist['score'] = varlist['idx'].apply(lambda x: featureImp[x])\n",
    "    return(varlist.sort_values('score', ascending = False))\n",
    "\n",
    "# retrieve top 10 features\n",
    "features = ExtractFeatureImp(model_two.stages[-1].featureImportances, preds, \"features\").head(10)\n",
    "\n",
    "# visualize feature importances\n",
    "plt.figure(figsize=(9, 6))\n",
    "sns.barplot(x='score', y='name', data=features, orient='h')\n",
    "plt.title('Feature Importances')\n",
    "plt.xlabel('Feature Score')\n",
    "plt.ylabel('Feature')\n",
    "plt.xlim(0, 0.5)\n",
    "plt.show()"
   ]
  },
  {
   "cell_type": "markdown",
   "metadata": {
    "application/vnd.databricks.v1+cell": {
     "cellMetadata": {
      "byteLimit": 2048000,
      "rowLimit": 10000
     },
     "inputWidgets": {},
     "nuid": "ff493497-0df8-4cbc-92a7-d4b422ff9dcf",
     "showTitle": false,
     "title": ""
    }
   },
   "source": [
    "## Real Time Prediction Prototype 1 - Streaming From CSV"
   ]
  },
  {
   "cell_type": "code",
   "execution_count": 0,
   "metadata": {
    "application/vnd.databricks.v1+cell": {
     "cellMetadata": {
      "byteLimit": 2048000,
      "rowLimit": 10000
     },
     "inputWidgets": {},
     "nuid": "a0bc7b38-0fce-450c-bae5-d27756055096",
     "showTitle": false,
     "title": ""
    }
   },
   "outputs": [],
   "source": [
    "# Set the following value to True if you want to test drive streaming\n",
    "enableStreaming = False\n",
    "# Set to true if running locally, false if run on Databricks\n",
    "isLocal = False\n",
    "\n",
    "inputPath = 'events' if isLocal else \"/Filestore/events\""
   ]
  },
  {
   "cell_type": "code",
   "execution_count": 0,
   "metadata": {
    "application/vnd.databricks.v1+cell": {
     "cellMetadata": {
      "byteLimit": 2048000,
      "rowLimit": 10000
     },
     "inputWidgets": {},
     "nuid": "f9b4d24d-bd7c-4140-a87d-24853dee563b",
     "showTitle": false,
     "title": ""
    }
   },
   "outputs": [],
   "source": [
    "if (enableStreaming):\n",
    "\n",
    "    # Select a few fraudulent transactions from the test data set and write them to file.\n",
    "    testData = test.where(col(\"is_fraud\")==1.0).sample(0.01).repartition(100)\n",
    "    testData.write.mode(\"overwrite\").format(\"CSV\").option(\"header\",True).save(inputPath)"
   ]
  },
  {
   "cell_type": "code",
   "execution_count": 0,
   "metadata": {
    "application/vnd.databricks.v1+cell": {
     "cellMetadata": {
      "byteLimit": 2048000,
      "rowLimit": 10000
     },
     "inputWidgets": {},
     "nuid": "22fdf602-99d8-448e-a299-889ade21e07a",
     "showTitle": false,
     "title": ""
    }
   },
   "outputs": [],
   "source": [
    "# establish event stream\n",
    "if (enableStreaming):\n",
    "    file_events = spark.readStream.format(\"csv\") \\\n",
    "                             .option(\"header\",True) \\\n",
    "                             .schema(ccschema) \\\n",
    "                             .option(\"ignoreLeadingWhiteSpace\",True) \\\n",
    "                             .option(\"mode\",\"dropMalformed\") \\\n",
    "                             .option(\"maxFilesPerTrigger\",1) \\\n",
    "                             .load(inputPath) \\\n",
    "                             .withColumn(\"window\", window(\"trans_date_trans_time\", \"24 hours\", \"24 hours\"))"
   ]
  },
  {
   "cell_type": "code",
   "execution_count": 0,
   "metadata": {
    "application/vnd.databricks.v1+cell": {
     "cellMetadata": {},
     "inputWidgets": {},
     "nuid": "61b83f1b-774a-49ce-b2d5-82a0a742fb92",
     "showTitle": false,
     "title": ""
    }
   },
   "outputs": [],
   "source": [
    "# create a running aggregate query - transactions over the last 24 hrs\n",
    "if (enableStreaming):\n",
    "    file_last24Counts = file_events \\\n",
    "        .withWatermark(\"trans_date_trans_time\", \"24 hours\") \\\n",
    "        .groupBy(window(\"trans_date_trans_time\", \"24 hours\", \"24 hours\"), file_events.cc_num) \\\n",
    "        .agg(count(\"*\").alias(\"txns_last_24h\"))"
   ]
  },
  {
   "cell_type": "code",
   "execution_count": 0,
   "metadata": {
    "application/vnd.databricks.v1+cell": {
     "cellMetadata": {},
     "inputWidgets": {},
     "nuid": "7d0445fd-32a3-4dd2-bf4a-b93a8860f41d",
     "showTitle": false,
     "title": ""
    }
   },
   "outputs": [],
   "source": [
    "# sink the aggregates in an in-memory table. That was the only\n",
    "# stable way we found to allow the event stream to join with\n",
    "# the aggregates table\n",
    "if (enableStreaming):\n",
    "    file_last24Counts \\\n",
    "        .writeStream \\\n",
    "        .queryName(\"file_txns_last_24h\") \\\n",
    "        .outputMode(\"complete\") \\\n",
    "        .format(\"memory\") \\\n",
    "        .start()"
   ]
  },
  {
   "cell_type": "code",
   "execution_count": 0,
   "metadata": {
    "application/vnd.databricks.v1+cell": {
     "cellMetadata": {},
     "inputWidgets": {},
     "nuid": "85bffed9-fd7c-431d-b12a-7d2599883cac",
     "showTitle": false,
     "title": ""
    }
   },
   "outputs": [],
   "source": [
    "# join the events and aggregates streamed dataframes\n",
    "if (enableStreaming):\n",
    "    file_events_joined = file_events.join(spark.table(\"file_txns_last_24h\"), [\"window\", \"cc_num\"], \"leftouter\")"
   ]
  },
  {
   "cell_type": "code",
   "execution_count": 0,
   "metadata": {
    "application/vnd.databricks.v1+cell": {
     "cellMetadata": {
      "byteLimit": 2048000,
      "rowLimit": 10000
     },
     "inputWidgets": {},
     "nuid": "d0ce7e79-c3fc-489e-b72d-898d921f4b4f",
     "showTitle": false,
     "title": ""
    }
   },
   "outputs": [],
   "source": [
    "if (enableStreaming):\n",
    "    # make predictions as new batches come in.\n",
    "    # to stop this process, interrupt the kernel with the stop button\n",
    "    file_predStream = model_two.transform(file_events_joined).select(\"trans_date_trans_time\", \n",
    "                                                \"cc_num\", \"amt\", \"prediction\")\n",
    "\n",
    "    # write to console as new batches come in\n",
    "    file_predStream.writeStream.format(\"console\").outputMode(\"append\").start().awaitTermination()"
   ]
  },
  {
   "cell_type": "markdown",
   "metadata": {
    "application/vnd.databricks.v1+cell": {
     "cellMetadata": {},
     "inputWidgets": {},
     "nuid": "f60d287f-8df1-45a5-99bc-08ecc21fc15e",
     "showTitle": false,
     "title": ""
    }
   },
   "source": [
    "## Real Time Prediction Prototype 2 - Streaming from Kafka"
   ]
  },
  {
   "cell_type": "code",
   "execution_count": 28,
   "metadata": {
    "application/vnd.databricks.v1+cell": {
     "cellMetadata": {},
     "inputWidgets": {},
     "nuid": "ca5ffd0a-0f1d-45b2-a4b5-7a514135d2c5",
     "showTitle": false,
     "title": ""
    }
   },
   "outputs": [],
   "source": [
    "# set this to True to enable Kafka streaming\n",
    "\n",
    "enableKafka = True"
   ]
  },
  {
   "cell_type": "code",
   "execution_count": 29,
   "metadata": {
    "application/vnd.databricks.v1+cell": {
     "cellMetadata": {},
     "inputWidgets": {},
     "nuid": "739ac852-1c27-480c-bcfa-7198312323de",
     "showTitle": false,
     "title": ""
    }
   },
   "outputs": [
    {
     "name": "stdout",
     "output_type": "stream",
     "text": [
      "root\n",
      " |-- key: binary (nullable = true)\n",
      " |-- value: binary (nullable = true)\n",
      " |-- topic: string (nullable = true)\n",
      " |-- partition: integer (nullable = true)\n",
      " |-- offset: long (nullable = true)\n",
      " |-- timestamp: timestamp (nullable = true)\n",
      " |-- timestampType: integer (nullable = true)\n",
      "\n"
     ]
    }
   ],
   "source": [
    "# define Kafka event sink\n",
    "\n",
    "if (enableKafka):\n",
    "    df = spark.readStream \\\n",
    "        .format(\"kafka\") \\\n",
    "        .option(\"kafka.bootstrap.servers\", \"localhost:9092\") \\\n",
    "        .option(\"subscribe\", \"cc_fraud_topic\") \\\n",
    "        .load()\n",
    "\n",
    "    # print the schema\n",
    "    df.printSchema()"
   ]
  },
  {
   "cell_type": "code",
   "execution_count": 30,
   "metadata": {
    "application/vnd.databricks.v1+cell": {
     "cellMetadata": {},
     "inputWidgets": {},
     "nuid": "e9946e7d-cae7-48d3-a411-3743f2a61515",
     "showTitle": false,
     "title": ""
    }
   },
   "outputs": [],
   "source": [
    "# cast Kafka's event data from binary to string\n",
    "\n",
    "if (enableKafka):\n",
    "    stringDF = df.selectExpr(\"CAST(value AS STRING)\")"
   ]
  },
  {
   "cell_type": "code",
   "execution_count": 31,
   "metadata": {
    "application/vnd.databricks.v1+cell": {
     "cellMetadata": {},
     "inputWidgets": {},
     "nuid": "3c54dea4-e0af-4247-87f3-7741d61df05e",
     "showTitle": false,
     "title": ""
    }
   },
   "outputs": [],
   "source": [
    "from pyspark.sql.functions import from_csv\n",
    "\n",
    "# define event stream by extracting the event data from Kafka and\n",
    "# parsing it with the schema. The transaction's rolling 24 window \n",
    "# is also added as a feature for future use\n",
    "\n",
    "if (enableKafka):\n",
    "    events = stringDF.select(from_csv(col(\"value\"),ccschema.simpleString()).alias(\"data\")) \\\n",
    "                     .select(\"data.*\") \\\n",
    "                     .withColumn(\"window\", window(\"trans_date_trans_time\", \"24 hours\", \"24 hours\"))"
   ]
  },
  {
   "cell_type": "code",
   "execution_count": 32,
   "metadata": {
    "application/vnd.databricks.v1+cell": {
     "cellMetadata": {},
     "inputWidgets": {},
     "nuid": "e54e9c31-a4bb-4c6c-a803-9dce84bbe6a6",
     "showTitle": false,
     "title": ""
    }
   },
   "outputs": [],
   "source": [
    "# create the aggregate query\n",
    "if (enableKafka):\n",
    "    last24Counts = events\\\n",
    "        .withWatermark(\"trans_date_trans_time\", \"24 hours\") \\\n",
    "        .groupBy(window(\"trans_date_trans_time\", \"24 hours\", \"24 hours\"), events.cc_num) \\\n",
    "        .agg(count(\"*\").alias(\"txns_last_24h\"))"
   ]
  },
  {
   "cell_type": "code",
   "execution_count": 33,
   "metadata": {
    "application/vnd.databricks.v1+cell": {
     "cellMetadata": {},
     "inputWidgets": {},
     "nuid": "dafb55da-cdff-44d0-869b-5b390ba22306",
     "showTitle": false,
     "title": ""
    }
   },
   "outputs": [],
   "source": [
    "# Have all the aggregates in an in-memory table. The query name will be the table name\n",
    "if (enableKafka):\n",
    "    last24Counts \\\n",
    "        .writeStream \\\n",
    "        .queryName(\"txns_last_24h\") \\\n",
    "        .outputMode(\"complete\") \\\n",
    "        .format(\"memory\") \\\n",
    "        .start()"
   ]
  },
  {
   "cell_type": "code",
   "execution_count": 34,
   "metadata": {
    "application/vnd.databricks.v1+cell": {
     "cellMetadata": {},
     "inputWidgets": {},
     "nuid": "94ebf64d-fb55-4395-8261-3f37d989d959",
     "showTitle": false,
     "title": ""
    }
   },
   "outputs": [],
   "source": [
    "# join the aggregate dataframe with the original dataframe\n",
    "\n",
    "if (enableKafka):\n",
    "    events_joined = events.join(spark.table(\"txns_last_24h\"), [\"window\", \"cc_num\"], \"leftouter\")"
   ]
  },
  {
   "cell_type": "code",
   "execution_count": 35,
   "metadata": {
    "application/vnd.databricks.v1+cell": {
     "cellMetadata": {},
     "inputWidgets": {},
     "nuid": "1bdf6918-90d1-4eb2-b44b-dbdd879d1162",
     "showTitle": false,
     "title": ""
    }
   },
   "outputs": [
    {
     "name": "stderr",
     "output_type": "stream",
     "text": [
      "                                                                                \r"
     ]
    },
    {
     "name": "stdout",
     "output_type": "stream",
     "text": [
      "-------------------------------------------\n",
      "Batch: 0\n",
      "-------------------------------------------\n",
      "+---------------------+------+---+----------+\n",
      "|trans_date_trans_time|cc_num|amt|prediction|\n",
      "+---------------------+------+---+----------+\n",
      "+---------------------+------+---+----------+\n",
      "\n"
     ]
    },
    {
     "name": "stderr",
     "output_type": "stream",
     "text": [
      "                                                                                \r"
     ]
    },
    {
     "name": "stdout",
     "output_type": "stream",
     "text": [
      "-------------------------------------------\n",
      "Batch: 1\n",
      "-------------------------------------------\n",
      "+---------------------+----------------+-----+----------+\n",
      "|trans_date_trans_time|          cc_num|  amt|prediction|\n",
      "+---------------------+----------------+-----+----------+\n",
      "|  2023-12-01 10:00:00|4430881574719618|10.12|       0.0|\n",
      "+---------------------+----------------+-----+----------+\n",
      "\n"
     ]
    },
    {
     "name": "stderr",
     "output_type": "stream",
     "text": [
      "                                                                                \r"
     ]
    },
    {
     "name": "stdout",
     "output_type": "stream",
     "text": [
      "-------------------------------------------\n",
      "Batch: 2\n",
      "-------------------------------------------\n",
      "+---------------------+-------------------+-------+----------+\n",
      "|trans_date_trans_time|             cc_num|    amt|prediction|\n",
      "+---------------------+-------------------+-------+----------+\n",
      "|  2023-12-09 23:23:10|4810839835482794272|8040.83|       1.0|\n",
      "+---------------------+-------------------+-------+----------+\n",
      "\n"
     ]
    },
    {
     "name": "stderr",
     "output_type": "stream",
     "text": [
      "23/12/09 22:22:56 ERROR MicroBatchExecution: Query txns_last_24h [id = 98dc1bb0-7dab-4991-ada2-6aaaf9ac33fd, runId = 454ba536-f2b8-434d-89a6-8e3fd783271b] terminated with error\n",
      "java.util.concurrent.ExecutionException: org.apache.kafka.common.errors.TimeoutException: Timed out waiting for a node assignment. Call: describeTopics\n",
      "\tat java.base/java.util.concurrent.CompletableFuture.reportGet(CompletableFuture.java:396)\n",
      "\tat java.base/java.util.concurrent.CompletableFuture.get(CompletableFuture.java:2073)\n",
      "\tat org.apache.kafka.common.internals.KafkaFutureImpl.get(KafkaFutureImpl.java:165)\n",
      "\tat org.apache.spark.sql.kafka010.ConsumerStrategy.retrieveAllPartitions(ConsumerStrategy.scala:66)\n",
      "\tat org.apache.spark.sql.kafka010.ConsumerStrategy.retrieveAllPartitions$(ConsumerStrategy.scala:65)\n",
      "\tat org.apache.spark.sql.kafka010.SubscribeStrategy.retrieveAllPartitions(ConsumerStrategy.scala:102)\n",
      "\tat org.apache.spark.sql.kafka010.SubscribeStrategy.assignedTopicPartitions(ConsumerStrategy.scala:113)\n",
      "\tat org.apache.spark.sql.kafka010.KafkaOffsetReaderAdmin.$anonfun$partitionsAssignedToAdmin$1(KafkaOffsetReaderAdmin.scala:499)\n",
      "\tat org.apache.spark.sql.kafka010.KafkaOffsetReaderAdmin.withRetries(KafkaOffsetReaderAdmin.scala:518)\n",
      "\tat org.apache.spark.sql.kafka010.KafkaOffsetReaderAdmin.partitionsAssignedToAdmin(KafkaOffsetReaderAdmin.scala:498)\n",
      "\tat org.apache.spark.sql.kafka010.KafkaOffsetReaderAdmin.fetchLatestOffsets(KafkaOffsetReaderAdmin.scala:297)\n",
      "\tat org.apache.spark.sql.kafka010.KafkaMicroBatchStream.latestOffset(KafkaMicroBatchStream.scala:130)\n",
      "\tat org.apache.spark.sql.execution.streaming.MicroBatchExecution.$anonfun$constructNextBatch$4(MicroBatchExecution.scala:491)\n",
      "\tat org.apache.spark.sql.execution.streaming.ProgressReporter.reportTimeTaken(ProgressReporter.scala:427)\n",
      "\tat org.apache.spark.sql.execution.streaming.ProgressReporter.reportTimeTaken$(ProgressReporter.scala:425)\n",
      "\tat org.apache.spark.sql.execution.streaming.StreamExecution.reportTimeTaken(StreamExecution.scala:67)\n",
      "\tat org.apache.spark.sql.execution.streaming.MicroBatchExecution.$anonfun$constructNextBatch$2(MicroBatchExecution.scala:490)\n",
      "\tat scala.collection.TraversableLike.$anonfun$map$1(TraversableLike.scala:286)\n",
      "\tat scala.collection.Iterator.foreach(Iterator.scala:943)\n",
      "\tat scala.collection.Iterator.foreach$(Iterator.scala:943)\n",
      "\tat scala.collection.AbstractIterator.foreach(Iterator.scala:1431)\n",
      "\tat scala.collection.IterableLike.foreach(IterableLike.scala:74)\n",
      "\tat scala.collection.IterableLike.foreach$(IterableLike.scala:73)\n",
      "\tat scala.collection.AbstractIterable.foreach(Iterable.scala:56)\n",
      "\tat scala.collection.TraversableLike.map(TraversableLike.scala:286)\n",
      "\tat scala.collection.TraversableLike.map$(TraversableLike.scala:279)\n",
      "\tat scala.collection.AbstractTraversable.map(Traversable.scala:108)\n",
      "\tat org.apache.spark.sql.execution.streaming.MicroBatchExecution.$anonfun$constructNextBatch$1(MicroBatchExecution.scala:479)\n",
      "\tat scala.runtime.java8.JFunction0$mcZ$sp.apply(JFunction0$mcZ$sp.java:23)\n",
      "\tat org.apache.spark.sql.execution.streaming.MicroBatchExecution.withProgressLocked(MicroBatchExecution.scala:810)\n",
      "\tat org.apache.spark.sql.execution.streaming.MicroBatchExecution.constructNextBatch(MicroBatchExecution.scala:475)\n",
      "\tat org.apache.spark.sql.execution.streaming.MicroBatchExecution.$anonfun$runActivatedStream$2(MicroBatchExecution.scala:268)\n",
      "\tat scala.runtime.java8.JFunction0$mcV$sp.apply(JFunction0$mcV$sp.java:23)\n",
      "\tat org.apache.spark.sql.execution.streaming.ProgressReporter.reportTimeTaken(ProgressReporter.scala:427)\n",
      "\tat org.apache.spark.sql.execution.streaming.ProgressReporter.reportTimeTaken$(ProgressReporter.scala:425)\n",
      "\tat org.apache.spark.sql.execution.streaming.StreamExecution.reportTimeTaken(StreamExecution.scala:67)\n",
      "\tat org.apache.spark.sql.execution.streaming.MicroBatchExecution.$anonfun$runActivatedStream$1(MicroBatchExecution.scala:249)\n",
      "\tat org.apache.spark.sql.execution.streaming.ProcessingTimeExecutor.execute(TriggerExecutor.scala:67)\n",
      "\tat org.apache.spark.sql.execution.streaming.MicroBatchExecution.runActivatedStream(MicroBatchExecution.scala:239)\n",
      "\tat org.apache.spark.sql.execution.streaming.StreamExecution.$anonfun$runStream$1(StreamExecution.scala:311)\n",
      "\tat scala.runtime.java8.JFunction0$mcV$sp.apply(JFunction0$mcV$sp.java:23)\n",
      "\tat org.apache.spark.sql.SparkSession.withActive(SparkSession.scala:900)\n",
      "\tat org.apache.spark.sql.execution.streaming.StreamExecution.org$apache$spark$sql$execution$streaming$StreamExecution$$runStream(StreamExecution.scala:289)\n",
      "\tat org.apache.spark.sql.execution.streaming.StreamExecution$$anon$1.$anonfun$run$1(StreamExecution.scala:211)\n",
      "\tat scala.runtime.java8.JFunction0$mcV$sp.apply(JFunction0$mcV$sp.java:23)\n",
      "\tat org.apache.spark.JobArtifactSet$.withActiveJobArtifactState(JobArtifactSet.scala:94)\n",
      "\tat org.apache.spark.sql.execution.streaming.StreamExecution$$anon$1.run(StreamExecution.scala:211)\n",
      "Caused by: org.apache.kafka.common.errors.TimeoutException: Timed out waiting for a node assignment. Call: describeTopics\n",
      "23/12/09 22:22:56 ERROR MicroBatchExecution: Query [id = d7b9566f-d34b-4905-a4bd-856b44cf19dc, runId = 55c42790-8189-4021-9940-30d3aa012931] terminated with error\n",
      "java.util.concurrent.ExecutionException: org.apache.kafka.common.errors.TimeoutException: Timed out waiting for a node assignment. Call: describeTopics\n",
      "\tat java.base/java.util.concurrent.CompletableFuture.reportGet(CompletableFuture.java:396)\n",
      "\tat java.base/java.util.concurrent.CompletableFuture.get(CompletableFuture.java:2073)\n",
      "\tat org.apache.kafka.common.internals.KafkaFutureImpl.get(KafkaFutureImpl.java:165)\n",
      "\tat org.apache.spark.sql.kafka010.ConsumerStrategy.retrieveAllPartitions(ConsumerStrategy.scala:66)\n",
      "\tat org.apache.spark.sql.kafka010.ConsumerStrategy.retrieveAllPartitions$(ConsumerStrategy.scala:65)\n",
      "\tat org.apache.spark.sql.kafka010.SubscribeStrategy.retrieveAllPartitions(ConsumerStrategy.scala:102)\n",
      "\tat org.apache.spark.sql.kafka010.SubscribeStrategy.assignedTopicPartitions(ConsumerStrategy.scala:113)\n",
      "\tat org.apache.spark.sql.kafka010.KafkaOffsetReaderAdmin.$anonfun$partitionsAssignedToAdmin$1(KafkaOffsetReaderAdmin.scala:499)\n",
      "\tat org.apache.spark.sql.kafka010.KafkaOffsetReaderAdmin.withRetries(KafkaOffsetReaderAdmin.scala:518)\n",
      "\tat org.apache.spark.sql.kafka010.KafkaOffsetReaderAdmin.partitionsAssignedToAdmin(KafkaOffsetReaderAdmin.scala:498)\n",
      "\tat org.apache.spark.sql.kafka010.KafkaOffsetReaderAdmin.fetchLatestOffsets(KafkaOffsetReaderAdmin.scala:297)\n",
      "\tat org.apache.spark.sql.kafka010.KafkaMicroBatchStream.latestOffset(KafkaMicroBatchStream.scala:130)\n",
      "\tat org.apache.spark.sql.execution.streaming.MicroBatchExecution.$anonfun$constructNextBatch$4(MicroBatchExecution.scala:491)\n",
      "\tat org.apache.spark.sql.execution.streaming.ProgressReporter.reportTimeTaken(ProgressReporter.scala:427)\n",
      "\tat org.apache.spark.sql.execution.streaming.ProgressReporter.reportTimeTaken$(ProgressReporter.scala:425)\n",
      "\tat org.apache.spark.sql.execution.streaming.StreamExecution.reportTimeTaken(StreamExecution.scala:67)\n",
      "\tat org.apache.spark.sql.execution.streaming.MicroBatchExecution.$anonfun$constructNextBatch$2(MicroBatchExecution.scala:490)\n",
      "\tat scala.collection.TraversableLike.$anonfun$map$1(TraversableLike.scala:286)\n",
      "\tat scala.collection.Iterator.foreach(Iterator.scala:943)\n",
      "\tat scala.collection.Iterator.foreach$(Iterator.scala:943)\n",
      "\tat scala.collection.AbstractIterator.foreach(Iterator.scala:1431)\n",
      "\tat scala.collection.IterableLike.foreach(IterableLike.scala:74)\n",
      "\tat scala.collection.IterableLike.foreach$(IterableLike.scala:73)\n",
      "\tat scala.collection.AbstractIterable.foreach(Iterable.scala:56)\n",
      "\tat scala.collection.TraversableLike.map(TraversableLike.scala:286)\n",
      "\tat scala.collection.TraversableLike.map$(TraversableLike.scala:279)\n",
      "\tat scala.collection.AbstractTraversable.map(Traversable.scala:108)\n",
      "\tat org.apache.spark.sql.execution.streaming.MicroBatchExecution.$anonfun$constructNextBatch$1(MicroBatchExecution.scala:479)\n",
      "\tat scala.runtime.java8.JFunction0$mcZ$sp.apply(JFunction0$mcZ$sp.java:23)\n",
      "\tat org.apache.spark.sql.execution.streaming.MicroBatchExecution.withProgressLocked(MicroBatchExecution.scala:810)\n",
      "\tat org.apache.spark.sql.execution.streaming.MicroBatchExecution.constructNextBatch(MicroBatchExecution.scala:475)\n",
      "\tat org.apache.spark.sql.execution.streaming.MicroBatchExecution.$anonfun$runActivatedStream$2(MicroBatchExecution.scala:268)\n",
      "\tat scala.runtime.java8.JFunction0$mcV$sp.apply(JFunction0$mcV$sp.java:23)\n",
      "\tat org.apache.spark.sql.execution.streaming.ProgressReporter.reportTimeTaken(ProgressReporter.scala:427)\n",
      "\tat org.apache.spark.sql.execution.streaming.ProgressReporter.reportTimeTaken$(ProgressReporter.scala:425)\n",
      "\tat org.apache.spark.sql.execution.streaming.StreamExecution.reportTimeTaken(StreamExecution.scala:67)\n",
      "\tat org.apache.spark.sql.execution.streaming.MicroBatchExecution.$anonfun$runActivatedStream$1(MicroBatchExecution.scala:249)\n",
      "\tat org.apache.spark.sql.execution.streaming.ProcessingTimeExecutor.execute(TriggerExecutor.scala:67)\n",
      "\tat org.apache.spark.sql.execution.streaming.MicroBatchExecution.runActivatedStream(MicroBatchExecution.scala:239)\n",
      "\tat org.apache.spark.sql.execution.streaming.StreamExecution.$anonfun$runStream$1(StreamExecution.scala:311)\n",
      "\tat scala.runtime.java8.JFunction0$mcV$sp.apply(JFunction0$mcV$sp.java:23)\n",
      "\tat org.apache.spark.sql.SparkSession.withActive(SparkSession.scala:900)\n",
      "\tat org.apache.spark.sql.execution.streaming.StreamExecution.org$apache$spark$sql$execution$streaming$StreamExecution$$runStream(StreamExecution.scala:289)\n",
      "\tat org.apache.spark.sql.execution.streaming.StreamExecution$$anon$1.$anonfun$run$1(StreamExecution.scala:211)\n",
      "\tat scala.runtime.java8.JFunction0$mcV$sp.apply(JFunction0$mcV$sp.java:23)\n",
      "\tat org.apache.spark.JobArtifactSet$.withActiveJobArtifactState(JobArtifactSet.scala:94)\n",
      "\tat org.apache.spark.sql.execution.streaming.StreamExecution$$anon$1.run(StreamExecution.scala:211)\n",
      "Caused by: org.apache.kafka.common.errors.TimeoutException: Timed out waiting for a node assignment. Call: describeTopics\n"
     ]
    },
    {
     "ename": "StreamingQueryException",
     "evalue": "[STREAM_FAILED] Query [id = d7b9566f-d34b-4905-a4bd-856b44cf19dc, runId = 55c42790-8189-4021-9940-30d3aa012931] terminated with exception: org.apache.kafka.common.errors.TimeoutException: Timed out waiting for a node assignment. Call: describeTopics",
     "output_type": "error",
     "traceback": [
      "\u001b[0;31m---------------------------------------------------------------------------\u001b[0m",
      "\u001b[0;31mStreamingQueryException\u001b[0m                   Traceback (most recent call last)",
      "Cell \u001b[0;32mIn[35], line 8\u001b[0m\n\u001b[1;32m      4\u001b[0m predStream \u001b[38;5;241m=\u001b[39m model\u001b[38;5;241m.\u001b[39mtransform(events_joined)\u001b[38;5;241m.\u001b[39mselect(\u001b[38;5;124m\"\u001b[39m\u001b[38;5;124mtrans_date_trans_time\u001b[39m\u001b[38;5;124m\"\u001b[39m, \n\u001b[1;32m      5\u001b[0m                                             \u001b[38;5;124m\"\u001b[39m\u001b[38;5;124mcc_num\u001b[39m\u001b[38;5;124m\"\u001b[39m, \u001b[38;5;124m\"\u001b[39m\u001b[38;5;124mamt\u001b[39m\u001b[38;5;124m\"\u001b[39m, \u001b[38;5;124m\"\u001b[39m\u001b[38;5;124mprediction\u001b[39m\u001b[38;5;124m\"\u001b[39m)\n\u001b[1;32m      7\u001b[0m \u001b[38;5;66;03m# write to console as new batches come in\u001b[39;00m\n\u001b[0;32m----> 8\u001b[0m \u001b[43mpredStream\u001b[49m\u001b[38;5;241;43m.\u001b[39;49m\u001b[43mwriteStream\u001b[49m\u001b[38;5;241;43m.\u001b[39;49m\u001b[43mformat\u001b[49m\u001b[43m(\u001b[49m\u001b[38;5;124;43m\"\u001b[39;49m\u001b[38;5;124;43mconsole\u001b[39;49m\u001b[38;5;124;43m\"\u001b[39;49m\u001b[43m)\u001b[49m\u001b[38;5;241;43m.\u001b[39;49m\u001b[43moutputMode\u001b[49m\u001b[43m(\u001b[49m\u001b[38;5;124;43m\"\u001b[39;49m\u001b[38;5;124;43mappend\u001b[39;49m\u001b[38;5;124;43m\"\u001b[39;49m\u001b[43m)\u001b[49m\u001b[38;5;241;43m.\u001b[39;49m\u001b[43mstart\u001b[49m\u001b[43m(\u001b[49m\u001b[43m)\u001b[49m\u001b[38;5;241;43m.\u001b[39;49m\u001b[43mawaitTermination\u001b[49m\u001b[43m(\u001b[49m\u001b[43m)\u001b[49m\n",
      "File \u001b[0;32m/usr/local/Cellar/apache-spark/3.5.0/libexec/python/pyspark/sql/streaming/query.py:221\u001b[0m, in \u001b[0;36mStreamingQuery.awaitTermination\u001b[0;34m(self, timeout)\u001b[0m\n\u001b[1;32m    219\u001b[0m     \u001b[38;5;28;01mreturn\u001b[39;00m \u001b[38;5;28mself\u001b[39m\u001b[38;5;241m.\u001b[39m_jsq\u001b[38;5;241m.\u001b[39mawaitTermination(\u001b[38;5;28mint\u001b[39m(timeout \u001b[38;5;241m*\u001b[39m \u001b[38;5;241m1000\u001b[39m))\n\u001b[1;32m    220\u001b[0m \u001b[38;5;28;01melse\u001b[39;00m:\n\u001b[0;32m--> 221\u001b[0m     \u001b[38;5;28;01mreturn\u001b[39;00m \u001b[38;5;28;43mself\u001b[39;49m\u001b[38;5;241;43m.\u001b[39;49m\u001b[43m_jsq\u001b[49m\u001b[38;5;241;43m.\u001b[39;49m\u001b[43mawaitTermination\u001b[49m\u001b[43m(\u001b[49m\u001b[43m)\u001b[49m\n",
      "File \u001b[0;32m/usr/local/Cellar/apache-spark/3.5.0/libexec/python/lib/py4j-0.10.9.7-src.zip/py4j/java_gateway.py:1322\u001b[0m, in \u001b[0;36mJavaMember.__call__\u001b[0;34m(self, *args)\u001b[0m\n\u001b[1;32m   1316\u001b[0m command \u001b[38;5;241m=\u001b[39m proto\u001b[38;5;241m.\u001b[39mCALL_COMMAND_NAME \u001b[38;5;241m+\u001b[39m\\\n\u001b[1;32m   1317\u001b[0m     \u001b[38;5;28mself\u001b[39m\u001b[38;5;241m.\u001b[39mcommand_header \u001b[38;5;241m+\u001b[39m\\\n\u001b[1;32m   1318\u001b[0m     args_command \u001b[38;5;241m+\u001b[39m\\\n\u001b[1;32m   1319\u001b[0m     proto\u001b[38;5;241m.\u001b[39mEND_COMMAND_PART\n\u001b[1;32m   1321\u001b[0m answer \u001b[38;5;241m=\u001b[39m \u001b[38;5;28mself\u001b[39m\u001b[38;5;241m.\u001b[39mgateway_client\u001b[38;5;241m.\u001b[39msend_command(command)\n\u001b[0;32m-> 1322\u001b[0m return_value \u001b[38;5;241m=\u001b[39m \u001b[43mget_return_value\u001b[49m\u001b[43m(\u001b[49m\n\u001b[1;32m   1323\u001b[0m \u001b[43m    \u001b[49m\u001b[43manswer\u001b[49m\u001b[43m,\u001b[49m\u001b[43m \u001b[49m\u001b[38;5;28;43mself\u001b[39;49m\u001b[38;5;241;43m.\u001b[39;49m\u001b[43mgateway_client\u001b[49m\u001b[43m,\u001b[49m\u001b[43m \u001b[49m\u001b[38;5;28;43mself\u001b[39;49m\u001b[38;5;241;43m.\u001b[39;49m\u001b[43mtarget_id\u001b[49m\u001b[43m,\u001b[49m\u001b[43m \u001b[49m\u001b[38;5;28;43mself\u001b[39;49m\u001b[38;5;241;43m.\u001b[39;49m\u001b[43mname\u001b[49m\u001b[43m)\u001b[49m\n\u001b[1;32m   1325\u001b[0m \u001b[38;5;28;01mfor\u001b[39;00m temp_arg \u001b[38;5;129;01min\u001b[39;00m temp_args:\n\u001b[1;32m   1326\u001b[0m     \u001b[38;5;28;01mif\u001b[39;00m \u001b[38;5;28mhasattr\u001b[39m(temp_arg, \u001b[38;5;124m\"\u001b[39m\u001b[38;5;124m_detach\u001b[39m\u001b[38;5;124m\"\u001b[39m):\n",
      "File \u001b[0;32m/usr/local/Cellar/apache-spark/3.5.0/libexec/python/pyspark/errors/exceptions/captured.py:185\u001b[0m, in \u001b[0;36mcapture_sql_exception.<locals>.deco\u001b[0;34m(*a, **kw)\u001b[0m\n\u001b[1;32m    181\u001b[0m converted \u001b[38;5;241m=\u001b[39m convert_exception(e\u001b[38;5;241m.\u001b[39mjava_exception)\n\u001b[1;32m    182\u001b[0m \u001b[38;5;28;01mif\u001b[39;00m \u001b[38;5;129;01mnot\u001b[39;00m \u001b[38;5;28misinstance\u001b[39m(converted, UnknownException):\n\u001b[1;32m    183\u001b[0m     \u001b[38;5;66;03m# Hide where the exception came from that shows a non-Pythonic\u001b[39;00m\n\u001b[1;32m    184\u001b[0m     \u001b[38;5;66;03m# JVM exception message.\u001b[39;00m\n\u001b[0;32m--> 185\u001b[0m     \u001b[38;5;28;01mraise\u001b[39;00m converted \u001b[38;5;28;01mfrom\u001b[39;00m \u001b[38;5;28;01mNone\u001b[39;00m\n\u001b[1;32m    186\u001b[0m \u001b[38;5;28;01melse\u001b[39;00m:\n\u001b[1;32m    187\u001b[0m     \u001b[38;5;28;01mraise\u001b[39;00m\n",
      "\u001b[0;31mStreamingQueryException\u001b[0m: [STREAM_FAILED] Query [id = d7b9566f-d34b-4905-a4bd-856b44cf19dc, runId = 55c42790-8189-4021-9940-30d3aa012931] terminated with exception: org.apache.kafka.common.errors.TimeoutException: Timed out waiting for a node assignment. Call: describeTopics"
     ]
    }
   ],
   "source": [
    "if (enableKafka):\n",
    "    # make predictions as new batches come in.\n",
    "    # to stop this process, interrupt the kernel with the stop button\n",
    "    predStream = model.transform(events_joined).select(\"trans_date_trans_time\", \n",
    "                                                \"cc_num\", \"amt\", \"prediction\")\n",
    "\n",
    "    # write to console as new batches come in\n",
    "    predStream.writeStream.format(\"console\").outputMode(\"append\").start().awaitTermination()"
   ]
  },
  {
   "cell_type": "code",
   "execution_count": null,
   "metadata": {},
   "outputs": [],
   "source": []
  }
 ],
 "metadata": {
  "application/vnd.databricks.v1+notebook": {
   "dashboards": [],
   "language": "python",
   "notebookMetadata": {
    "pythonIndentUnit": 4
   },
   "notebookName": "shared_cc_fraud_detection",
   "widgets": {}
  },
  "kernelspec": {
   "display_name": "Python 3 (ipykernel)",
   "language": "python",
   "name": "python3"
  },
  "language_info": {
   "codemirror_mode": {
    "name": "ipython",
    "version": 3
   },
   "file_extension": ".py",
   "mimetype": "text/x-python",
   "name": "python",
   "nbconvert_exporter": "python",
   "pygments_lexer": "ipython3",
   "version": "3.10.9"
  }
 },
 "nbformat": 4,
 "nbformat_minor": 1
}
